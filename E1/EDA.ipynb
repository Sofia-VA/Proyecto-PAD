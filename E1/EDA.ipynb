{
 "cells": [
  {
   "cell_type": "markdown",
   "metadata": {},
   "source": [
    "> # Proyecto Entrega 1\n",
    "> ##### &nbsp;&nbsp;&nbsp;&nbsp; Análisis Exploratorio Univariado\n",
    "> - **Fecha**: X/X/2023  |  ITESO  \n",
    "> - **Materia**: Programación para el Análisis de Datos\n",
    "> - **Alumnos**: \n",
    ">    - Gabriel\n",
    ">    - Michelle\n",
    ">    - Miguel Mario Méndez Alcaráz is727312\n",
    ">    - Sofía Vargas Aceves is77375  \n",
    ">  <br>"
   ]
  },
  {
   "cell_type": "code",
   "execution_count": null,
   "metadata": {},
   "outputs": [],
   "source": []
  },
  {
   "cell_type": "markdown",
   "metadata": {},
   "source": [
    "Renombrar\n",
    "\n",
    "Listas nominales ordinales intervalo razón\n"
   ]
  },
  {
   "cell_type": "markdown",
   "metadata": {},
   "source": []
  }
 ],
 "metadata": {
  "language_info": {
   "name": "python"
  },
  "orig_nbformat": 4
 },
 "nbformat": 4,
 "nbformat_minor": 2
}
