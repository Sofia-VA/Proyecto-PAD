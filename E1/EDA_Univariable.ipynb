{
 "cells": [
  {
   "cell_type": "markdown",
   "metadata": {},
   "source": [
    "> # Proyecto Entrega 1\n",
    "> ##### &nbsp;&nbsp;&nbsp;&nbsp; Análisis Exploratorio Univariado\n",
    "> - **Fecha**: 18/09/2023  |  ITESO  \n",
    "> - **Materia**: Programación para el Análisis de Datos\n",
    "> - **Alumnos**: \n",
    ">    - Gabriel Alejandro Olvera González is734604\n",
    ">    - Michelle Figueroa Jacques is727328\n",
    ">    - Miguel Mario Méndez Alcaráz is2\n",
    ">    - Sofía Vargas Aceves is77375  \n",
    ">  <br>"
   ]
  },
  {
   "cell_type": "markdown",
   "metadata": {},
   "source": [
    "## Descripción del DataSet\n",
    "Este Dataset es proporcionado por el CONEVAL, e incluye datos de la pobreza en México 2022. \n",
    "El dataset es el resultado de entrevistas a familias mexicanas de bajos recursos con el propósito de analizar los factores determinantes de la pobreza en México. Contiene una amplia gama de variables que abarcan desde identificadores de viviendas, hogares y personas, hasta información demográfica, socioeconómica y de calidad de vida. Estas variables incluyen datos sobre educación, acceso a servicios de salud y seguridad social, condiciones de vivienda, ingresos, programas sociales, población vulnerable y discapacitada, entre otros. Este conjunto de datos proporciona una visión completa de las condiciones de vida de estas familias y es valioso para la formulación de políticas públicas y programas de desarrollo destinados a combatir la pobreza en México.​\n",
    "\n",
    "+ Columnas: Cuenta con 79 columnas de información del encuestado e índices calculados por el CONEVAL.\n",
    "+ Filas: Hay 309,534, indicando que este es el tamaño de la población encuestada\n",
    "+ Los datos van de acuerdo con el descriptor de la base de la ENIGH 2022 del INEGI.\n",
    "\n",
    "#### Unidad de observación\n",
    "Cada fila de la tabla...  \n",
    ">  <br>  \n",
    ">  Encuestado dentro de familia de bajos recursos en México 2022\n",
    ">  <br> \n",
    ">   <br>      \n",
    "\n",
    "#### Bibliografía\n",
    "+  CONEVAL (2022). Medición de Pobreza Multidimensional Mexico 2022​. https://www.kaggle.com/datasets/davidmaldonadoc/2022-mexicos-poverty-survey?resource=download ​\n"
   ]
  },
  {
   "cell_type": "markdown",
   "metadata": {},
   "source": [
    "## Variables"
   ]
  },
  {
   "cell_type": "markdown",
   "metadata": {},
   "source": [
    "### Llaves"
   ]
  },
  {
   "cell_type": "markdown",
   "metadata": {},
   "source": [
    "| __ID__ | __Rango__ | __Tipo__ | __Descripción__ |\n",
    "| --- | --- | --- | --- | \n",
    "| folioviv  | {100005002,3260797912} | nominal   | Identificador de la vivienda\n",
    "| foliohog  | {1, 5}                 | nominal   | Identificador del hogar\n",
    "| numren    | {1, 19}                | ordinal   | Identificador de la persona"
   ]
  },
  {
   "cell_type": "markdown",
   "metadata": {},
   "source": [
    "### De estadística"
   ]
  },
  {
   "cell_type": "markdown",
   "metadata": {},
   "source": [
    "| __ID__ | __Rango__ | __Tipo__ | __Descripción__ | __Categorías__\n",
    "| --- | --- | --- | --- | --- |\n",
    "| ent       | {1, 32}       | nominal   | Identificador de la entidad federativa\n",
    "| est_dis   | {1, 560}      | nominal   |  Estrato de diseño \n",
    "| factor    | {6, 6470}     |           | Factor de expansión\n",
    "| rururb    | {0,1}         | nominal   | Identificador de localidades rurales      | 0)Urbana 1)Rural\n",
    "| tam_loc   | {1, 4}        | ordinal   | Tamaño de la localidad                    | 1)>= 100k ,  2)[15k,100k) ,  3)[2.5k,15k) ,  4)<2.5k\n",
    "| ubica_geo | {1001, 32057} |           | Ubicación geográfica\n",
    "| upm       | {1, 10232}    | nominal   | Unidad primaria de muestreo    "
   ]
  },
  {
   "cell_type": "markdown",
   "metadata": {},
   "source": [
    "### Información del encuestado"
   ]
  },
  {
   "cell_type": "markdown",
   "metadata": {},
   "source": [
    "#### Información personal"
   ]
  },
  {
   "cell_type": "markdown",
   "metadata": {},
   "source": [
    "\n",
    "| __ID__ | __Rango__ | __Tipo__ | __Descripción__ | __Categorías__\n",
    "| --- | --- | --- | --- | --- |\n",
    "| anac      | {1913,2022}   | razón     | Año de nacimiento\n",
    "| discap    | {0,1}         | nominal   | Población con presencia de discapacidad física o mental | 0)Sin 1)Con\n",
    "| edad      | {0, 109}      | intervalo | Edad reportada al momento de la entrevista\n",
    "| jub       | {0,1}         | nominal   | Población pensionada o jubilada           | 0)No 1)Sí\n",
    "| hli       | {0,1}         | nominal   | Hablante de lengua indígena               | 0)No 1)Sí\n",
    "| ed_inas*  | {0,1}         | nominal   | Inasistencia a la escuela                 | 0)Sí asiste 1)No asiste\n",
    "| ed_niv* | {0,3} | ordinal | Nivel educativo | 0)<Primaria , 1)[Primaria,Secundaria) , 2)[Secundaria,Media superior) , 3)[Media superior,Mayor nivel educativo]\n",
    "| p_menor*  | {0,1}         | nominal   | Hogares con población de 0 a 17 años      | 0)Sin menores 1)Con menores\n",
    "| pam       | {0,1}         | nominal   | Programa de adultos mayores               | 0)No recibe 1)Sí recibe\n",
    "| sexo      | {1,2}         | nominal   | Sexo                                      | 1)Masculino 2)Femenino\n",
    "| tamhogesc | {1, 16.60}    | razón     | Tamaño del hogar ajustado                 \n",
    "| par       | {1,6}         | nominal   | Integrantes que tienen acceso por otros miembros  | TODO \n",
    "| parentesco| {101,623}     | TODO\n"
   ]
  },
  {
   "cell_type": "markdown",
   "metadata": {},
   "source": [
    "#### Información de salud y seguro"
   ]
  },
  {
   "cell_type": "markdown",
   "metadata": {},
   "source": [
    "\n",
    "| __ID__ | __Rango__ | __Tipo__ | __Descripción__ | __Categorías__\n",
    "| --- | --- | --- | --- | --- |\n",
    "| ali_ins   | {0,3} | ordinal | Grado de Inseguridad Alimentaria | 0)Seguridad alimentaria 1)Inseguridad leve 2)Inseguridad moderada 3)Inseguridad severa\n",
    "| ali_lim*  | {0,1}         | nominal   | Limitación en el consumo de alimentos                      | 0)No limitado 1)Limitado\n",
    "| ali_dieta* | {1,3}         | ordinal   | Dieta consumida en los hogares                             | 1)Pobre 2)Limítrofe 3) Aceptable\n",
    "| s_salud   | {0,1}         | nominal   | Servicios médicos por otros núcleos familiares o por contratación propia | 0)No cuenta 1)Sí cuenta\n",
    "| sa_dir    | {0,1}         | nominal   | Acceso directo a servicios de salud       | 0)Sin acceso 1)Con acceso\n",
    "| ss_dir    | {0,1}         | nominal   | Acceso directo a seguridad social         | 0)Sin acceso 1)Con acceso\n",
    "| ss_jef*   | {0,1}         | nominal   | Acceso directo a seguridad social de jefatura del hogar| 0)No cuenta 1)Sí cuenta\n",
    "| ss_cony*  | {0,1}         | nominal   | Acceso directo a seguridad social de cónyugue de jefatura del hogar| 0)No cuenta 1)Sí cuenta\n",
    "| ss_hijo*  | {0,1}         | nominal   | Acceso directo a seguridad social de hijo de jefatura del hogar| 0)No cuenta 1)Sí cuenta\n"
   ]
  },
  {
   "cell_type": "markdown",
   "metadata": {},
   "source": [
    "#### Información económica"
   ]
  },
  {
   "cell_type": "markdown",
   "metadata": {},
   "source": [
    "\n",
    "| __ID__ | __Rango__ | __Tipo__ | __Descripción__ | __Categorías__\n",
    "| --- | --- | --- | --- | --- |\n",
    "| ing_t* | {0, 2444444.2} | intervalo | Ingreso corriente total del hogar \n",
    "| ing_t_pc* | {0, 1057393.8} | intervalo | Ingreso corriente total per cápita\n",
    "| ing_mon   | {0, 2444444.2} | intervalo | Ingreso corriente monetario del hogar\n",
    "| ing_lab   | {0, 2444444.2} | intervalo | Ingreso corriente monetario laboral\n",
    "| ing_ren   | {0, 252623.5}  | intervalo | Ingreso corriente monetario por rentas\n",
    "| ing_tra   | {0, 238695.17} | intervalo | Ingreso corriente monetario por transferencias\n",
    "| ing_nomon* | {0, 1012431.1} | intervalo | Ingreso corriente no monetario\n",
    "| ing_pago_esp* | {0, 1012431.1} | intervalo | Ingreso corriente no monetario pago especie\n",
    "| ing_reg_esp   | {0, 326264.29} | intervalo | Ingreso corriente no monetario regalos especie\n",
    "| ing_pam*   | {0, 14525.06}  | intervalo | Ingreso promedio mensual por programas de adultos mayores \n",
    "| pea       | {0,2}          | nominal   | Población económicamente activa           | 0)PNEA 1)PEA:Ocupada 2)PEA:Desocupada  \n"
   ]
  },
  {
   "cell_type": "markdown",
   "metadata": {},
   "source": [
    "### Indicadores y Escalas"
   ]
  },
  {
   "cell_type": "markdown",
   "metadata": {},
   "source": [
    "#### Indicadores de carencias"
   ]
  },
  {
   "cell_type": "markdown",
   "metadata": {},
   "source": [
    "\n",
    "| __ID__ | __Rango__ | __Tipo__ | __Descripción__ | __Categorías__\n",
    "| --- | --- | --- | --- | --- |\n",
    "| ic_1*     | {0, 1}        | nominal   | Población con al menos una carencia social                 | 0)Sin carencias 1)Con al menos una carencia\n",
    "| ic_3*     | {0, 1}        | nominal   | Población con al menos tres carencias sociales             | 0)Sin carencias 1)Con al menos 3 carencias\n",
    "| ic_ali*   | {0,1}         | nominal   | Por acceso a la alimentación         | 0)No presenta carencia 1)Presenta carencia\n",
    "| ic_ali_nc*   | {0,1}         | nominal | Por acceso a alimentación nutritiva de calidad | 0)No presenta carencia 1)Presenta carencia\n",
    "| ic_asalud | {0,1}         | nominal   | Por acceso a servicios de salud      | 0)No presenta carencia 1)Presenta carencia\n",
    "| ic_rezedu | {0,1}         | nominal   | Indicador de rezago educativo                              | 0)No hay rezago        1)Presenta rezago\n",
    "| ic_segsoc | {0,1}         | nominal   | Por acceso a seguridad social        | 0)No presenta carencia 1)Presenta carencia\n",
    "| icv*      | {0,1}         | nominal   | Por calidad y espacios de vivienda   | 0)No presenta carencia 1)Presenta carencia\n",
    "| icv_pisos | {0,1}         | nominal   | Por material de piso de vivienda     | 0)No presenta carencia 1)Presenta carencia\n",
    "| icv_muros | {0,1}         | nominal   | Por material de muros de vivienda    | 0)No presenta carencia 1)Presenta carencia\n",
    "| icv_techos| {0,1}         | nominal   | Por material de techos de vivienda   | 0)No presenta carencia 1)Presenta carencia\n",
    "| icv_hac   | {0,1}         | nominal   | Por hacinamiento de piso de vivienda | 0)No presenta carencia 1)Presenta carencia\n",
    "| icsb*     | {0,1}         | nominal   | Por acceso a servivios básicos de vivienda | 0)No presenta carencia 1)Presenta carencia\n",
    "| icsb_agua*| {0,1}         | nominal   | Por acceso al agua                   | 0)No presenta carencia 1)Presenta carencia\n",
    "| icsb_dren*| {0,1}         | nominal   | Por servicio de drenaje              | 0)No presenta carencia 1)Presenta carencia\n",
    "| icsb_luz* | {0,1}         | nominal   | Por servicios de electricidad        | 0)No presenta carencia 1)Presenta carencia\n",
    "| icsb_comb*| {0,1}         | nominal   | Por combustible para cocinar         | 0)No presenta carencia 1)Presenta carencia\n"
   ]
  },
  {
   "cell_type": "markdown",
   "metadata": {},
   "source": [
    "#### Otros indicadores y escalas"
   ]
  },
  {
   "cell_type": "markdown",
   "metadata": {},
   "source": [
    "\n",
    "| __ID__ | __Rango__ | __Tipo__ | __Descripción__ | __Categorías__\n",
    "| --- | --- | --- | --- | --- |\n",
    "| cuadrantes | {1,4}        | nominal | Cuadrantes de bienestar económico y derechos sociales | 1)Pobres 2)Vulnerabes por carencia 3)Vulnerables por ingresos 4)No pobres y no vulnerables\n",
    "| ia_adulto*    | {0, 6}    |         | Escala de IA para hogares sin menores de 18 años\n",
    "| ia_menor*     | {0, 12}   |         | Escala de IA para hogares con menores de 18 años\n",
    "| int_pob       | {0, 1}    |         | Intensidad de la privación social: en situación de pobreza\n",
    "| int_pobe      | {0, 1}    |         | Intensidad de la privación social: en situación de pobreza extrema\n",
    "| int_vul_ic    | {0, 1}    |         | Intensidad de la privación social: población vulnerable por carencias\n",
    "| int_ic        | {0, 1}    |         | Intensidad de la privación social: población vulnerable por carencias sociales    \n",
    "| pobreza       | {0,1}     | nominal | Pobreza                                                                     | 0)No 1) Sí\n",
    "| pobreza_ing*  | {0,1}     | nominal | Población con ingreso menor a la línea de pobreza extrema por ingresos      | 0)>=línea 1)<línea\n",
    "| pobreza_prof* | {0, 1}    |         | Índice FGT con alfa igual a 1 (línea de pobreza por ingresos)\n",
    "| pobreza_e       | {0,1}     | nominal   | Pobreza extrema                                                             | 0)No 1) Sí\n",
    "| pobreza_e_ing*  | {0,1}     | nominal   | Población con ingreso menor a la línea de pobreza extrema por ingresos      | 0)>=línea 1)<línea\n",
    "| pobreza_e_prof* | {0, 1}    |           | Índice FGT con alfa igual a 1 (línea de pobreza extrema por ingresos)\n",
    "| pobreza_m     | {0,1}     | nominal   | Pobreza moderada                         | 0)No 1) Sí\n",
    "| priv*         | {0, 6}    |           | Índice de Privación Social\n",
    "| priv_prof*    | {0, 1}    | nominal   | Profundidad de la privación social\n",
    "| vul_ing       | {0,1}     | nominal   | Población vulnerable por ingresos        | 0)No 1)Sí\n",
    "| vul_ic*       | {0,1}     | nominal   | Población vulnerable por carencias       | 0)No 1)Sí\n",
    "| no_pob_vul*   | {0,1}     | nominal   | Población no pobre y no vulnerable       | 0)Pobre y vulnerable 1)No pobre y no vulnerable\n"
   ]
  },
  {
   "cell_type": "markdown",
   "metadata": {},
   "source": [
    "### Preguntas de investigación\n",
    "\n",
    "1. ¿Cuáles son los principales determinantes de la pobreza extrema por ingresos en México, considerando variables como educación, acceso a servicios de salud y seguridad social, y calidad de vivienda, y cómo varían estos factores entre diferentes entidades federativas?​\n",
    "\n",
    "2. ¿Existe una correlación significativa entre el nivel de ingresos per cápita en los hogares y la prevalencia de inseguridad alimentaria severa, y qué medidas de intervención podrían reducir esta inseguridad en las poblaciones más vulnerables?​\n",
    "\n",
    "3. ¿Cuál es el impacto del acceso a programas de apoyo social, como el Programa de Adultos Mayores, en la reducción de la pobreza y la mejora de la calidad de vida de las personas mayores en hogares de bajos recursos?​\n",
    "\n",
    "4. ¿Cómo se relacionan los indicadores de privación social y las carencias sociales con la intensidad de la privación social, y qué estrategias podrían implementarse para abordar de manera efectiva estas carencias y mejorar la calidad de vida en hogares vulnerables?​\n",
    "\n",
    "5. ¿Cuál es el efecto de la lengua indígena y la discapacidad en el acceso a servicios de salud, educación y empleo, y cómo se pueden diseñar políticas inclusivas para mejorar la participación y el bienestar de estas poblaciones en riesgo en diferentes regiones de México?\n",
    "\n",
    "\n",
    "#### Unidad de análisis\n",
    "\n",
    "| __Pregunta de investigación__ | __Unidad de análisis__ |\n",
    "| --------------------------------------------------- | ------------------ | \n",
    "| ¿Cuáles son los principales determinantes de la pobreza extrema por ingresos en México y cómo varían estos factores entre diferentes entidades federativas?​ | entidad federativa |  \n",
    "| ---------------------------------------------------- | ------------------ | \n",
    "| ¿Existe una correlación significativa entre el nivel de ingresos per cápita en los hogares y la prevalencia de inseguridad alimentaria severa, y qué medidas de intervención podrían reducir esta inseguridad en las poblaciones más vulnerables?​ | encuestados con inseguridad alimentaria y vulnerabilidad |\n",
    "| ---------------------------------------------------- | ------------------ | \n",
    "| ¿Cuál es el impacto del acceso a programas de apoyo social, como el Programa de Adultos Mayores, en la reducción de la pobreza y la mejora de la calidad de vida de las personas mayores en hogares de bajos recursos?​       | adultos mayores y adultos mayores en el PAM |\n",
    "| ---------------------------------------------------- | ------------------ | \n",
    "| ¿Cómo se relacionan los indicadores de privación social y las carencias sociales con la intensidad de la privación social, y qué estrategias podrían implementarse para abordar de manera efectiva estas carencias y mejorar la calidad de vida en hogares vulnerables?​    | indicadores de privación y carencia social e intensidad de privación |\n",
    "| ---------------------------------------------------- | ------------------ | \n",
    "| ¿Cuál es el efecto de la lengua indígena y la discapacidad en el acceso a servicios de salud, educación y empleo, y cómo se pueden diseñar políticas inclusivas para mejorar la participación y el bienestar de estas poblaciones en riesgo en diferentes regiones de México? | hablantes de lenguas indígenas y con discapacidad |\n"
   ]
  },
  {
   "cell_type": "markdown",
   "metadata": {},
   "source": [
    "## Procesamiento del Dataset"
   ]
  },
  {
   "cell_type": "markdown",
   "metadata": {},
   "source": [
    "### Librerías"
   ]
  },
  {
   "cell_type": "markdown",
   "metadata": {},
   "source": [
    "#### Análisis"
   ]
  },
  {
   "cell_type": "code",
   "execution_count": 1,
   "metadata": {},
   "outputs": [],
   "source": [
    "import numpy as np\n",
    "import pandas as pd"
   ]
  },
  {
   "cell_type": "markdown",
   "metadata": {},
   "source": [
    "#### Salidas y visualización"
   ]
  },
  {
   "cell_type": "code",
   "execution_count": 2,
   "metadata": {},
   "outputs": [],
   "source": [
    "# Para obtener múltiples salidas de una celda\n",
    "from IPython.core.interactiveshell import InteractiveShell\n",
    "InteractiveShell.ast_node_interactivity = \"all\""
   ]
  },
  {
   "cell_type": "code",
   "execution_count": 3,
   "metadata": {},
   "outputs": [],
   "source": [
    "import matplotlib.pyplot as plt\n",
    "import seaborn as sns"
   ]
  },
  {
   "cell_type": "code",
   "execution_count": 4,
   "metadata": {},
   "outputs": [],
   "source": [
    "#from ipywidgets import interact\n",
    "#%matplotlib inline"
   ]
  },
  {
   "cell_type": "markdown",
   "metadata": {},
   "source": [
    "### Variables"
   ]
  },
  {
   "cell_type": "markdown",
   "metadata": {},
   "source": [
    "#### Lectura del Dataset  \n",
    "Primero se hace una lectura del dataset, junto con una copia de éste."
   ]
  },
  {
   "cell_type": "code",
   "execution_count": 5,
   "metadata": {},
   "outputs": [],
   "source": [
    "df = pd.read_csv('../pobreza22.csv',encoding='utf-8')"
   ]
  },
  {
   "cell_type": "code",
   "execution_count": 6,
   "metadata": {},
   "outputs": [
    {
     "data": {
      "text/html": [
       "<div>\n",
       "<style scoped>\n",
       "    .dataframe tbody tr th:only-of-type {\n",
       "        vertical-align: middle;\n",
       "    }\n",
       "\n",
       "    .dataframe tbody tr th {\n",
       "        vertical-align: top;\n",
       "    }\n",
       "\n",
       "    .dataframe thead th {\n",
       "        text-align: right;\n",
       "    }\n",
       "</style>\n",
       "<table border=\"1\" class=\"dataframe\">\n",
       "  <thead>\n",
       "    <tr style=\"text-align: right;\">\n",
       "      <th></th>\n",
       "      <th>folioviv</th>\n",
       "      <th>foliohog</th>\n",
       "      <th>numren</th>\n",
       "      <th>est_dis</th>\n",
       "      <th>upm</th>\n",
       "      <th>factor</th>\n",
       "      <th>tam_loc</th>\n",
       "      <th>rururb</th>\n",
       "      <th>ent</th>\n",
       "      <th>ubica_geo</th>\n",
       "      <th>...</th>\n",
       "      <th>ict</th>\n",
       "      <th>ing_mon</th>\n",
       "      <th>ing_lab</th>\n",
       "      <th>ing_ren</th>\n",
       "      <th>ing_tra</th>\n",
       "      <th>nomon</th>\n",
       "      <th>pago_esp</th>\n",
       "      <th>reg_esp</th>\n",
       "      <th>hli</th>\n",
       "      <th>discap</th>\n",
       "    </tr>\n",
       "  </thead>\n",
       "  <tbody>\n",
       "    <tr>\n",
       "      <th>0</th>\n",
       "      <td>100005002</td>\n",
       "      <td>1</td>\n",
       "      <td>1</td>\n",
       "      <td>3</td>\n",
       "      <td>1</td>\n",
       "      <td>206</td>\n",
       "      <td>1</td>\n",
       "      <td>0.0</td>\n",
       "      <td>1</td>\n",
       "      <td>1001</td>\n",
       "      <td>...</td>\n",
       "      <td>15282.204133</td>\n",
       "      <td>15282.204133</td>\n",
       "      <td>12254.222301</td>\n",
       "      <td>0.000000</td>\n",
       "      <td>3027.981832</td>\n",
       "      <td>0.000000</td>\n",
       "      <td>0.0</td>\n",
       "      <td>0.000000</td>\n",
       "      <td>0.0</td>\n",
       "      <td>0.0</td>\n",
       "    </tr>\n",
       "    <tr>\n",
       "      <th>1</th>\n",
       "      <td>100005002</td>\n",
       "      <td>1</td>\n",
       "      <td>2</td>\n",
       "      <td>3</td>\n",
       "      <td>1</td>\n",
       "      <td>206</td>\n",
       "      <td>1</td>\n",
       "      <td>0.0</td>\n",
       "      <td>1</td>\n",
       "      <td>1001</td>\n",
       "      <td>...</td>\n",
       "      <td>15282.204133</td>\n",
       "      <td>15282.204133</td>\n",
       "      <td>12254.222301</td>\n",
       "      <td>0.000000</td>\n",
       "      <td>3027.981832</td>\n",
       "      <td>0.000000</td>\n",
       "      <td>0.0</td>\n",
       "      <td>0.000000</td>\n",
       "      <td>0.0</td>\n",
       "      <td>0.0</td>\n",
       "    </tr>\n",
       "    <tr>\n",
       "      <th>2</th>\n",
       "      <td>100005002</td>\n",
       "      <td>1</td>\n",
       "      <td>3</td>\n",
       "      <td>3</td>\n",
       "      <td>1</td>\n",
       "      <td>206</td>\n",
       "      <td>1</td>\n",
       "      <td>0.0</td>\n",
       "      <td>1</td>\n",
       "      <td>1001</td>\n",
       "      <td>...</td>\n",
       "      <td>15282.204133</td>\n",
       "      <td>15282.204133</td>\n",
       "      <td>12254.222301</td>\n",
       "      <td>0.000000</td>\n",
       "      <td>3027.981832</td>\n",
       "      <td>0.000000</td>\n",
       "      <td>0.0</td>\n",
       "      <td>0.000000</td>\n",
       "      <td>0.0</td>\n",
       "      <td>0.0</td>\n",
       "    </tr>\n",
       "    <tr>\n",
       "      <th>3</th>\n",
       "      <td>100005003</td>\n",
       "      <td>1</td>\n",
       "      <td>1</td>\n",
       "      <td>3</td>\n",
       "      <td>1</td>\n",
       "      <td>206</td>\n",
       "      <td>1</td>\n",
       "      <td>0.0</td>\n",
       "      <td>1</td>\n",
       "      <td>1001</td>\n",
       "      <td>...</td>\n",
       "      <td>36889.050990</td>\n",
       "      <td>33950.029778</td>\n",
       "      <td>22901.587447</td>\n",
       "      <td>11048.442332</td>\n",
       "      <td>0.000000</td>\n",
       "      <td>2939.021211</td>\n",
       "      <td>0.0</td>\n",
       "      <td>2939.021211</td>\n",
       "      <td>0.0</td>\n",
       "      <td>0.0</td>\n",
       "    </tr>\n",
       "    <tr>\n",
       "      <th>4</th>\n",
       "      <td>100005003</td>\n",
       "      <td>1</td>\n",
       "      <td>2</td>\n",
       "      <td>3</td>\n",
       "      <td>1</td>\n",
       "      <td>206</td>\n",
       "      <td>1</td>\n",
       "      <td>0.0</td>\n",
       "      <td>1</td>\n",
       "      <td>1001</td>\n",
       "      <td>...</td>\n",
       "      <td>36889.050990</td>\n",
       "      <td>33950.029778</td>\n",
       "      <td>22901.587447</td>\n",
       "      <td>11048.442332</td>\n",
       "      <td>0.000000</td>\n",
       "      <td>2939.021211</td>\n",
       "      <td>0.0</td>\n",
       "      <td>2939.021211</td>\n",
       "      <td>0.0</td>\n",
       "      <td>0.0</td>\n",
       "    </tr>\n",
       "    <tr>\n",
       "      <th>...</th>\n",
       "      <td>...</td>\n",
       "      <td>...</td>\n",
       "      <td>...</td>\n",
       "      <td>...</td>\n",
       "      <td>...</td>\n",
       "      <td>...</td>\n",
       "      <td>...</td>\n",
       "      <td>...</td>\n",
       "      <td>...</td>\n",
       "      <td>...</td>\n",
       "      <td>...</td>\n",
       "      <td>...</td>\n",
       "      <td>...</td>\n",
       "      <td>...</td>\n",
       "      <td>...</td>\n",
       "      <td>...</td>\n",
       "      <td>...</td>\n",
       "      <td>...</td>\n",
       "      <td>...</td>\n",
       "      <td>...</td>\n",
       "      <td>...</td>\n",
       "    </tr>\n",
       "    <tr>\n",
       "      <th>309529</th>\n",
       "      <td>3260797910</td>\n",
       "      <td>1</td>\n",
       "      <td>1</td>\n",
       "      <td>560</td>\n",
       "      <td>10232</td>\n",
       "      <td>123</td>\n",
       "      <td>4</td>\n",
       "      <td>1.0</td>\n",
       "      <td>32</td>\n",
       "      <td>32046</td>\n",
       "      <td>...</td>\n",
       "      <td>51414.758596</td>\n",
       "      <td>46788.301738</td>\n",
       "      <td>46788.301738</td>\n",
       "      <td>0.000000</td>\n",
       "      <td>0.000000</td>\n",
       "      <td>4626.456858</td>\n",
       "      <td>0.0</td>\n",
       "      <td>4626.456858</td>\n",
       "      <td>0.0</td>\n",
       "      <td>0.0</td>\n",
       "    </tr>\n",
       "    <tr>\n",
       "      <th>309530</th>\n",
       "      <td>3260797910</td>\n",
       "      <td>1</td>\n",
       "      <td>2</td>\n",
       "      <td>560</td>\n",
       "      <td>10232</td>\n",
       "      <td>123</td>\n",
       "      <td>4</td>\n",
       "      <td>1.0</td>\n",
       "      <td>32</td>\n",
       "      <td>32046</td>\n",
       "      <td>...</td>\n",
       "      <td>51414.758596</td>\n",
       "      <td>46788.301738</td>\n",
       "      <td>46788.301738</td>\n",
       "      <td>0.000000</td>\n",
       "      <td>0.000000</td>\n",
       "      <td>4626.456858</td>\n",
       "      <td>0.0</td>\n",
       "      <td>4626.456858</td>\n",
       "      <td>0.0</td>\n",
       "      <td>0.0</td>\n",
       "    </tr>\n",
       "    <tr>\n",
       "      <th>309531</th>\n",
       "      <td>3260797912</td>\n",
       "      <td>1</td>\n",
       "      <td>1</td>\n",
       "      <td>560</td>\n",
       "      <td>10232</td>\n",
       "      <td>123</td>\n",
       "      <td>4</td>\n",
       "      <td>1.0</td>\n",
       "      <td>32</td>\n",
       "      <td>32046</td>\n",
       "      <td>...</td>\n",
       "      <td>14101.618920</td>\n",
       "      <td>13259.491956</td>\n",
       "      <td>13259.491956</td>\n",
       "      <td>0.000000</td>\n",
       "      <td>0.000000</td>\n",
       "      <td>842.126965</td>\n",
       "      <td>0.0</td>\n",
       "      <td>842.126965</td>\n",
       "      <td>0.0</td>\n",
       "      <td>0.0</td>\n",
       "    </tr>\n",
       "    <tr>\n",
       "      <th>309532</th>\n",
       "      <td>3260797912</td>\n",
       "      <td>1</td>\n",
       "      <td>2</td>\n",
       "      <td>560</td>\n",
       "      <td>10232</td>\n",
       "      <td>123</td>\n",
       "      <td>4</td>\n",
       "      <td>1.0</td>\n",
       "      <td>32</td>\n",
       "      <td>32046</td>\n",
       "      <td>...</td>\n",
       "      <td>14101.618920</td>\n",
       "      <td>13259.491956</td>\n",
       "      <td>13259.491956</td>\n",
       "      <td>0.000000</td>\n",
       "      <td>0.000000</td>\n",
       "      <td>842.126965</td>\n",
       "      <td>0.0</td>\n",
       "      <td>842.126965</td>\n",
       "      <td>0.0</td>\n",
       "      <td>0.0</td>\n",
       "    </tr>\n",
       "    <tr>\n",
       "      <th>309533</th>\n",
       "      <td>3260797912</td>\n",
       "      <td>1</td>\n",
       "      <td>3</td>\n",
       "      <td>560</td>\n",
       "      <td>10232</td>\n",
       "      <td>123</td>\n",
       "      <td>4</td>\n",
       "      <td>1.0</td>\n",
       "      <td>32</td>\n",
       "      <td>32046</td>\n",
       "      <td>...</td>\n",
       "      <td>14101.618920</td>\n",
       "      <td>13259.491956</td>\n",
       "      <td>13259.491956</td>\n",
       "      <td>0.000000</td>\n",
       "      <td>0.000000</td>\n",
       "      <td>842.126965</td>\n",
       "      <td>0.0</td>\n",
       "      <td>842.126965</td>\n",
       "      <td>NaN</td>\n",
       "      <td>0.0</td>\n",
       "    </tr>\n",
       "  </tbody>\n",
       "</table>\n",
       "<p>309534 rows × 79 columns</p>\n",
       "</div>"
      ],
      "text/plain": [
       "          folioviv  foliohog  numren  est_dis    upm  factor  tam_loc  rururb  \\\n",
       "0        100005002         1       1        3      1     206        1     0.0   \n",
       "1        100005002         1       2        3      1     206        1     0.0   \n",
       "2        100005002         1       3        3      1     206        1     0.0   \n",
       "3        100005003         1       1        3      1     206        1     0.0   \n",
       "4        100005003         1       2        3      1     206        1     0.0   \n",
       "...            ...       ...     ...      ...    ...     ...      ...     ...   \n",
       "309529  3260797910         1       1      560  10232     123        4     1.0   \n",
       "309530  3260797910         1       2      560  10232     123        4     1.0   \n",
       "309531  3260797912         1       1      560  10232     123        4     1.0   \n",
       "309532  3260797912         1       2      560  10232     123        4     1.0   \n",
       "309533  3260797912         1       3      560  10232     123        4     1.0   \n",
       "\n",
       "        ent  ubica_geo  ...           ict       ing_mon       ing_lab  \\\n",
       "0         1       1001  ...  15282.204133  15282.204133  12254.222301   \n",
       "1         1       1001  ...  15282.204133  15282.204133  12254.222301   \n",
       "2         1       1001  ...  15282.204133  15282.204133  12254.222301   \n",
       "3         1       1001  ...  36889.050990  33950.029778  22901.587447   \n",
       "4         1       1001  ...  36889.050990  33950.029778  22901.587447   \n",
       "...     ...        ...  ...           ...           ...           ...   \n",
       "309529   32      32046  ...  51414.758596  46788.301738  46788.301738   \n",
       "309530   32      32046  ...  51414.758596  46788.301738  46788.301738   \n",
       "309531   32      32046  ...  14101.618920  13259.491956  13259.491956   \n",
       "309532   32      32046  ...  14101.618920  13259.491956  13259.491956   \n",
       "309533   32      32046  ...  14101.618920  13259.491956  13259.491956   \n",
       "\n",
       "             ing_ren      ing_tra        nomon  pago_esp      reg_esp  hli  \\\n",
       "0           0.000000  3027.981832     0.000000       0.0     0.000000  0.0   \n",
       "1           0.000000  3027.981832     0.000000       0.0     0.000000  0.0   \n",
       "2           0.000000  3027.981832     0.000000       0.0     0.000000  0.0   \n",
       "3       11048.442332     0.000000  2939.021211       0.0  2939.021211  0.0   \n",
       "4       11048.442332     0.000000  2939.021211       0.0  2939.021211  0.0   \n",
       "...              ...          ...          ...       ...          ...  ...   \n",
       "309529      0.000000     0.000000  4626.456858       0.0  4626.456858  0.0   \n",
       "309530      0.000000     0.000000  4626.456858       0.0  4626.456858  0.0   \n",
       "309531      0.000000     0.000000   842.126965       0.0   842.126965  0.0   \n",
       "309532      0.000000     0.000000   842.126965       0.0   842.126965  0.0   \n",
       "309533      0.000000     0.000000   842.126965       0.0   842.126965  NaN   \n",
       "\n",
       "        discap  \n",
       "0          0.0  \n",
       "1          0.0  \n",
       "2          0.0  \n",
       "3          0.0  \n",
       "4          0.0  \n",
       "...        ...  \n",
       "309529     0.0  \n",
       "309530     0.0  \n",
       "309531     0.0  \n",
       "309532     0.0  \n",
       "309533     0.0  \n",
       "\n",
       "[309534 rows x 79 columns]"
      ]
     },
     "execution_count": 6,
     "metadata": {},
     "output_type": "execute_result"
    }
   ],
   "source": [
    "df_backup = df.copy()\n",
    "df"
   ]
  },
  {
   "cell_type": "markdown",
   "metadata": {},
   "source": [
    "#### Tipos de Datos en Columnas\n"
   ]
  },
  {
   "cell_type": "code",
   "execution_count": 10,
   "metadata": {},
   "outputs": [
    {
     "data": {
      "text/plain": [
       "Index(['folioviv', 'foliohog', 'numren', 'est_dis', 'upm', 'factor', 'tam_loc',\n",
       "       'rururb', 'ent', 'ubica_geo', 'edad', 'sexo', 'parentesco', 'ic_rezedu',\n",
       "       'anac_e', 'inas_esc', 'niv_ed', 'ic_asalud', 'ic_segsoc', 'sa_dir',\n",
       "       'ss_dir', 's_salud', 'par', 'jef_ss', 'cony_ss', 'hijo_ss', 'pea',\n",
       "       'jub', 'pam', 'ing_pam', 'ic_cv', 'icv_pisos', 'icv_muros',\n",
       "       'icv_techos', 'icv_hac', 'ic_sbv', 'isb_agua', 'isb_dren', 'isb_luz',\n",
       "       'isb_combus', 'ic_ali_nc', 'id_men', 'tot_iaad', 'tot_iamen', 'ins_ali',\n",
       "       'ic_ali', 'lca', 'dch', 'plp_e', 'plp', 'pobreza', 'pobreza_e',\n",
       "       'pobreza_m', 'vul_car', 'vul_ing', 'no_pobv', 'i_privacion',\n",
       "       'carencias', 'carencias3', 'cuadrantes', 'prof1', 'prof_e1', 'profun',\n",
       "       'int_pob', 'int_pobe', 'int_vulcar', 'int_caren', 'tamhogesc', 'ictpc',\n",
       "       'ict', 'ing_mon', 'ing_lab', 'ing_ren', 'ing_tra', 'nomon', 'pago_esp',\n",
       "       'reg_esp', 'hli', 'discap'],\n",
       "      dtype='object')"
      ]
     },
     "execution_count": 10,
     "metadata": {},
     "output_type": "execute_result"
    }
   ],
   "source": [
    "# Lista de nombres de columnas\n",
    "col = df.columns\n",
    "col"
   ]
  },
  {
   "cell_type": "markdown",
   "metadata": {},
   "source": [
    "Renombramiento de columnas (usar rename) // TODO"
   ]
  },
  {
   "cell_type": "code",
   "execution_count": 8,
   "metadata": {},
   "outputs": [
    {
     "name": "stdout",
     "output_type": "stream",
     "text": [
      "<class 'pandas.core.frame.DataFrame'>\n",
      "RangeIndex: 309534 entries, 0 to 309533\n",
      "Data columns (total 79 columns):\n",
      " #   Column       Non-Null Count   Dtype  \n",
      "---  ------       --------------   -----  \n",
      " 0   folioviv     309534 non-null  int64  \n",
      " 1   foliohog     309534 non-null  int64  \n",
      " 2   numren       309534 non-null  int64  \n",
      " 3   est_dis      309534 non-null  int64  \n",
      " 4   upm          309534 non-null  int64  \n",
      " 5   factor       309534 non-null  int64  \n",
      " 6   tam_loc      309534 non-null  int64  \n",
      " 7   rururb       309534 non-null  float64\n",
      " 8   ent          309534 non-null  int64  \n",
      " 9   ubica_geo    309534 non-null  int64  \n",
      " 10  edad         309534 non-null  int64  \n",
      " 11  sexo         309534 non-null  int64  \n",
      " 12  parentesco   309534 non-null  int64  \n",
      " 13  ic_rezedu    309534 non-null  float64\n",
      " 14  anac_e       309534 non-null  int64  \n",
      " 15  inas_esc     298064 non-null  float64\n",
      " 16  niv_ed       298064 non-null  float64\n",
      " 17  ic_asalud    309534 non-null  float64\n",
      " 18  ic_segsoc    309534 non-null  float64\n",
      " 19  sa_dir       309534 non-null  float64\n",
      " 20  ss_dir       309534 non-null  float64\n",
      " 21  s_salud      309534 non-null  float64\n",
      " 22  par          309534 non-null  float64\n",
      " 23  jef_ss       309534 non-null  float64\n",
      " 24  cony_ss      309534 non-null  float64\n",
      " 25  hijo_ss      309534 non-null  float64\n",
      " 26  pea          228072 non-null  float64\n",
      " 27  jub          309534 non-null  float64\n",
      " 28  pam          29963 non-null   float64\n",
      " 29  ing_pam      34768 non-null   float64\n",
      " 30  ic_cv        309527 non-null  float64\n",
      " 31  icv_pisos    309527 non-null  float64\n",
      " 32  icv_muros    309534 non-null  float64\n",
      " 33  icv_techos   309534 non-null  float64\n",
      " 34  icv_hac      309534 non-null  float64\n",
      " 35  ic_sbv       309527 non-null  float64\n",
      " 36  isb_agua     309534 non-null  float64\n",
      " 37  isb_dren     309534 non-null  float64\n",
      " 38  isb_luz      309534 non-null  float64\n",
      " 39  isb_combus   309527 non-null  float64\n",
      " 40  ic_ali_nc    309534 non-null  float64\n",
      " 41  id_men       309534 non-null  float64\n",
      " 42  tot_iaad     92380 non-null   float64\n",
      " 43  tot_iamen    217154 non-null  float64\n",
      " 44  ins_ali      309534 non-null  float64\n",
      " 45  ic_ali       309534 non-null  float64\n",
      " 46  lca          309534 non-null  float64\n",
      " 47  dch          309534 non-null  float64\n",
      " 48  plp_e        309534 non-null  float64\n",
      " 49  plp          309534 non-null  float64\n",
      " 50  pobreza      309520 non-null  float64\n",
      " 51  pobreza_e    309520 non-null  float64\n",
      " 52  pobreza_m    309520 non-null  float64\n",
      " 53  vul_car      309520 non-null  float64\n",
      " 54  vul_ing      309520 non-null  float64\n",
      " 55  no_pobv      309520 non-null  float64\n",
      " 56  i_privacion  309520 non-null  float64\n",
      " 57  carencias    309520 non-null  float64\n",
      " 58  carencias3   309520 non-null  float64\n",
      " 59  cuadrantes   309520 non-null  float64\n",
      " 60  prof1        309534 non-null  float64\n",
      " 61  prof_e1      309534 non-null  float64\n",
      " 62  profun       309520 non-null  float64\n",
      " 63  int_pob      309520 non-null  float64\n",
      " 64  int_pobe     309520 non-null  float64\n",
      " 65  int_vulcar   309520 non-null  float64\n",
      " 66  int_caren    309520 non-null  float64\n",
      " 67  tamhogesc    309534 non-null  float64\n",
      " 68  ictpc        309534 non-null  float64\n",
      " 69  ict          309534 non-null  float64\n",
      " 70  ing_mon      309534 non-null  float64\n",
      " 71  ing_lab      309534 non-null  float64\n",
      " 72  ing_ren      309534 non-null  float64\n",
      " 73  ing_tra      309534 non-null  float64\n",
      " 74  nomon        309534 non-null  float64\n",
      " 75  pago_esp     309534 non-null  float64\n",
      " 76  reg_esp      309534 non-null  float64\n",
      " 77  hli          298064 non-null  float64\n",
      " 78  discap       309134 non-null  float64\n",
      "dtypes: float64(66), int64(13)\n",
      "memory usage: 186.6 MB\n"
     ]
    }
   ],
   "source": [
    "df.info()"
   ]
  },
  {
   "cell_type": "code",
   "execution_count": 2,
   "metadata": {},
   "outputs": [],
   "source": [
    "nominales = []\n",
    "ordinales = [] \n",
    "intervalo = []\n",
    "razon = []"
   ]
  },
  {
   "cell_type": "code",
   "execution_count": 3,
   "metadata": {},
   "outputs": [],
   "source": [
    "# Conversión de nominales a categóricos\n",
    "for i in nominales:\n",
    "    df[i] = df[i].astype('category')\n",
    "    "
   ]
  },
  {
   "cell_type": "markdown",
   "metadata": {},
   "source": [
    "### Exportación  \n",
    "Es un df.to_csv()"
   ]
  },
  {
   "cell_type": "markdown",
   "metadata": {},
   "source": [
    "## Análisis Univariado"
   ]
  },
  {
   "cell_type": "markdown",
   "metadata": {},
   "source": [
    "### Categóricas Nominales y Ordinales"
   ]
  },
  {
   "cell_type": "markdown",
   "metadata": {},
   "source": [
    "#### Cardinalidad"
   ]
  },
  {
   "cell_type": "markdown",
   "metadata": {},
   "source": [
    "#### Cantidad de muestras"
   ]
  }
 ],
 "metadata": {
  "kernelspec": {
   "display_name": "DeepEnv",
   "language": "python",
   "name": "python3"
  },
  "language_info": {
   "codemirror_mode": {
    "name": "ipython",
    "version": 3
   },
   "file_extension": ".py",
   "mimetype": "text/x-python",
   "name": "python",
   "nbconvert_exporter": "python",
   "pygments_lexer": "ipython3",
   "version": "3.8.12"
  },
  "orig_nbformat": 4
 },
 "nbformat": 4,
 "nbformat_minor": 2
}
