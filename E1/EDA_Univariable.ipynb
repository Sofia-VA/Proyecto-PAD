{
 "cells": [
  {
   "cell_type": "markdown",
   "metadata": {},
   "source": [
    "> # Proyecto Entrega 1\n",
    "> ##### &nbsp;&nbsp;&nbsp;&nbsp; Análisis Exploratorio Univariado\n",
    "> - **Fecha**: 18/09/2023  |  ITESO  \n",
    "> - **Materia**: Programación para el Análisis de Datos\n",
    "> - **Alumnos**: \n",
    ">    - Gabriel Alejandro Olvera González is734604\n",
    ">    - Michelle Figueroa Jacques is727328\n",
    ">    - Miguel Mario Méndez Alcaráz is2\n",
    ">    - Sofía Vargas Aceves is727375  \n",
    ">  <br>"
   ]
  },
  {
   "cell_type": "markdown",
   "metadata": {},
   "source": [
    "## Descripción del DataSet\n",
    "Este Dataset es proporcionado por el CONEVAL, e incluye datos de la pobreza en México 2022. \n",
    "El dataset utiliza como fuente de información la Encuesta Nacional de Ingresos y Gastos de los Hogares (ENIGH) 2022, publicada por el Instituto Nacional de Estadística y Geografía (INEGI) el 26 de julio de 2023.\n",
    "\n",
    "Es el resultado de entrevistas a familias mexicanas de bajos recursos con el propósito de analizar los factores determinantes de la pobreza en México. Contiene una amplia gama de variables que abarcan desde identificadores de viviendas, hogares y personas, hasta información demográfica, socioeconómica y de calidad de vida. Estas variables incluyen datos sobre educación, acceso a servicios de salud y seguridad social, condiciones de vivienda, ingresos, programas sociales, población vulnerable y discapacitada, entre otros. Este conjunto de datos proporciona una visión completa de las condiciones de vida de estas familias y es valioso para la formulación de políticas públicas y programas de desarrollo destinados a combatir la pobreza en México.​\n",
    "\n",
    "+ Columnas: Cuenta con 79 columnas de información del encuestado e índices calculados por el CONEVAL.\n",
    "+ Filas: Hay 309,534, indicando que este es el **tamaño de la muestra**\n",
    "+ Los datos van de acuerdo con el descriptor de la base de la ENIGH 2022 del INEGI.\n",
    "\n",
    "#### Tipo de datos\n",
    "> + Estos datos son **transversales**. Esto se debe a que no se recopilan datos a través del tiempo. Estos datos son únicamente del 2022.\n",
    "> + Estos datos **no son de panel**. Dado que sólo se toman los datos de un encuestado sólo una vez y no se toman los datos de éste a lo largo del tiempo.\n",
    "\n",
    "#### Unidad de observación\n",
    "Cada fila de la tabla...  \n",
    ">  <br>  \n",
    ">  Encuestado dentro de familia de bajos recursos en México 2022\n",
    ">  <br> \n",
    ">   <br>      \n",
    "\n",
    "#### Fuentes\n",
    "> +  CONEVAL (2022). Medición de Pobreza Multidimensional Mexico 2022​. Recuperado de: https://www.kaggle.com/datasets/davidmaldonadoc/2022-mexicos-poverty-survey?resource=download ​\n",
    "> + Maldonado, D. (2022). 2022 Mexico's poverty survey. Kaggle. Recuperado de: https://www.kaggle.com/datasets/davidmaldonadoc/2022-mexicos-poverty-survey?resource=download&select=Pobreza+2022+CONEVAL.py\n"
   ]
  },
  {
   "cell_type": "markdown",
   "metadata": {},
   "source": [
    "## Variables"
   ]
  },
  {
   "cell_type": "markdown",
   "metadata": {},
   "source": [
    "### Llaves"
   ]
  },
  {
   "cell_type": "markdown",
   "metadata": {},
   "source": [
    "| __ID__ | __Rango__ | __Tipo__ | __Descripción__ |\n",
    "| --- | --- | --- | --- | \n",
    "| folioviv  | {100005002,3260797912} | nominal   | Identificador de la vivienda\n",
    "| foliohog  | {1, 5}                 | nominal   | Identificador del hogar\n",
    "| numren    | {1, 19}                | ordinal   | Identificador de la persona"
   ]
  },
  {
   "cell_type": "markdown",
   "metadata": {},
   "source": [
    "### De estadística y localización"
   ]
  },
  {
   "cell_type": "markdown",
   "metadata": {},
   "source": [
    "| __ID__ | __Rango__ | __Tipo__ | __Descripción__ | __Categorías__\n",
    "| --- | --- | --- | --- | --- |\n",
    "| ent       | {1, 32}       | nominal   | Identificador de la entidad federativa\n",
    "| est_dis   | {1, 560}      | nominal   |  Estrato de diseño \n",
    "| factor    | {6, 6470}     |           | Factor de expansión\n",
    "| rururb    | {0,1}         | nominal   | Identificador de localidades rurales      | 0)Urbana 1)Rural\n",
    "| tam_loc   | {1, 4}        | ordinal   | Tamaño de la localidad                    | 1)>= 100k ,  2)[15k,100k) ,  3)[2.5k,15k) ,  4)<2.5k\n",
    "| ubica_geo | {1001, 32057} |           | Ubicación geográfica\n",
    "| upm       | {1, 10232}    | nominal   | Unidad primaria de muestreo    "
   ]
  },
  {
   "cell_type": "markdown",
   "metadata": {},
   "source": [
    "### Información del encuestado"
   ]
  },
  {
   "cell_type": "markdown",
   "metadata": {},
   "source": [
    "#### Información personal"
   ]
  },
  {
   "cell_type": "markdown",
   "metadata": {},
   "source": [
    "\n",
    "| __ID__ | __Rango__ | __Tipo__ | __Descripción__ | __Categorías__\n",
    "| --- | --- | --- | --- | --- |\n",
    "| a_nacim   | {1913,2022}   | razón     | Año de nacimiento\n",
    "| discap    | {0,1}         | nominal   | Población con presencia de discapacidad física o mental | 0)Sin 1)Con\n",
    "| edad      | {0, 109}      | intervalo | Edad reportada al momento de la entrevista\n",
    "| jub       | {0,1}         | nominal   | Población pensionada o jubilada           | 0)No 1)Sí\n",
    "| hli       | {0,1}         | nominal   | Hablante de lengua indígena               | 0)No 1)Sí\n",
    "| ed_inas  | {0,1}         | nominal   | Inasistencia a la escuela                 | 0)Sí asiste 1)No asiste\n",
    "| ed_niv | {0,3} | ordinal | Nivel educativo | 0)<Primaria , 1)[Primaria,Secundaria) , 2)[Secundaria,Media superior) , 3)[Media superior,Mayor nivel educativo]\n",
    "| p_menor   | {0,1}         | nominal   | Hogares con población de 0 a 17 años      | 0)Sin menores 1)Con menores\n",
    "| pam       | {0,1}         | nominal   | Programa de adultos mayores               | 0)No recibe 1)Sí recibe\n",
    "| sexo      | {1,2}         | nominal   | Sexo                                      | 1)Masculino 2)Femenino\n",
    "| tamhogesc | {1, 16.60}    | razón     | Tamaño del hogar ajustado                 \n",
    "| parentesco| {101,623}     | TODO      | Parentesco con el jefe del hogar (INEGI)\n"
   ]
  },
  {
   "cell_type": "markdown",
   "metadata": {},
   "source": [
    "#### Información de salud y seguro"
   ]
  },
  {
   "cell_type": "markdown",
   "metadata": {},
   "source": [
    "\n",
    "| __ID__ | __Rango__ | __Tipo__ | __Descripción__ | __Categorías__\n",
    "| --- | --- | --- | --- | --- |\n",
    "| ali_ins     | {0,3} | ordinal | Grado de Inseguridad Alimentaria | 0)Seguridad alimentaria 1)Inseguridad leve 2)Inseguridad moderada 3)Inseguridad severa\n",
    "| ali_lim     | {0,1}         | nominal   | Limitación en el consumo de alimentos                      | 0)No limitado 1)Limitado\n",
    "| ali_dieta   | {1,3}         | ordinal   | Dieta consumida en los hogares                             | 1)Pobre 2)Limítrofe 3) Aceptable\n",
    "| salud_s     | {0,1}         | nominal   | Servicios médicos por otros núcleos familiares o por contratación propia | 0)No cuenta 1)Sí cuenta\n",
    "| salud_s_dir | {0,1}         | nominal   | Acceso directo a servicios de salud       | 0)Sin acceso 1)Con acceso\n",
    "| ss_dir      | {0,1}         | nominal   | Acceso directo a seguridad social         | 0)Sin acceso 1)Con acceso\n",
    "| ss_jef      | {0,1}         | nominal   | Acceso directo a seguridad social de jefatura del hogar| 0)No cuenta 1)Sí cuenta\n",
    "| ss_cony     | {0,1}         | nominal   | Acceso directo a seguridad social de cónyugue de jefatura del hogar| 0)No cuenta 1)Sí cuenta\n",
    "| ss_hijo     | {0,1}         | nominal   | Acceso directo a seguridad social de hijo de jefatura del hogar| 0)No cuenta 1)Sí cuenta\n",
    "| par         | {1,6}         | nominal   | Integrantes que tienen acceso por otros miembros  | TODO ... acceso a qué?\n"
   ]
  },
  {
   "cell_type": "markdown",
   "metadata": {},
   "source": [
    "#### Información económica"
   ]
  },
  {
   "cell_type": "markdown",
   "metadata": {},
   "source": [
    "\n",
    "| __ID__ | __Rango__ | __Tipo__ | __Descripción__ | __Categorías__\n",
    "| --- | --- | --- | --- | --- |\n",
    "| ing_t     | {0, 2444444.2} | intervalo | Ingreso corriente total del hogar \n",
    "| ing_t_pc  | {0, 1057393.8} | intervalo | Ingreso corriente total per cápita\n",
    "| ing_mon   | {0, 2444444.2} | intervalo | Ingreso corriente monetario del hogar\n",
    "| ing_lab   | {0, 2444444.2} | intervalo | Ingreso corriente monetario laboral\n",
    "| ing_ren   | {0, 252623.5}  | intervalo | Ingreso corriente monetario por rentas\n",
    "| ing_tra   | {0, 238695.17} | intervalo | Ingreso corriente monetario por transferencias\n",
    "| ing_nomon     | {0, 1012431.1} | intervalo | Ingreso corriente no monetario\n",
    "| ing_pago_esp  | {0, 1012431.1} | intervalo | Ingreso corriente no monetario pago especie\n",
    "| ing_reg_esp   | {0, 326264.29} | intervalo | Ingreso corriente no monetario regalos especie\n",
    "| ing_pam       | {0, 14525.06}  | intervalo | Ingreso promedio mensual por programas de adultos mayores \n",
    "| pea           | {0,2}          | nominal   | Población económicamente activa           | 0)PNEA 1)PEA:Ocupada 2)PEA:Desocupada  \n"
   ]
  },
  {
   "cell_type": "markdown",
   "metadata": {},
   "source": [
    "### Indicadores y Escalas"
   ]
  },
  {
   "cell_type": "markdown",
   "metadata": {},
   "source": [
    "#### Indicadores de carencias"
   ]
  },
  {
   "cell_type": "markdown",
   "metadata": {},
   "source": [
    "\n",
    "| __ID__ | __Rango__ | __Tipo__ | __Descripción__ | __Categorías__\n",
    "| --- | --- | --- | --- | --- |\n",
    "| ic_1        | {0, 1}        | nominal   | Población con al menos una carencia social                 | 0)Sin carencias 1)Con al menos una carencia\n",
    "| ic_3        | {0, 1}        | nominal   | Población con al menos tres carencias sociales             | 0)Sin carencias 1)Con al menos 3 carencias\n",
    "| ic_ali      | {0,1}         | nominal   | Por acceso a la alimentación         | 0)No presenta carencia 1)Presenta carencia\n",
    "| ic_ali_nc   | {0,1}         | nominal | Por acceso a alimentación nutritiva de calidad | 0)No presenta carencia 1)Presenta carencia\n",
    "| ic_salud_s  | {0,1}         | nominal   | Por acceso a servicios de salud      | 0)No presenta carencia 1)Presenta carencia\n",
    "| ic_rezedu | {0,1}         | nominal   | Indicador de rezago educativo                              | 0)No hay rezago        1)Presenta rezago\n",
    "| ic_segsoc | {0,1}         | nominal   | Por acceso a seguridad social        | 0)No presenta carencia 1)Presenta carencia\n",
    "| icv       | {0,1}         | nominal   | Por calidad y espacios de vivienda   | 0)No presenta carencia 1)Presenta carencia\n",
    "| icv_pisos | {0,1}         | nominal   | Por material de piso de vivienda     | 0)No presenta carencia 1)Presenta carencia\n",
    "| icv_muros | {0,1}         | nominal   | Por material de muros de vivienda    | 0)No presenta carencia 1)Presenta carencia\n",
    "| icv_techos| {0,1}         | nominal   | Por material de techos de vivienda   | 0)No presenta carencia 1)Presenta carencia\n",
    "| icv_hac   | {0,1}         | nominal   | Por hacinamiento de piso de vivienda | 0)No presenta carencia 1)Presenta carencia\n",
    "| icsb      | {0,1}         | nominal   | Por acceso a servivios básicos de vivienda | 0)No presenta carencia 1)Presenta carencia\n",
    "| icsb_agua | {0,1}         | nominal   | Por acceso al agua                   | 0)No presenta carencia 1)Presenta carencia\n",
    "| icsb_dren | {0,1}         | nominal   | Por servicio de drenaje              | 0)No presenta carencia 1)Presenta carencia\n",
    "| icsb_luz  | {0,1}         | nominal   | Por servicios de electricidad        | 0)No presenta carencia 1)Presenta carencia\n",
    "| icsb_comb | {0,1}         | nominal   | Por combustible para cocinar         | 0)No presenta carencia 1)Presenta carencia\n"
   ]
  },
  {
   "cell_type": "markdown",
   "metadata": {},
   "source": [
    "#### Otros indicadores y escalas"
   ]
  },
  {
   "cell_type": "markdown",
   "metadata": {},
   "source": [
    "\n",
    "| __ID__ | __Rango__ | __Tipo__ | __Descripción__ | __Categorías__\n",
    "| --- | --- | --- | --- | --- |\n",
    "| cuadrantes | {1,4}        | nominal | Cuadrantes de bienestar económico y derechos sociales | 1)Pobres 2)Vulnerabes por carencia 3)Vulnerables por ingresos 4)No pobres y no vulnerables\n",
    "| ia_adulto     | {0, 6}    |         | Escala de IA para hogares sin menores de 18 años\n",
    "| ia_menor      | {0, 12}   |         | Escala de IA para hogares con menores de 18 años\n",
    "| int_pob       | {0, 1}    |         | Intensidad de la privación social: en situación de pobreza\n",
    "| int_pob_e     | {0, 1}    |         | Intensidad de la privación social: en situación de pobreza extrema\n",
    "| int_vul_ic    | {0, 1}    |         | Intensidad de la privación social: población vulnerable por carencias\n",
    "| int_ic        | {0, 1}    |         | Intensidad de la privación social: población vulnerable por carencias sociales    \n",
    "| pobreza       | {0,1}     | nominal | Pobreza                                                                     | 0)No 1) Sí\n",
    "| pobreza_l_ing  | {0,1}     | nominal | Población con ingreso menor a la línea de pobreza extrema por ingresos      | 0)>=línea 1)<línea\n",
    "| pobreza_prof   | {0, 1}    |         | Índice FGT con alfa igual a 1 (línea de pobreza por ingresos)\n",
    "| pobreza_e       | {0,1}     | nominal   | Pobreza extrema                                                             | 0)No 1) Sí\n",
    "| pobreza_e_l_ing  | {0,1}     | nominal   | Población con ingreso menor a la línea de pobreza extrema por ingresos      | 0)>=línea 1)<línea\n",
    "| pobreza_e_prof | {0, 1}    |           | Índice FGT con alfa igual a 1 (línea de pobreza extrema por ingresos)\n",
    "| pobreza_m     | {0,1}     | nominal   | Pobreza moderada                         | 0)No 1) Sí\n",
    "| priv          | {0, 6}    |           | Índice de Privación Social\n",
    "| priv_prof     | {0, 1}    | nominal   | Profundidad de la privación social\n",
    "| vul_ing       | {0,1}     | nominal   | Población vulnerable por ingresos        | 0)No 1)Sí\n",
    "| vul_ic        | {0,1}     | nominal   | Población vulnerable por carencias       | 0)No 1)Sí\n",
    "| no_pob_vul    | {0,1}     | nominal   | Población no pobre y no vulnerable       | 0)Pobre y vulnerable 1)No pobre y no vulnerable\n"
   ]
  },
  {
   "cell_type": "markdown",
   "metadata": {},
   "source": [
    "### Preguntas de investigación\n",
    "\n",
    "1. ¿Cuáles son los principales determinantes de la pobreza extrema por ingresos en México, considerando variables como educación, acceso a servicios de salud y seguridad social, y calidad de vivienda, y cómo varían estos factores entre diferentes entidades federativas?​\n",
    "\n",
    "2. ¿Existe una correlación significativa entre el nivel de ingresos per cápita en los hogares y la prevalencia de inseguridad alimentaria severa, y qué medidas de intervención podrían reducir esta inseguridad en las poblaciones más vulnerables?​\n",
    "\n",
    "3. ¿Cuál es el impacto del acceso a programas de apoyo social, como el Programa de Adultos Mayores, en la reducción de la pobreza y la mejora de la calidad de vida de las personas mayores en hogares de bajos recursos?​\n",
    "\n",
    "4. ¿Cómo se relacionan los indicadores de privación social y las carencias sociales con la intensidad de la privación social, y qué estrategias podrían implementarse para abordar de manera efectiva estas carencias y mejorar la calidad de vida en hogares vulnerables?​\n",
    "\n",
    "5. ¿Cuál es el efecto de la lengua indígena y la discapacidad en el acceso a servicios de salud, educación y empleo, y cómo se pueden diseñar políticas inclusivas para mejorar la participación y el bienestar de estas poblaciones en riesgo en diferentes regiones de México?\n",
    "\n",
    "\n",
    "#### Unidad de análisis\n",
    "\n",
    "| __Pregunta de investigación__ | __Unidad de análisis__ |\n",
    "| --------------------------------------------------- | ------------------ | \n",
    "| ¿Cuáles son los principales determinantes de la pobreza extrema por ingresos en México y cómo varían estos factores entre diferentes entidades federativas?​ | entidad federativa |  \n",
    "| ---------------------------------------------------- | ------------------ | \n",
    "| ¿Existe una correlación significativa entre el nivel de ingresos per cápita en los hogares y la prevalencia de inseguridad alimentaria severa, y qué medidas de intervención podrían reducir esta inseguridad en las poblaciones más vulnerables?​ | encuestados con inseguridad alimentaria y vulnerabilidad |\n",
    "| ---------------------------------------------------- | ------------------ | \n",
    "| ¿Cuál es el impacto del acceso a programas de apoyo social, como el Programa de Adultos Mayores, en la reducción de la pobreza y la mejora de la calidad de vida de las personas mayores en hogares de bajos recursos?​       | adultos mayores y adultos mayores en el PAM |\n",
    "| ---------------------------------------------------- | ------------------ | \n",
    "| ¿Cómo se relacionan los indicadores de privación social y las carencias sociales con la intensidad de la privación social, y qué estrategias podrían implementarse para abordar de manera efectiva estas carencias y mejorar la calidad de vida en hogares vulnerables?​    | indicadores de privación y carencia social e intensidad de privación |\n",
    "| ---------------------------------------------------- | ------------------ | \n",
    "| ¿Cuál es el efecto de la lengua indígena y la discapacidad en el acceso a servicios de salud, educación y empleo, y cómo se pueden diseñar políticas inclusivas para mejorar la participación y el bienestar de estas poblaciones en riesgo en diferentes regiones de México? | hablantes de lenguas indígenas y con discapacidad |\n"
   ]
  },
  {
   "cell_type": "markdown",
   "metadata": {},
   "source": [
    "## Procesamiento del Dataset"
   ]
  },
  {
   "cell_type": "markdown",
   "metadata": {},
   "source": [
    "### Librerías"
   ]
  },
  {
   "cell_type": "markdown",
   "metadata": {},
   "source": [
    "#### Análisis"
   ]
  },
  {
   "cell_type": "code",
   "execution_count": null,
   "metadata": {},
   "outputs": [],
   "source": [
    "import numpy as np\n",
    "import pandas as pd"
   ]
  },
  {
   "cell_type": "markdown",
   "metadata": {},
   "source": [
    "#### Salidas y visualización"
   ]
  },
  {
   "cell_type": "code",
   "execution_count": null,
   "metadata": {},
   "outputs": [],
   "source": [
    "# Para obtener múltiples salidas de una celda\n",
    "from IPython.core.interactiveshell import InteractiveShell\n",
    "from IPython.display import display\n",
    "InteractiveShell.ast_node_interactivity = \"all\""
   ]
  },
  {
   "cell_type": "code",
   "execution_count": null,
   "metadata": {},
   "outputs": [],
   "source": [
    "import matplotlib.pyplot as plt\n",
    "import seaborn as sns"
   ]
  },
  {
   "cell_type": "code",
   "execution_count": null,
   "metadata": {},
   "outputs": [],
   "source": [
    "#from ipywidgets import interact\n",
    "#%matplotlib inline"
   ]
  },
  {
   "cell_type": "markdown",
   "metadata": {},
   "source": [
    "### Variables"
   ]
  },
  {
   "cell_type": "markdown",
   "metadata": {},
   "source": [
    "#### Lectura del Dataset  \n",
    "Primero se hace una lectura del dataset, junto con una copia de éste."
   ]
  },
  {
   "cell_type": "code",
   "execution_count": null,
   "metadata": {},
   "outputs": [],
   "source": [
    "df = pd.read_csv('../pobreza22.csv',encoding='utf-8')"
   ]
  },
  {
   "cell_type": "code",
   "execution_count": null,
   "metadata": {},
   "outputs": [],
   "source": [
    "df_backup = df.copy()\n",
    "df"
   ]
  },
  {
   "cell_type": "markdown",
   "metadata": {},
   "source": [
    "#### Renombramientos de Columnas\n"
   ]
  },
  {
   "cell_type": "code",
   "execution_count": null,
   "metadata": {},
   "outputs": [],
   "source": [
    "# Lista de nombres de columnas\n",
    "col = df.columns\n",
    "col"
   ]
  },
  {
   "cell_type": "code",
   "execution_count": null,
   "metadata": {},
   "outputs": [],
   "source": [
    "# Llaves\n",
    "    # Permanecen iguales ['folioviv','foliohog','numren']\n",
    "# Estadística\n",
    "    # Permanecen iguales ['ent','est_dis','factor','rururb','tam_loc','ubica_geo','upm']\n",
    "# Información personal\n",
    "    # Permanecen iguales:  ['discap','edad','jub','hli','pam','sexo','tamhogesc','parentesco']\n",
    "df = df.rename(\n",
    "    columns= {'anac_e':'a_nacim', \n",
    "              'inas_esc':'ed_inas',\n",
    "              'niv_ed':'ed_niv',\n",
    "              'id_men':'p_menor',\n",
    "              }\n",
    ")\n",
    "# Información de salud y seguro\n",
    "        # Permanecen iguales:  ['ss_dir','par']\n",
    "df = df.rename(\n",
    "    columns= {'ins_ali':'ali_ins',\n",
    "              'lca':'ali_lim',\n",
    "              'dch':'ali_dieta',\n",
    "              's_salud':'salud_s',\n",
    "              'sa_dir':'salud_s_dir',\n",
    "              'jef_ss':'ss_jef',\n",
    "              'cony_ss':'ss_cony',\n",
    "              'hijo_ss':'ss_hijo',\n",
    "              }\n",
    ")\n",
    "# Información económica\n",
    "        # Permanecen iguales:  ['ing_mon','ing_lab','ing_ren','ing_tra','ing_pam','pea',]\n",
    "df = df.rename(\n",
    "    columns= {'ict':'ing_t',\n",
    "              'ictpc':'ing_t_pc',\n",
    "              'nomon':'ing_nomon',\n",
    "              'pago_esp':'ing_pago_esp',\n",
    "              'reg_esp':'ing_reg_esp',\n",
    "              }\n",
    ")\n",
    "# Indicadores de carencias\n",
    "        # Permanecen iguales:  ['ic_ali','ic_ali_nc','ic_rezedu','ic_segsoc','icv_pisos','icv_muros','icv_techos','icv_hac',]\n",
    "df = df.rename(\n",
    "    columns= {'carencias':'ic_1',\n",
    "              'carencias3':'ic_3', \n",
    "              'ic_asalud':'ic_salud_s',\n",
    "              'ic_cv':'icv',\n",
    "              'ic_sbv':'icsb',\n",
    "              'isb_agua':'icsb_agua',\n",
    "              'isb_dren':'icsb_dren',\n",
    "              'isb_luz':'icsb_luz',\n",
    "              'isb_combus':'icsb_comb',\n",
    "              }\n",
    ")\n",
    "# Otros indicadores y escalas\n",
    "        # Permanecen iguales:  ['cuadrantes','int_pob','pobreza', 'pobreza_e','pobreza_m','vul_ing',]\n",
    "df = df.rename(\n",
    "    columns= {'tot_iaad':'ia_adulto',\n",
    "              'tot_iamen':'ia_menor',\n",
    "              'int_pobe':'int_pob_e',\n",
    "              'int_vulcar':'int_vul_ic',\n",
    "              'int_caren':'int_ic', \n",
    "              'plp':'pobreza_l_ing',\n",
    "              'prof1': 'pobreza_prof',\n",
    "              'plp_e':'pobreza_e_l_ing',\n",
    "              'prof_e1': 'pobreza_e_prof',\n",
    "              'i_privacion':'priv',\n",
    "              'profun':'priv_prof',\n",
    "              'vul_car':'vul_ic',\n",
    "              'no_pobv':'no_pob_vul',\n",
    "\n",
    "              }\n",
    ")"
   ]
  },
  {
   "cell_type": "code",
   "execution_count": null,
   "metadata": {},
   "outputs": [],
   "source": [
    "col = df.columns\n",
    "col"
   ]
  },
  {
   "cell_type": "markdown",
   "metadata": {},
   "source": [
    "## Limpieza de Datos"
   ]
  },
  {
   "cell_type": "code",
   "execution_count": null,
   "metadata": {
    "slideshow": {
     "slide_type": "subslide"
    }
   },
   "outputs": [],
   "source": [
    "# No todas las columnas tienen valores completos\n",
    "null_data = df.isnull().sum()\n",
    "null_data = null_data[null_data > 0].sort_values(ascending=False)\n",
    "null_data"
   ]
  },
  {
   "cell_type": "markdown",
   "metadata": {},
   "source": [
    "### Limpieza de columnas pam + ing_pam"
   ]
  },
  {
   "cell_type": "markdown",
   "metadata": {},
   "source": [
    "La variable con mayor número de datos faltantes es PAM (Programa de Adultos Mayores). Según la CONEVAL, en el 2022, el programa sólo se le aplica a adultos mayores de 65 o más años de edad. De la misma manera, ing_pam sólo puede tener un valor, si el adulto mayor está dentro de programa.\n",
    "* Una de las primeras acciones que podemos tomar, es poner en 0 tanto ing_pam como pam, cuando la edad del encuestado es de menor de 65 años.  \n",
    "\n",
    "Con este cambio, a continuación se observa que ya no hay datos nulos dentro de la columna de pam, pero todavía quedan algunos datos de ing_pam con nulos."
   ]
  },
  {
   "cell_type": "code",
   "execution_count": null,
   "metadata": {},
   "outputs": [],
   "source": [
    "# Si la edad es menor de 65, pam e ing_pam serán igual a 0\n",
    "df.loc[df['edad'] < 65, ['pam', 'ing_pam']] = 0,0\n",
    "# PAM\n",
    "df.isnull().sum()['pam']\n",
    "df[df['pam'].isna()][[\"edad\",\"jub\",\"pam\",\"ing_pam\"]]"
   ]
  },
  {
   "cell_type": "code",
   "execution_count": null,
   "metadata": {},
   "outputs": [],
   "source": [
    "# ING PAM\n",
    "df.isnull().sum()['ing_pam']\n",
    "df[df['ing_pam'].isna()][[\"edad\",\"jub\",\"pam\",\"ing_pam\"]]"
   ]
  },
  {
   "cell_type": "markdown",
   "metadata": {},
   "source": [
    "* Para resolverlo, ahora simplemente tenemos que determinar el valor de ingresos del programa dependiendo de si el encuestado está en el programa, dado que pam ya no tiene nulos.  \n",
    "\n",
    "Este cambio logró eliminar los nulos para ing_pam."
   ]
  },
  {
   "cell_type": "code",
   "execution_count": null,
   "metadata": {},
   "outputs": [],
   "source": [
    "df.loc[df['pam'] == 0, ['ing_pam']] = 0\n",
    "# PAM\n",
    "df.isnull().sum()['ing_pam']\n",
    "df[df['ing_pam'].isna()][[\"edad\",\"jub\",\"pam\",\"ing_pam\"]]"
   ]
  },
  {
   "cell_type": "markdown",
   "metadata": {},
   "source": [
    "### Limpieza de columnas ia_adulto + ia_menor"
   ]
  },
  {
   "cell_type": "markdown",
   "metadata": {},
   "source": [
    "Estos valores son escalas de inseguridad alimentaria, y a partir del archivo de python en kaggle y por su definición, sabemos que todo ia_adulto corresponde a p_menor (población menor) en 0 y ia_menor a p_menor en 1. Esto es, casa sin menores y casa con menores respectivamente.  \n",
    "+ Corroboramos con el dataset, viendo si la cantidad de casas con menores y casas sin menores son los causantes.\n",
    "\n",
    "> Fuente: \n",
    "Maldonado, D. (2022). 2022 Mexico's poverty survey. Kaggle. Recuperado de: https://www.kaggle.com/datasets/davidmaldonadoc/2022-mexicos-poverty-survey?resource=download&select=Pobreza+2022+CONEVAL.py"
   ]
  },
  {
   "cell_type": "code",
   "execution_count": null,
   "metadata": {},
   "outputs": [],
   "source": [
    "print(\"--Dataset--\")\n",
    "df['p_menor'].value_counts(dropna=False)\n",
    "\n",
    "df_limpieza_ia_a = df[df['ia_adulto'].isna()][[\"edad\",\"ia_adulto\",\"ia_menor\",\"p_menor\",\"ali_ins\"]]\n",
    "print(\"--IA sin menores (\" + str(len(df_limpieza_ia_a)) +\" valores) --\")\n",
    "df_limpieza_ia_a['p_menor'].value_counts(dropna=False,normalize=True)\n",
    "\n",
    "\n",
    "df_limpieza_ia_m = df[df['ia_menor'].isna()][[\"edad\",\"ia_adulto\",\"ia_menor\",\"p_menor\",\"ali_ins\"]]\n",
    "print(\"--IA con menores--(\" + str(len(df_limpieza_ia_m)) +\" valores) --\")\n",
    "df_limpieza_ia_m['p_menor'].value_counts(dropna=False,normalize=True)"
   ]
  },
  {
   "cell_type": "markdown",
   "metadata": {},
   "source": [
    "Podemos observar que ia_adulto y ia_menor son mutuamente excluyentes. Si p_menor es 1, se toma el valor de ia_menor. Si p_menor es 0, se toma el valor de ia_mayor.  \n",
    "Por lo pronto, <ins>se pondrán en 0 los nulos, considerando que cualquier análisis de estas dos columnas, debe hacerse tomando en cuenta el valor de p_menor</ins>."
   ]
  },
  {
   "cell_type": "code",
   "execution_count": null,
   "metadata": {},
   "outputs": [],
   "source": [
    "df.loc[df['ia_adulto'].isnull(), ['ia_adulto']] = 0\n",
    "df.loc[df['ia_menor'].isnull(), ['ia_menor']] = 0"
   ]
  },
  {
   "cell_type": "markdown",
   "metadata": {},
   "source": [
    "### Limpieza de columnas pea"
   ]
  },
  {
   "cell_type": "markdown",
   "metadata": {},
   "source": [
    "Tenemos 81462 datos nulos en pea. A partir del archivo de python dado por DAVID MALDONADO CASTILLEJOS en Kaggle, Pobreza 2022 CONEVAL.py, podemos ver la manera en la que PEA se calcula.  Uno de los primeros puntos que llama nuestra atención, es que dice ser calculado para personas de 16 años o más.  \n",
    "* Bajo ese umbral, primero observamos cuántos de los valores nulos corresponden a encuestados menores de 16 años. \n",
    "\n",
    "> Fuente: \n",
    "Maldonado, D. (2022). 2022 Mexico's poverty survey. Kaggle. Recuperado de: https://www.kaggle.com/datasets/davidmaldonadoc/2022-mexicos-poverty-survey?resource=download&select=Pobreza+2022+CONEVAL.py"
   ]
  },
  {
   "cell_type": "code",
   "execution_count": null,
   "metadata": {},
   "outputs": [],
   "source": [
    "df_limpieza_pea = df[df['pea'].isna()][['pea','edad']]\n",
    "\n",
    "print('Número de encuestados con edad < 16 años: '+ str(len(df.loc[df['edad']<16])))\n",
    "print('Número de nulos en pea: '+ str(df.isnull().sum()['pea']))\n",
    "print('Número de encuestados de < 16 años dentro de los nulos: ' + str(len(df_limpieza_pea.loc[df_limpieza_pea['edad']<16])))"
   ]
  },
  {
   "cell_type": "markdown",
   "metadata": {},
   "source": [
    "Esto quiere decir, que todos los que no tienen valores en pea, son menores de 16 años. <ins>Se decidió poner en 0 el pea de los menores a 16 años</ins>. "
   ]
  },
  {
   "cell_type": "code",
   "execution_count": null,
   "metadata": {},
   "outputs": [],
   "source": [
    "df.loc[df['edad'] < 16, ['pea']] = 0"
   ]
  },
  {
   "cell_type": "markdown",
   "metadata": {},
   "source": [
    "### Limpieza de ed_inas + ed_niv + hli"
   ]
  },
  {
   "cell_type": "markdown",
   "metadata": {},
   "source": [
    "Notamos que hay un mismo número de nulos (11,470) para las columnas ed_inas, hli y ed_niv. Checamos entonces si corresponden las filas con valores faltantes para estas 3 columnas.  \n",
    "A continuación, podamos corroborar que esta suposición es correcta al contar las filas que tienen valores nulos para las 3 columnas."
   ]
  },
  {
   "cell_type": "code",
   "execution_count": null,
   "metadata": {},
   "outputs": [],
   "source": [
    "df_limpieza_ed = df[df['ed_inas'].isna()][[\"edad\",\"folioviv\",\"foliohog\",\"numren\",\"ed_inas\",\"hli\",\"ed_niv\"]]    \n",
    "df_limpieza_ed \n",
    "df_limpieza_ed.isnull().sum()\n",
    "df_limpieza_ed.isna().sum()"
   ]
  },
  {
   "cell_type": "markdown",
   "metadata": {},
   "source": [
    "Al obtener los datos en la última búsqueda, notamos que las edades eran bajas. Por lo que obtuvimos el máximo que dio un resultado de 2 años. Comparamos cómo se manejaron los valores de edades de máximo 2 años, para ed_inas, ed_niv y hli. Al hacer esta búsqueda, notamos que la misma cantidad de observaciones correspondían para todo el dataset. \n",
    "Esto significa, que <ins>todos los nulos de estas 3 columnas, son a causa de que el encuestado es un menor de máximo 3 años.</ins>  "
   ]
  },
  {
   "cell_type": "code",
   "execution_count": null,
   "metadata": {},
   "outputs": [],
   "source": [
    "df_limpieza_ed['edad'].max()\n",
    "df.loc[df['edad'] < 3, ['edad','ed_niv', 'ed_inas','hli']]"
   ]
  },
  {
   "cell_type": "markdown",
   "metadata": {},
   "source": [
    "* Nuestra propuesta para solucionar esta falta de datos, es comparar cómo se manejan a los menores que tienen 3 años. "
   ]
  },
  {
   "cell_type": "code",
   "execution_count": null,
   "metadata": {},
   "outputs": [],
   "source": [
    "df_limpieza_ed = df.loc[df['edad'] == 3, ['edad','ed_niv', 'ed_inas','hli']]"
   ]
  },
  {
   "cell_type": "markdown",
   "metadata": {},
   "source": [
    "#### Nivel educativo"
   ]
  },
  {
   "cell_type": "code",
   "execution_count": null,
   "metadata": {},
   "outputs": [],
   "source": [
    "df_limpieza_ed['ed_niv'].value_counts(dropna=False,normalize=True)\n",
    "df_limpieza_ed.loc[df_limpieza_ed['ed_niv']==1, ['edad','ed_niv', 'ed_inas','hli']]"
   ]
  },
  {
   "cell_type": "markdown",
   "metadata": {},
   "source": [
    "Un 99.95% de los niños de 3 años, tienen un nivel de escolaridad menor a la primaria, en donde 0.04% (2 encuestados) tienen un nivel de educativo mayor o igual a la primaria pero menor al de secundaria. Ambos niños tienen inasistencia a la escuela, por lo que se supone que estos son casos extremos.    \n",
    "Ya que hay una alta improbabilidad de que niños de 3 años tengan un nivel de primaria, y bajo la suposición de que un niño de 2 años tendrá menos probabilidad de estar en este nivel educativo, <ins>decidimos reemplazar los nulos de nivel educativo con un 0 (nivel educativo menor a la primaria)</ins>."
   ]
  },
  {
   "cell_type": "markdown",
   "metadata": {},
   "source": [
    "#### Inasistencia a la escuela"
   ]
  },
  {
   "cell_type": "code",
   "execution_count": null,
   "metadata": {},
   "outputs": [],
   "source": [
    "df_limpieza_ed['ed_inas'].value_counts(dropna=False,normalize=True)\n",
    "df_limpieza_ed.loc[df_limpieza_ed['ed_inas']==1, ['edad','ed_niv', 'ed_inas','hli']]"
   ]
  },
  {
   "cell_type": "markdown",
   "metadata": {},
   "source": [
    "A partir de los valores de inasistencia a la escuela para niños de 3 años, observamos que un 55.81% no asiste, mientras que un 44.19% asiste. Considerando que sólo 2 de ellos tienen un grado de escolaridad de primaria, sabemos que aquellos que asisten a la escuela están en su mayoría, todavía debajo del nivel de primaria. Considerando que en 2022, la SEP considera ingreso de niños de 4 años a 2do de preescolar y siendo 1ro de preescolar no obligatorio (Jalisco, 2022), para esta investigación asumirermos que en su mayoría, ningún niño con edad menos a 3 años asiste a la escuela. <ins>Decidimos reemplazar los nulos de asistencia a la escuela (considerando preescolar como la escolaridad más baja)</ins>.\n",
    "\n",
    "> Fuente: \n",
    "Jalisco. (2022). EN FEBRERO SON LAS PREINSCRIPCIONES A EDUCACIÓN BÁSICA PARA EL CICLO ESCOLAR 2022-2023. Recuperado de: https://www.jalisco.gob.mx/es/gobierno/comunicados/en-febrero-son-las-preinscripciones-educacion-basica-para-el-ciclo-escolar-2022"
   ]
  },
  {
   "cell_type": "markdown",
   "metadata": {},
   "source": [
    "#### Hablantes de lengua indígena"
   ]
  },
  {
   "cell_type": "code",
   "execution_count": null,
   "metadata": {},
   "outputs": [],
   "source": [
    "df_limpieza_ed['hli'].value_counts(dropna=False,normalize=True)\n",
    "df_limpieza_ed.loc[df_limpieza_ed['hli']==1, ['edad','ed_niv', 'ed_inas','hli']]"
   ]
  },
  {
   "cell_type": "markdown",
   "metadata": {},
   "source": [
    "A partir de los valores de habla de lengua indígena para niños de 3 años, observamos que un 95.92% no lo habla, mientras que un 4.08% sí habla una lengua indígena. Similarmente al nivel educativo, vemos que el caso de habla indígena es más improbable que probable. Además, se debería considerar que los niños menores de 3 años tendrían que saber hablar y vivir/estar en contacto directo con un cuidador que también hable alguna lengua o vivir en una población indígena. Debido a las probabilidades observadas y considerando la edad de los encuestados, <ins>cecidimos reemplazar los nulos de habla indígena con un 0</ins>.  \n",
    "\n",
    "Otra de las posibles maneras de abordar estos datos, podría ser la creación de un modelo predictivo en base a probabilidad de habla indígena según edad, además de considerar el área en donde el menor encuestado vive."
   ]
  },
  {
   "cell_type": "markdown",
   "metadata": {},
   "source": [
    "#### Reemplazo de Nulos"
   ]
  },
  {
   "cell_type": "code",
   "execution_count": null,
   "metadata": {},
   "outputs": [],
   "source": [
    "df.loc[df['edad'] < 3, ['ed_niv', 'ed_inas','hli']] = 0,0,0"
   ]
  },
  {
   "cell_type": "markdown",
   "metadata": {},
   "source": [
    "### Limpieza de columna discap !!!! TODO !!!!"
   ]
  },
  {
   "cell_type": "markdown",
   "metadata": {},
   "source": [
    "A partir del análisis del habla indígena, la inasistencia y el nivel educativo, creemos que la edad puede estar fuertemente relacionada a "
   ]
  },
  {
   "cell_type": "code",
   "execution_count": null,
   "metadata": {},
   "outputs": [],
   "source": [
    "df_limpieza_discap = df[df['discap'].isna()][[\"edad\",\"discap\",\"pea\"]]    \n",
    "df_limpieza_discap"
   ]
  },
  {
   "cell_type": "code",
   "execution_count": null,
   "metadata": {},
   "outputs": [],
   "source": [
    "df_limpieza_discap['pea'].value_counts(dropna=False,normalize=True)"
   ]
  },
  {
   "cell_type": "code",
   "execution_count": null,
   "metadata": {},
   "outputs": [],
   "source": [
    "df[df['discap']==1][[\"edad\",\"discap\",\"pea\"]]    "
   ]
  },
  {
   "cell_type": "markdown",
   "metadata": {},
   "source": [
    "### Limpieza de otros indicadores"
   ]
  },
  {
   "cell_type": "markdown",
   "metadata": {},
   "source": [
    "Las columnas con valores restantes, son indicadores. Para idear maneras de limpieza a estos datos, primero hay que tener en cuenta de que hay dependencias entre ellos, ya que algunos son calculados sobre otros. Entre paréntesis se indican la cantidad de nulos por columna.\n",
    "\n",
    "**Dependen de ic**\n",
    "+ ic_1(14) y ic_3(14): son calculadas a partir del conteo de indicadores de carencias que tiene la persona.\n",
    "+ vul_ic(14) y int_vul_ic(14): vulnerabilidad calculada a partir de carencias.\n",
    "    + **Dependen de vulnerabilidad**: no_pob_vul(14), vul_ing(14), cuadrantes(14)\n",
    "+ int_ic(14): intensidad calculada a partir de carencias.\n",
    "+ pobreza(14), pobreza_m(14) y pobreza_e(14):\n",
    "    + **De pobreza dependen**: int_pob_e(14), int_pob(14), priv_prof(14), priv(14)\n",
    "\n",
    "IC incluye las carencias de servicios básicos (icsb) y de carencias de vivienda (icv). Ambos tienen 7 nulos faltantes, y entre algunas variables de las que dependen, se encuentran icsb_comb y icv_pisos respectivamente, que también tienen 7 variables faltantes. Primero analizamos estas 4 variables, para verificar que los nulos son dados gracias a los datos faltantes de icsb_comb y icsv_pisos."
   ]
  },
  {
   "cell_type": "code",
   "execution_count": null,
   "metadata": {},
   "outputs": [],
   "source": [
    "df_limpieza_ind = df[df['icsb'].isna()]\n",
    "df_limpieza_ind = df_limpieza_ind.append(df[df['icv'].isna()])\n",
    "df_limpieza_ind = df_limpieza_ind[[\"folioviv\",\"foliohog\",\"numren\",\"icsb\",\"icsb_comb\",\"icv\",\"icv_pisos\",\"ic_1\",\"ic_3\",\"vul_ic\",\"int_vul_ic\",\"vul_ing\",\"no_pob_vul\",\"cuadrantes\",\"int_ic\",\"pobreza_m\",\"pobreza_e\",\"int_pob_e\",\"pobreza\",\"int_pob\",\"priv\",\"priv_prof\",]]\n",
    "df_limpieza_ind\n",
    "df_limpieza_ind.isnull().sum()"
   ]
  },
  {
   "cell_type": "markdown",
   "metadata": {},
   "source": [
    "A partir de esta búsqueda, encontramos que <ins>los causantes de las 14 observaciones nulas en las columnas, son los 7 datos faltantes en icsb_comb y los otros 7 datos faltantes en icv_pisos</ins>.  \n",
    "Además, podemos ver que la información faltante afecta a la misma casa (llave compuesta de folioviv + foliohog). Estos datos faltantes no se pueden asumir, por lo que una idea es corroborar si hay información faltante en todos los miembros encuestados de esa casa. \n",
    "* En caso de encontrar otro miembro de la casa, se podrían llenar los mismos datos de acceso a combustible y total de pisos en la vivienda."
   ]
  },
  {
   "cell_type": "code",
   "execution_count": null,
   "metadata": {},
   "outputs": [],
   "source": [
    "# Encontramos la cantidad de residentes en cada vivienda, a partir de los datos de los 14 nulos\n",
    "df_limpieza_ind[['folioviv','foliohog','numren']].groupby(['folioviv','foliohog']).count()\n",
    "\n",
    "# Lista de IDs encontrados\n",
    "ids_limpieza_ind = df_limpieza_ind['folioviv'].tolist()\n",
    "\n",
    "# Encontramos la cantidad de residentes en cada vivienda, a partir del dataset original\n",
    "df_limpieza_ind_2 = df.loc[df['folioviv'].isin(ids_limpieza_ind)][['folioviv','foliohog','numren']]\n",
    "df_limpieza_ind_2.groupby(['folioviv','foliohog']).count()"
   ]
  },
  {
   "cell_type": "markdown",
   "metadata": {},
   "source": [
    "Como se pudo ver, no hay ningún residente extra en la casa de quienes tuvieron un valor nulo. Por lo tanto, no se puede obtener información verídica sobre el acceso a combustible y los pisos de la vivienda. Por ello y dado que son sólo 14 observaciones de más de 350k, <ins>se decidió eliminar estas observaciones del dataset</ins>."
   ]
  },
  {
   "cell_type": "code",
   "execution_count": null,
   "metadata": {},
   "outputs": [],
   "source": [
    "df = df[~df['folioviv'].isin(ids_limpieza_ind)]"
   ]
  },
  {
   "cell_type": "markdown",
   "metadata": {},
   "source": [
    "### Verificaciones Finales"
   ]
  },
  {
   "cell_type": "code",
   "execution_count": null,
   "metadata": {},
   "outputs": [],
   "source": [
    "# Verificamos que ya no hay datos faltantes\n",
    "null_data = df.isnull().sum()\n",
    "null_data = null_data[null_data > 0].sort_values(ascending=False)\n",
    "null_data"
   ]
  },
  {
   "cell_type": "code",
   "execution_count": null,
   "metadata": {},
   "outputs": [],
   "source": [
    "# Podemos observar que no hay duplicaciones de datos\n",
    "df.duplicated().sum()"
   ]
  },
  {
   "cell_type": "markdown",
   "metadata": {},
   "source": [
    "## Exportación  \n",
    "Es un df.to_csv()"
   ]
  },
  {
   "cell_type": "markdown",
   "metadata": {},
   "source": [
    "## Análisis Univariado #1\n",
    "Michelle Figueroa Jacques is727328"
   ]
  },
  {
   "cell_type": "code",
   "execution_count": null,
   "metadata": {},
   "outputs": [],
   "source": [
    "nominales_1 = ['ent','est_dis','rururb','upm','discap','jub','hli','inas_esc','id_men','pam','sexo','parentesco','factor','ubica_geo']\n",
    "ordinales_1 = ['tam_loc','niv_ed'] \n",
    "intervalo_1 = ['edad']\n",
    "razon_1 = ['anac_e','tamhogesc']"
   ]
  },
  {
   "cell_type": "code",
   "execution_count": null,
   "metadata": {},
   "outputs": [],
   "source": [
    "# Conversión de nominales a categóricos\n",
    "for i in nominales_1:\n",
    "    df[i] = df[i].astype('category')\n",
    "    "
   ]
  },
  {
   "cell_type": "markdown",
   "metadata": {},
   "source": [
    "### Cardinalidad y Exploración de Muestras\n"
   ]
  },
  {
   "cell_type": "markdown",
   "metadata": {},
   "source": [
    "#### Cardinalidad"
   ]
  },
  {
   "cell_type": "code",
   "execution_count": null,
   "metadata": {},
   "outputs": [],
   "source": [
    "for i in nominales_1 :\n",
    "    print(i)\n",
    "    df[i].unique()\n",
    "    print()    "
   ]
  },
  {
   "cell_type": "markdown",
   "metadata": {},
   "source": [
    "##### Hallazgo\n",
    "+ En este dataset todas las nominales pueden ser consideradas de baja cardinalidad, excepto ent, est_dis, upm, parentesco, factor y ubica_geo, las demás son dicotómicas"
   ]
  },
  {
   "cell_type": "markdown",
   "metadata": {},
   "source": [
    "#### Conteo"
   ]
  },
  {
   "cell_type": "code",
   "execution_count": null,
   "metadata": {},
   "outputs": [],
   "source": [
    "for i in nominales_1 + ordinales_1:\n",
    "    print(i)\n",
    "    df[i].value_counts()\n",
    "    print()"
   ]
  },
  {
   "cell_type": "markdown",
   "metadata": {},
   "source": [
    "\n",
    "##### Hallazgo\n",
    "+ Casi ninguna de las muestras esta balanceada"
   ]
  },
  {
   "cell_type": "markdown",
   "metadata": {},
   "source": [
    "### Estadística Descriptiva\n"
   ]
  },
  {
   "cell_type": "code",
   "execution_count": null,
   "metadata": {},
   "outputs": [],
   "source": [
    "for i in nominales_1 + ordinales_1 + intervalo_1 + razon_1:\n",
    "    print(i)\n",
    "    df[i].describe()\n",
    "    print()"
   ]
  },
  {
   "cell_type": "markdown",
   "metadata": {},
   "source": [
    "### Gráficos\n"
   ]
  },
  {
   "cell_type": "markdown",
   "metadata": {},
   "source": [
    "ENT"
   ]
  },
  {
   "cell_type": "code",
   "execution_count": null,
   "metadata": {},
   "outputs": [],
   "source": [
    "prop_ent = df.ent.value_counts(normalize=True)\n",
    "prop_ent"
   ]
  },
  {
   "cell_type": "code",
   "execution_count": null,
   "metadata": {},
   "outputs": [],
   "source": [
    "freq = df.ent.value_counts()\n",
    "freq.index, freq.values"
   ]
  },
  {
   "cell_type": "code",
   "execution_count": null,
   "metadata": {},
   "outputs": [],
   "source": [
    "fig,ax = plt.subplots(1,2,figsize=(20,8))\n",
    "ax[0].title.set_text('Porcentaje por entidad federativa')  \n",
    "ax[1].title.set_text('Frecuencia de entidad federativa')  \n",
    "ax[0].pie(prop_ent, labels=prop_ent.index, autopct='%.1f%%')\n",
    "sns.countplot(data=df, x =\"ent\",ax=ax[1])\n",
    "plt.show()"
   ]
  },
  {
   "cell_type": "markdown",
   "metadata": {},
   "source": [
    "##### Hallazgo\n",
    "+ Tienen gran cantidad en cada una de las entidades federativas"
   ]
  },
  {
   "cell_type": "markdown",
   "metadata": {},
   "source": [
    "EST_DIS"
   ]
  },
  {
   "cell_type": "code",
   "execution_count": null,
   "metadata": {},
   "outputs": [],
   "source": [
    "prop_estdis = df.est_dis.value_counts(normalize=True)\n",
    "prop_estdis"
   ]
  },
  {
   "cell_type": "code",
   "execution_count": null,
   "metadata": {},
   "outputs": [],
   "source": [
    "freq = df.est_dis.value_counts()\n",
    "freq.index, freq.values"
   ]
  },
  {
   "cell_type": "code",
   "execution_count": null,
   "metadata": {},
   "outputs": [],
   "source": [
    "fig,ax = plt.subplots(figsize=(60,20))\n",
    "ax.title.set_text('Frecuencia de Estrato de diseño') \n",
    "sns.countplot(data=df, x =\"est_dis\")\n",
    "plt.show()"
   ]
  },
  {
   "cell_type": "markdown",
   "metadata": {},
   "source": [
    "##### Hallazgo\n",
    "+ Vemos como el estrato de diseño esta muy variado"
   ]
  },
  {
   "cell_type": "markdown",
   "metadata": {},
   "source": [
    "RURURB"
   ]
  },
  {
   "cell_type": "code",
   "execution_count": null,
   "metadata": {},
   "outputs": [],
   "source": [
    "prop_rururb = df.rururb.value_counts(normalize=True)\n",
    "prop_rururb"
   ]
  },
  {
   "cell_type": "code",
   "execution_count": null,
   "metadata": {},
   "outputs": [],
   "source": [
    "freq = df.rururb.value_counts()\n",
    "freq.index, freq.values"
   ]
  },
  {
   "cell_type": "code",
   "execution_count": null,
   "metadata": {},
   "outputs": [],
   "source": [
    "fig,ax = plt.subplots(1,2,figsize=(10,8))\n",
    "ax[0].title.set_text('Porcentaje por localidades')  \n",
    "ax[1].title.set_text('Frecuencia de localidades')  \n",
    "ax[0].pie(prop_rururb, labels=prop_rururb.index, autopct='%.1f%%')\n",
    "sns.countplot(data=df, x =\"rururb\",ax=ax[1])\n",
    "plt.show()"
   ]
  },
  {
   "cell_type": "markdown",
   "metadata": {},
   "source": [
    "##### Hallazgo\n",
    "+ La mayoria tiene ubicaciones urbanas"
   ]
  },
  {
   "cell_type": "markdown",
   "metadata": {},
   "source": [
    "UPM"
   ]
  },
  {
   "cell_type": "code",
   "execution_count": null,
   "metadata": {},
   "outputs": [],
   "source": [
    "prop_upm = df.upm.value_counts(normalize=True)\n",
    "prop_upm"
   ]
  },
  {
   "cell_type": "code",
   "execution_count": null,
   "metadata": {},
   "outputs": [],
   "source": [
    "freq = df.upm.value_counts()\n",
    "freq.index, freq.values"
   ]
  },
  {
   "cell_type": "code",
   "execution_count": null,
   "metadata": {},
   "outputs": [],
   "source": [
    "fig,ax = plt.subplots(figsize=(60,20))\n",
    "ax.title.set_text('Frecuencia de Unidad primaria de muestreo') \n",
    "sns.countplot(data=df, x =\"upm\")\n",
    "plt.show()"
   ]
  },
  {
   "cell_type": "markdown",
   "metadata": {},
   "source": [
    "##### Hallazgo\n",
    "+ La unidad primaria de muestreo varia mucho "
   ]
  },
  {
   "cell_type": "markdown",
   "metadata": {},
   "source": [
    "DISCAP"
   ]
  },
  {
   "cell_type": "code",
   "execution_count": null,
   "metadata": {},
   "outputs": [],
   "source": [
    "prop_discap = df.discap.value_counts(normalize=True)\n",
    "prop_discap"
   ]
  },
  {
   "cell_type": "code",
   "execution_count": null,
   "metadata": {},
   "outputs": [],
   "source": [
    "freq = df.discap.value_counts()\n",
    "freq.index, freq.values"
   ]
  },
  {
   "cell_type": "code",
   "execution_count": null,
   "metadata": {},
   "outputs": [],
   "source": [
    "fig,ax = plt.subplots(1,2,figsize=(10,8))\n",
    "ax[0].title.set_text('Porcentaje por discapacitados')  \n",
    "ax[1].title.set_text('Frecuencia de discapacitados')  \n",
    "ax[0].pie(prop_discap, labels=prop_discap.index, autopct='%.1f%%')\n",
    "sns.countplot(data=df, x =\"discap\",ax=ax[1])\n",
    "plt.show()"
   ]
  },
  {
   "cell_type": "markdown",
   "metadata": {},
   "source": [
    "##### Hallazgo\n",
    "+ La mayoria no presenta ninguna discapacidad"
   ]
  },
  {
   "cell_type": "markdown",
   "metadata": {},
   "source": [
    "JUB"
   ]
  },
  {
   "cell_type": "code",
   "execution_count": null,
   "metadata": {},
   "outputs": [],
   "source": [
    "prop_jub = df.jub.value_counts(normalize=True)\n",
    "prop_jub"
   ]
  },
  {
   "cell_type": "code",
   "execution_count": null,
   "metadata": {},
   "outputs": [],
   "source": [
    "freq = df.jub.value_counts()\n",
    "freq.index, freq.values"
   ]
  },
  {
   "cell_type": "code",
   "execution_count": null,
   "metadata": {},
   "outputs": [],
   "source": [
    "fig,ax = plt.subplots(1,2,figsize=(10,8))\n",
    "ax[0].title.set_text('Porcentaje por pensionado o jubilado')  \n",
    "ax[1].title.set_text('Frecuencia de pensionado o jubilado')  \n",
    "ax[0].pie(prop_jub, labels=prop_jub.index, autopct='%.1f%%')\n",
    "sns.countplot(data=df, x =\"jub\",ax=ax[1])\n",
    "plt.show()"
   ]
  },
  {
   "cell_type": "markdown",
   "metadata": {},
   "source": [
    "##### Hallazgo\n",
    "+ La cantidad de personas no pensionadas/jubiladas es mucho mayor"
   ]
  },
  {
   "cell_type": "markdown",
   "metadata": {},
   "source": [
    "HLI"
   ]
  },
  {
   "cell_type": "code",
   "execution_count": null,
   "metadata": {},
   "outputs": [],
   "source": [
    "prop_hli = df.hli.value_counts(normalize=True)\n",
    "prop_hli"
   ]
  },
  {
   "cell_type": "code",
   "execution_count": null,
   "metadata": {},
   "outputs": [],
   "source": [
    "freq = df.hli.value_counts()\n",
    "freq.index, freq.values"
   ]
  },
  {
   "cell_type": "code",
   "execution_count": null,
   "metadata": {},
   "outputs": [],
   "source": [
    "fig,ax = plt.subplots(1,2,figsize=(10,8))\n",
    "ax[0].title.set_text('Porcentaje por hablante de lengua indigena')  \n",
    "ax[1].title.set_text('Frecuencia de hablante de lengua indigena')  \n",
    "ax[0].pie(prop_jub, labels=prop_hli.index, autopct='%.1f%%')\n",
    "sns.countplot(data=df, x =\"hli\",ax=ax[1])\n",
    "plt.show()"
   ]
  },
  {
   "cell_type": "markdown",
   "metadata": {},
   "source": [
    "##### Hallazgo\n",
    "+ la mayoria no habla lenguas indigenas"
   ]
  },
  {
   "cell_type": "markdown",
   "metadata": {},
   "source": [
    "INAS_ESC"
   ]
  },
  {
   "cell_type": "code",
   "execution_count": null,
   "metadata": {},
   "outputs": [],
   "source": [
    "prop_inasesc = df.inas_esc.value_counts(normalize=True)\n",
    "prop_inasesc"
   ]
  },
  {
   "cell_type": "code",
   "execution_count": null,
   "metadata": {},
   "outputs": [],
   "source": [
    "freq = df.inas_esc.value_counts()\n",
    "freq.index, freq.values"
   ]
  },
  {
   "cell_type": "code",
   "execution_count": null,
   "metadata": {},
   "outputs": [],
   "source": [
    "fig,ax = plt.subplots(1,2,figsize=(10,8))\n",
    "ax[0].title.set_text('Porcentaje por asistencia a la escuela')  \n",
    "ax[1].title.set_text('Frecuencia de asistencia a la escuela')  \n",
    "ax[0].pie(prop_inasesc, labels=prop_inasesc.index, autopct='%.1f%%')\n",
    "sns.countplot(data=df, x =\"inas_esc\",ax=ax[1])\n",
    "plt.show()"
   ]
  },
  {
   "cell_type": "markdown",
   "metadata": {},
   "source": [
    "##### Hallazgo\n",
    "+ La minoria no asiste a la escuela"
   ]
  },
  {
   "cell_type": "markdown",
   "metadata": {},
   "source": [
    "ID_MEN"
   ]
  },
  {
   "cell_type": "code",
   "execution_count": null,
   "metadata": {},
   "outputs": [],
   "source": [
    "prop_idmen = df.id_men.value_counts(normalize=True)\n",
    "prop_idmen"
   ]
  },
  {
   "cell_type": "code",
   "execution_count": null,
   "metadata": {},
   "outputs": [],
   "source": [
    "freq = df.id_men.value_counts()\n",
    "freq.index, freq.values"
   ]
  },
  {
   "cell_type": "code",
   "execution_count": null,
   "metadata": {},
   "outputs": [],
   "source": [
    "fig,ax = plt.subplots(1,2,figsize=(10,8))\n",
    "ax[0].title.set_text('Porcentaje por poblacion entre 0-17 años')  \n",
    "ax[1].title.set_text('Frecuencia de poblacion entre 0-17 años')  \n",
    "ax[0].pie(prop_idmen, labels=prop_idmen.index, autopct='%.1f%%')\n",
    "sns.countplot(data=df, x =\"id_men\",ax=ax[1])\n",
    "plt.show()"
   ]
  },
  {
   "cell_type": "markdown",
   "metadata": {},
   "source": [
    "##### Hallazgo\n",
    "+ La mayoria tiene población entre los 0-17 años"
   ]
  },
  {
   "cell_type": "markdown",
   "metadata": {},
   "source": [
    "PAM"
   ]
  },
  {
   "cell_type": "code",
   "execution_count": null,
   "metadata": {},
   "outputs": [],
   "source": [
    "prop_pam = df.pam.value_counts(normalize=True)\n",
    "prop_pam"
   ]
  },
  {
   "cell_type": "code",
   "execution_count": null,
   "metadata": {},
   "outputs": [],
   "source": [
    "freq = df.pam.value_counts()\n",
    "freq.index, freq.values"
   ]
  },
  {
   "cell_type": "code",
   "execution_count": null,
   "metadata": {},
   "outputs": [],
   "source": [
    "fig,ax = plt.subplots(1,2,figsize=(10,8))\n",
    "ax[0].title.set_text('Porcentaje por programa de adultos mayores')  \n",
    "ax[1].title.set_text('Frecuencia de programa de adultos mayores')  \n",
    "ax[0].pie(prop_pam, labels=prop_pam.index, autopct='%.1f%%')\n",
    "sns.countplot(data=df, x =\"pam\",ax=ax[1])\n",
    "plt.show()"
   ]
  },
  {
   "cell_type": "markdown",
   "metadata": {},
   "source": [
    "##### Hallazgo\n",
    "+ Es casi igual la cantidad de programa de adultos mayores"
   ]
  },
  {
   "cell_type": "markdown",
   "metadata": {},
   "source": [
    "SEXO"
   ]
  },
  {
   "cell_type": "code",
   "execution_count": null,
   "metadata": {},
   "outputs": [],
   "source": [
    "prop_sexo = df.sexo.value_counts(normalize=True)\n",
    "prop_sexo"
   ]
  },
  {
   "cell_type": "code",
   "execution_count": null,
   "metadata": {},
   "outputs": [],
   "source": [
    "freq = df.sexo.value_counts()\n",
    "freq.index, freq.values"
   ]
  },
  {
   "cell_type": "code",
   "execution_count": null,
   "metadata": {},
   "outputs": [],
   "source": [
    "fig,ax = plt.subplots(1,2,figsize=(10,8))\n",
    "ax[0].title.set_text('Porcentaje por sexo femenino o masculino')  \n",
    "ax[1].title.set_text('Frecuencia de sexo femenino o masculino')  \n",
    "ax[0].pie(prop_sexo, labels=prop_sexo.index, autopct='%.1f%%')\n",
    "sns.countplot(data=df, x =\"sexo\",ax=ax[1])\n",
    "plt.show()"
   ]
  },
  {
   "cell_type": "markdown",
   "metadata": {},
   "source": [
    "##### Hallazgo\n",
    "+ Son mas mujeres que hombres"
   ]
  },
  {
   "cell_type": "markdown",
   "metadata": {},
   "source": [
    "PARENTESCO"
   ]
  },
  {
   "cell_type": "code",
   "execution_count": null,
   "metadata": {},
   "outputs": [],
   "source": [
    "prop_parentesco = df.parentesco.value_counts(normalize=True)\n",
    "prop_parentesco"
   ]
  },
  {
   "cell_type": "code",
   "execution_count": null,
   "metadata": {},
   "outputs": [],
   "source": [
    "freq = df.parentesco.value_counts()\n",
    "freq.index, freq.values"
   ]
  },
  {
   "cell_type": "code",
   "execution_count": null,
   "metadata": {},
   "outputs": [],
   "source": [
    "fig,ax = plt.subplots(figsize=(40,20))\n",
    "ax.title.set_text('Frecuencia de parentesco') \n",
    "sns.countplot(data=df, x =\"parentesco\")\n",
    "plt.show()"
   ]
  },
  {
   "cell_type": "markdown",
   "metadata": {},
   "source": [
    "##### Hallazgo\n",
    "+ El 301 les gana a todos por una gran cantidad"
   ]
  },
  {
   "cell_type": "markdown",
   "metadata": {},
   "source": [
    "FACTOR"
   ]
  },
  {
   "cell_type": "code",
   "execution_count": null,
   "metadata": {},
   "outputs": [],
   "source": [
    "prop_factor = df.factor.value_counts(normalize=True)\n",
    "prop_factor"
   ]
  },
  {
   "cell_type": "code",
   "execution_count": null,
   "metadata": {},
   "outputs": [],
   "source": [
    "freq = df.factor.value_counts()\n",
    "freq.index, freq.values"
   ]
  },
  {
   "cell_type": "code",
   "execution_count": null,
   "metadata": {},
   "outputs": [],
   "source": [
    "fig,ax = plt.subplots(figsize=(60,20))\n",
    "ax.title.set_text('Frecuencia de expanción') \n",
    "sns.countplot(data=df, x =\"factor\")\n",
    "plt.show()"
   ]
  },
  {
   "cell_type": "markdown",
   "metadata": {},
   "source": [
    "##### Hallazgo\n",
    "+ El rango va de mayor a menor"
   ]
  },
  {
   "cell_type": "markdown",
   "metadata": {},
   "source": [
    "UBICA_GEO"
   ]
  },
  {
   "cell_type": "code",
   "execution_count": null,
   "metadata": {},
   "outputs": [],
   "source": [
    "prop_ubicageo = df.ubica_geo.value_counts(normalize=True)\n",
    "prop_ubicageo"
   ]
  },
  {
   "cell_type": "code",
   "execution_count": null,
   "metadata": {},
   "outputs": [],
   "source": [
    "freq = df.ubica_geo.value_counts()\n",
    "freq.index, freq.values"
   ]
  },
  {
   "cell_type": "code",
   "execution_count": null,
   "metadata": {},
   "outputs": [],
   "source": [
    "fig,ax = plt.subplots(figsize=(60,20))\n",
    "ax.title.set_text('Frecuencia de ubicación geográfica') \n",
    "sns.countplot(data=df, x =\"ubica_geo\")\n",
    "plt.show()"
   ]
  },
  {
   "cell_type": "markdown",
   "metadata": {},
   "source": [
    "##### Hallazgo\n",
    "+ La ubicación geografica es muy variada"
   ]
  },
  {
   "cell_type": "markdown",
   "metadata": {},
   "source": [
    "TAM_LOC"
   ]
  },
  {
   "cell_type": "code",
   "execution_count": null,
   "metadata": {},
   "outputs": [],
   "source": [
    "prop_tamloc = df.tam_loc.value_counts(normalize=True)\n",
    "prop_tamloc"
   ]
  },
  {
   "cell_type": "code",
   "execution_count": null,
   "metadata": {},
   "outputs": [],
   "source": [
    "freq = df.tam_loc.value_counts()\n",
    "freq.index, freq.values"
   ]
  },
  {
   "cell_type": "code",
   "execution_count": null,
   "metadata": {},
   "outputs": [],
   "source": [
    "fig,ax = plt.subplots(figsize=(40,20))\n",
    "ax.title.set_text('Frecuencia de tamaño de localidad') \n",
    "sns.countplot(data=df, x =\"tam_loc\")\n",
    "plt.show()"
   ]
  },
  {
   "cell_type": "markdown",
   "metadata": {},
   "source": [
    "##### Hallazgo\n",
    "+ Son mayores las localidades con menos de 2500 habitantes"
   ]
  },
  {
   "cell_type": "markdown",
   "metadata": {},
   "source": [
    "NIV_ED"
   ]
  },
  {
   "cell_type": "code",
   "execution_count": null,
   "metadata": {},
   "outputs": [],
   "source": [
    "prop_nived = df.niv_ed.value_counts(normalize=True)\n",
    "prop_nived"
   ]
  },
  {
   "cell_type": "code",
   "execution_count": null,
   "metadata": {},
   "outputs": [],
   "source": [
    "freq = df.niv_ed.value_counts()\n",
    "freq.index, freq.values"
   ]
  },
  {
   "cell_type": "code",
   "execution_count": null,
   "metadata": {},
   "outputs": [],
   "source": [
    "fig,ax = plt.subplots(figsize=(40,20))\n",
    "ax.title.set_text('Frecuencia de nivel educativo') \n",
    "sns.countplot(data=df, x =\"niv_ed\")\n",
    "plt.show()"
   ]
  },
  {
   "cell_type": "markdown",
   "metadata": {},
   "source": [
    "##### Hallazgo\n",
    "+ La minoria tiene la primaria completa o secundaria incompleta"
   ]
  },
  {
   "cell_type": "markdown",
   "metadata": {},
   "source": [
    "EDAD"
   ]
  },
  {
   "cell_type": "code",
   "execution_count": null,
   "metadata": {},
   "outputs": [],
   "source": [
    "prop_edad = df.edad.value_counts(normalize=True)\n",
    "prop_edad"
   ]
  },
  {
   "cell_type": "code",
   "execution_count": null,
   "metadata": {},
   "outputs": [],
   "source": [
    "freq = df.niv_ed.value_counts()\n",
    "freq.index, freq.values"
   ]
  },
  {
   "cell_type": "code",
   "execution_count": null,
   "metadata": {},
   "outputs": [],
   "source": [
    "fig,ax = plt.subplots(figsize=(8,6))\n",
    "sns.histplot(data=df, x =\"edad\")"
   ]
  },
  {
   "cell_type": "markdown",
   "metadata": {},
   "source": [
    "##### Hallazgo\n",
    "+ Participa mas gente entre 0-40 años"
   ]
  },
  {
   "cell_type": "markdown",
   "metadata": {},
   "source": [
    "ANAC_E"
   ]
  },
  {
   "cell_type": "code",
   "execution_count": null,
   "metadata": {},
   "outputs": [],
   "source": [
    "prop_anace = df.anac_e.value_counts(normalize=True)\n",
    "prop_anace"
   ]
  },
  {
   "cell_type": "code",
   "execution_count": null,
   "metadata": {},
   "outputs": [],
   "source": [
    "freq = df.anac_e.value_counts()\n",
    "freq.index, freq.values"
   ]
  },
  {
   "cell_type": "code",
   "execution_count": null,
   "metadata": {},
   "outputs": [],
   "source": [
    "fig,ax = plt.subplots(figsize=(8,6))\n",
    "sns.histplot(data=df, x =\"anac_e\")"
   ]
  },
  {
   "cell_type": "markdown",
   "metadata": {},
   "source": [
    "##### Hallazgo\n",
    "+ La mayoria nacio despues de 1980"
   ]
  },
  {
   "cell_type": "markdown",
   "metadata": {},
   "source": [
    "TAMHOGESC"
   ]
  },
  {
   "cell_type": "code",
   "execution_count": null,
   "metadata": {},
   "outputs": [],
   "source": [
    "prop_tamhogesc = df.tamhogesc.value_counts(normalize=True)\n",
    "prop_tamhogesc"
   ]
  },
  {
   "cell_type": "code",
   "execution_count": null,
   "metadata": {},
   "outputs": [],
   "source": [
    "freq = df.tamhogesc.value_counts()\n",
    "freq.index, freq.values"
   ]
  },
  {
   "cell_type": "code",
   "execution_count": null,
   "metadata": {},
   "outputs": [],
   "source": [
    "fig,ax = plt.subplots(figsize=(8,6))\n",
    "sns.histplot(data=df, x =\"tamhogesc\")"
   ]
  },
  {
   "cell_type": "markdown",
   "metadata": {},
   "source": [
    "##### Hallazgo\n",
    "+ El tamaño del hogar ajustado es pequeño"
   ]
  },
  {
   "cell_type": "markdown",
   "metadata": {},
   "source": [
    "## Análisis Univariado #2\n",
    "Sofía Vargas Aceves is727375"
   ]
  },
  {
   "cell_type": "code",
   "execution_count": null,
   "metadata": {},
   "outputs": [],
   "source": [
    "nominales_2 = []\n",
    "ordinales_2 = [] \n",
    "intervalo_2 = []\n",
    "razon_2 = []"
   ]
  },
  {
   "cell_type": "code",
   "execution_count": null,
   "metadata": {},
   "outputs": [],
   "source": [
    "# Conversión de nominales a categóricos\n",
    "for i in nominales_2:\n",
    "    df[i] = df[i].astype('category')\n",
    "    "
   ]
  },
  {
   "cell_type": "markdown",
   "metadata": {},
   "source": [
    "### Cardinalidad y Exploración de Muestras\n",
    "Estos se realizan para Categóricas Nominales y Ordinales"
   ]
  },
  {
   "cell_type": "markdown",
   "metadata": {},
   "source": [
    "#### Cardinalidad"
   ]
  },
  {
   "cell_type": "code",
   "execution_count": null,
   "metadata": {},
   "outputs": [],
   "source": [
    "for i in nominales_2 + ordinales_2:\n",
    "    print(i)\n",
    "    df[i].unique()\n",
    "    print()    "
   ]
  },
  {
   "cell_type": "markdown",
   "metadata": {},
   "source": [
    "##### Hallazgo"
   ]
  },
  {
   "cell_type": "markdown",
   "metadata": {},
   "source": [
    "#### Conteo"
   ]
  },
  {
   "cell_type": "code",
   "execution_count": null,
   "metadata": {},
   "outputs": [],
   "source": [
    "for i in nominales_2 + ordinales_2:\n",
    "    print(i)\n",
    "    df[i].value_counts()\n",
    "    print()"
   ]
  },
  {
   "cell_type": "markdown",
   "metadata": {},
   "source": [
    "##### Hallazgo"
   ]
  },
  {
   "cell_type": "markdown",
   "metadata": {},
   "source": [
    "#### Transformaciones Adicionales"
   ]
  },
  {
   "cell_type": "markdown",
   "metadata": {},
   "source": [
    "### Estadística Descriptiva\n"
   ]
  },
  {
   "cell_type": "code",
   "execution_count": null,
   "metadata": {},
   "outputs": [],
   "source": [
    "for i in nominales_2 + ordinales_2:\n",
    "    print(i)\n",
    "    df[i].describe()\n",
    "    print()"
   ]
  },
  {
   "cell_type": "markdown",
   "metadata": {},
   "source": [
    "### Gráficos\n"
   ]
  },
  {
   "cell_type": "markdown",
   "metadata": {},
   "source": []
  },
  {
   "cell_type": "markdown",
   "metadata": {},
   "source": [
    "## Análisis Univariado #3\n",
    "Gabriel"
   ]
  },
  {
   "cell_type": "code",
   "execution_count": null,
   "metadata": {},
   "outputs": [],
   "source": [
    "nominales_3 = []\n",
    "ordinales_3 = [] \n",
    "intervalo_3 = []\n",
    "razon_3 = []"
   ]
  },
  {
   "cell_type": "code",
   "execution_count": null,
   "metadata": {},
   "outputs": [],
   "source": [
    "# Conversión de nominales a categóricos\n",
    "for i in nominales_3:\n",
    "    df[i] = df[i].astype('category')\n",
    "    "
   ]
  },
  {
   "cell_type": "markdown",
   "metadata": {},
   "source": [
    "### Cardinalidad y Exploración de Muestras\n",
    "Estos se realizan para Categóricas Nominales y Ordinales"
   ]
  },
  {
   "cell_type": "markdown",
   "metadata": {},
   "source": [
    "#### Cardinalidad"
   ]
  },
  {
   "cell_type": "code",
   "execution_count": null,
   "metadata": {},
   "outputs": [],
   "source": [
    "for i in nominales_3 + ordinales_3:\n",
    "    print(i)\n",
    "    df[i].unique()\n",
    "    print()    "
   ]
  },
  {
   "cell_type": "markdown",
   "metadata": {},
   "source": [
    "##### Hallazgo"
   ]
  },
  {
   "cell_type": "markdown",
   "metadata": {},
   "source": [
    "#### Conteo"
   ]
  },
  {
   "cell_type": "code",
   "execution_count": null,
   "metadata": {},
   "outputs": [],
   "source": [
    "for i in nominales_3 + ordinales_3:\n",
    "    print(i)\n",
    "    df[i].value_counts()\n",
    "    print()"
   ]
  },
  {
   "cell_type": "markdown",
   "metadata": {},
   "source": [
    "##### Hallazgo"
   ]
  },
  {
   "cell_type": "markdown",
   "metadata": {},
   "source": [
    "#### Transformaciones Adicionales"
   ]
  },
  {
   "cell_type": "markdown",
   "metadata": {},
   "source": [
    "### Estadística Descriptiva\n"
   ]
  },
  {
   "cell_type": "code",
   "execution_count": null,
   "metadata": {},
   "outputs": [],
   "source": [
    "for i in nominales_3 + ordinales_3:\n",
    "    print(i)\n",
    "    df[i].describe()\n",
    "    print()"
   ]
  },
  {
   "cell_type": "markdown",
   "metadata": {},
   "source": [
    "### Gráficos\n"
   ]
  },
  {
   "cell_type": "markdown",
   "metadata": {},
   "source": []
  },
  {
   "cell_type": "markdown",
   "metadata": {},
   "source": [
    "## Análisis Univariado #4\n",
    "Miguel Mario Méndez"
   ]
  },
  {
   "cell_type": "code",
   "execution_count": null,
   "metadata": {},
   "outputs": [],
   "source": [
    "nominales_4 = []\n",
    "ordinales_4 = [] \n",
    "intervalo_4 = []\n",
    "razon_4 = []"
   ]
  },
  {
   "cell_type": "code",
   "execution_count": null,
   "metadata": {},
   "outputs": [],
   "source": [
    "# Conversión de nominales a categóricos\n",
    "for i in nominales_4:\n",
    "    df[i] = df[i].astype('category')\n",
    "    "
   ]
  },
  {
   "cell_type": "markdown",
   "metadata": {},
   "source": [
    "### Cardinalidad y Exploración de Muestras\n",
    "Estos se realizan para Categóricas Nominales y Ordinales"
   ]
  },
  {
   "cell_type": "markdown",
   "metadata": {},
   "source": [
    "#### Cardinalidad"
   ]
  },
  {
   "cell_type": "code",
   "execution_count": null,
   "metadata": {},
   "outputs": [],
   "source": [
    "for i in nominales_4 + ordinales_4:\n",
    "    print(i)\n",
    "    df[i].unique()\n",
    "    print()    "
   ]
  },
  {
   "cell_type": "markdown",
   "metadata": {},
   "source": [
    "##### Hallazgo"
   ]
  },
  {
   "cell_type": "markdown",
   "metadata": {},
   "source": [
    "#### Conteo"
   ]
  },
  {
   "cell_type": "code",
   "execution_count": null,
   "metadata": {},
   "outputs": [],
   "source": [
    "for i in nominales_4 + ordinales_4:\n",
    "    print(i)\n",
    "    df[i].value_counts()\n",
    "    print()"
   ]
  },
  {
   "cell_type": "markdown",
   "metadata": {},
   "source": [
    "##### Hallazgo"
   ]
  },
  {
   "cell_type": "markdown",
   "metadata": {},
   "source": [
    "#### Transformaciones Adicionales"
   ]
  },
  {
   "cell_type": "markdown",
   "metadata": {},
   "source": [
    "### Estadística Descriptiva\n"
   ]
  },
  {
   "cell_type": "code",
   "execution_count": null,
   "metadata": {},
   "outputs": [],
   "source": [
    "for i in nominales_4 + ordinales_4:\n",
    "    print(i)\n",
    "    df[i].describe()\n",
    "    print()"
   ]
  },
  {
   "cell_type": "markdown",
   "metadata": {},
   "source": [
    "### Gráficos\n"
   ]
  }
 ],
 "metadata": {
  "kernelspec": {
   "display_name": "DeepEnv",
   "language": "python",
   "name": "python3"
  },
  "language_info": {
   "codemirror_mode": {
    "name": "ipython",
    "version": 3
   },
   "file_extension": ".py",
   "mimetype": "text/x-python",
   "name": "python",
   "nbconvert_exporter": "python",
   "pygments_lexer": "ipython3",
   "version": "3.9.6"
  },
  "orig_nbformat": 4
 },
 "nbformat": 4,
 "nbformat_minor": 2
}
