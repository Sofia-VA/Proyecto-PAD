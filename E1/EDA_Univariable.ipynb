{
 "cells": [
  {
   "cell_type": "markdown",
   "metadata": {},
   "source": [
    "> # Proyecto Entrega 1\n",
    "> ##### &nbsp;&nbsp;&nbsp;&nbsp; Análisis Exploratorio Univariado\n",
    "> - **Fecha**: X/X/2023  |  ITESO  \n",
    "> - **Materia**: Programación para el Análisis de Datos\n",
    "> - **Alumnos**: \n",
    ">    - Gabriel\n",
    ">    - Michelle\n",
    ">    - Miguel Mario Méndez Alcaráz is727312\n",
    ">    - Sofía Vargas Aceves is77375  \n",
    ">  <br>"
   ]
  },
  {
   "cell_type": "markdown",
   "metadata": {},
   "source": [
    "## Descripción del DataSet\n",
    "Aquí va la descripción de cada campo  \n",
    "  \n",
    "Source:"
   ]
  },
  {
   "cell_type": "markdown",
   "metadata": {},
   "source": [
    "### Preguntas de investigación\n",
    "\n",
    "1. ¿?\n",
    "\n",
    "#### Unidad de observación\n",
    "\n",
    "+ Cada fila de la tabla: veterano con cáncer de pulmón ...\n",
    "\n",
    "#### Unidad de análisis\n",
    "\n",
    "| __Pregunta de investigación__ | __Unidad de análisis__ |\n",
    "| --------------------------------------------------- | ------------------ | \n",
    "| ¿?                              | grupo tratamiento |  \n",
    "| ---------------------------------------------------- | ------------------ | \n",
    "| ¿?                  | \n",
    "| ---------------------------------------------------- | ------------------ | \n",
    "| ¿?                  | \n",
    "| ---------------------------------------------------- | ------------------ | \n",
    "| ¿?           | \n"
   ]
  },
  {
   "cell_type": "markdown",
   "metadata": {},
   "source": [
    "## Procesamiento del Dataset"
   ]
  },
  {
   "cell_type": "markdown",
   "metadata": {},
   "source": [
    "### Librerías"
   ]
  },
  {
   "cell_type": "markdown",
   "metadata": {},
   "source": [
    "#### Análisis"
   ]
  },
  {
   "cell_type": "code",
   "execution_count": null,
   "metadata": {},
   "outputs": [],
   "source": [
    "import numpy as np\n",
    "import pandas as pd"
   ]
  },
  {
   "cell_type": "markdown",
   "metadata": {},
   "source": [
    "#### Salidas y visualización"
   ]
  },
  {
   "cell_type": "code",
   "execution_count": null,
   "metadata": {},
   "outputs": [],
   "source": [
    "# Para obtener múltiples salidas de una celda\n",
    "from IPython.core.interactiveshell import InteractiveShell\n",
    "InteractiveShell.ast_node_interactivity = \"all\""
   ]
  },
  {
   "cell_type": "code",
   "execution_count": null,
   "metadata": {},
   "outputs": [],
   "source": [
    "import matplotlib.pyplot as plt\n",
    "import seaborn as sns"
   ]
  },
  {
   "cell_type": "code",
   "execution_count": null,
   "metadata": {},
   "outputs": [],
   "source": [
    "from ipywidgets import interact\n",
    "%matplotlib inline"
   ]
  },
  {
   "cell_type": "markdown",
   "metadata": {},
   "source": [
    "### Variables"
   ]
  },
  {
   "cell_type": "markdown",
   "metadata": {},
   "source": [
    "#### Lectura del Dataset  \n",
    "Primero se hace una lectura del dataset, junto con una copia de éste."
   ]
  },
  {
   "cell_type": "code",
   "execution_count": null,
   "metadata": {},
   "outputs": [],
   "source": [
    "df = pd.read_csv('')"
   ]
  },
  {
   "cell_type": "code",
   "execution_count": null,
   "metadata": {},
   "outputs": [],
   "source": [
    "df_backup = df.copy()\n",
    "df"
   ]
  },
  {
   "cell_type": "markdown",
   "metadata": {},
   "source": [
    "#### Tipos de Datos en Columnas\n"
   ]
  },
  {
   "cell_type": "code",
   "execution_count": null,
   "metadata": {},
   "outputs": [],
   "source": [
    "# Lista de nombres de columnas\n",
    "col = df.columns\n",
    "col"
   ]
  },
  {
   "cell_type": "markdown",
   "metadata": {},
   "source": [
    "Renombramiento de columnas (usar rename) // TODO"
   ]
  },
  {
   "cell_type": "code",
   "execution_count": null,
   "metadata": {},
   "outputs": [],
   "source": [
    "df.info()"
   ]
  },
  {
   "cell_type": "code",
   "execution_count": 2,
   "metadata": {},
   "outputs": [],
   "source": [
    "nominales = []\n",
    "ordinales = [] \n",
    "intervalo = []\n",
    "razon = []"
   ]
  },
  {
   "cell_type": "code",
   "execution_count": 3,
   "metadata": {},
   "outputs": [],
   "source": [
    "# Conversión de nominales a categóricos\n",
    "for i in nominales:\n",
    "    df[i] = df[i].astype('category')\n",
    "    "
   ]
  },
  {
   "cell_type": "markdown",
   "metadata": {},
   "source": []
  }
 ],
 "metadata": {
  "kernelspec": {
   "display_name": "DeepEnv",
   "language": "python",
   "name": "python3"
  },
  "language_info": {
   "codemirror_mode": {
    "name": "ipython",
    "version": 3
   },
   "file_extension": ".py",
   "mimetype": "text/x-python",
   "name": "python",
   "nbconvert_exporter": "python",
   "pygments_lexer": "ipython3",
   "version": "3.8.12"
  },
  "orig_nbformat": 4
 },
 "nbformat": 4,
 "nbformat_minor": 2
}
