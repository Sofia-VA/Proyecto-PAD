{
 "cells": [
  {
   "cell_type": "markdown",
   "metadata": {},
   "source": [
    "> # Proyecto Entrega 1\n",
    "> ##### &nbsp;&nbsp;&nbsp;&nbsp; Análisis Exploratorio Univariado\n",
    "> - **Fecha**: 18/09/2023  |  ITESO  \n",
    "> - **Materia**: Programación para el Análisis de Datos\n",
    "> - **Alumnos**: \n",
    ">    - Gabriel Alejandro Olvera González is734604\n",
    ">    - Michelle Figueroa Jacques is727328\n",
    ">    - Miguel Mario Méndez Alcaráz is2\n",
    ">    - Sofía Vargas Aceves is727375  \n",
    ">  <br>"
   ]
  },
  {
   "cell_type": "markdown",
   "metadata": {},
   "source": [
    "## Descripción del DataSet\n",
    "Este Dataset es proporcionado por el CONEVAL, e incluye datos de la pobreza en México 2022. \n",
    "El dataset utiliza como fuente de información la Encuesta Nacional de Ingresos y Gastos de los Hogares (ENIGH) 2022, publicada por el Instituto Nacional de Estadística y Geografía (INEGI) el 26 de julio de 2023.\n",
    "\n",
    "Es el resultado de entrevistas a familias mexicanas de bajos recursos con el propósito de analizar los factores determinantes de la pobreza en México. Contiene una amplia gama de variables que abarcan desde identificadores de viviendas, hogares y personas, hasta información demográfica, socioeconómica y de calidad de vida. Estas variables incluyen datos sobre educación, acceso a servicios de salud y seguridad social, condiciones de vivienda, ingresos, programas sociales, población vulnerable y discapacitada, entre otros. Este conjunto de datos proporciona una visión completa de las condiciones de vida de estas familias y es valioso para la formulación de políticas públicas y programas de desarrollo destinados a combatir la pobreza en México.​\n",
    "\n",
    "+ Columnas: Cuenta con 79 columnas de información del encuestado e índices calculados por el CONEVAL.\n",
    "+ Filas: Hay 309,534, indicando que este es el **tamaño de la muestra**\n",
    "+ Los datos van de acuerdo con el descriptor de la base de la ENIGH 2022 del INEGI.\n",
    "\n",
    "#### Tipo de datos\n",
    "> + Estos datos son **transversales**. Esto se debe a que no se recopilan datos a través del tiempo. Estos datos son únicamente del 2022.\n",
    "> + Estos datos **no son de panel**. Dado que sólo se toman los datos de un encuestado sólo una vez y no se toman los datos de éste a lo largo del tiempo.\n",
    "\n",
    "#### Unidad de observación\n",
    "Cada fila de la tabla...  \n",
    ">  <br>  \n",
    ">  Encuestado dentro de familia de bajos recursos en México 2022\n",
    ">  <br> \n",
    ">   <br>      \n",
    "\n",
    "#### Fuentes\n",
    "> +  CONEVAL (2022). Medición de Pobreza Multidimensional Mexico 2022​. Recuperado de: https://www.kaggle.com/datasets/davidmaldonadoc/2022-mexicos-poverty-survey?resource=download ​\n",
    "> + Maldonado, D. (2022). 2022 Mexico's poverty survey. Kaggle. Recuperado de: https://www.kaggle.com/datasets/davidmaldonadoc/2022-mexicos-poverty-survey?resource=download&select=Pobreza+2022+CONEVAL.py\n"
   ]
  },
  {
   "cell_type": "markdown",
   "metadata": {},
   "source": [
    "## Variables"
   ]
  },
  {
   "cell_type": "markdown",
   "metadata": {},
   "source": [
    "### Llaves"
   ]
  },
  {
   "cell_type": "markdown",
   "metadata": {},
   "source": [
    "| __ID__ | __Rango__ | __Tipo__ | __Descripción__ |\n",
    "| --- | --- | --- | --- | \n",
    "| folioviv  | {100005002,3260797912} | nominal   | Identificador de la vivienda\n",
    "| foliohog  | {1, 5}                 | nominal   | Identificador del hogar\n",
    "| numren    | {1, 19}                | ordinal   | Identificador de la persona"
   ]
  },
  {
   "cell_type": "markdown",
   "metadata": {},
   "source": [
    "### De estadística y localización"
   ]
  },
  {
   "cell_type": "markdown",
   "metadata": {},
   "source": [
    "| __ID__ | __Rango__ | __Tipo__ | __Descripción__ | __Categorías__\n",
    "| --- | --- | --- | --- | --- |\n",
    "| ent       | {1, 32}       | nominal   | Identificador de la entidad federativa\n",
    "| est_dis   | {1, 560}      | nominal   |  Estrato de diseño \n",
    "| factor    | {6, 6470}     |           | Factor de expansión\n",
    "| rururb    | {0,1}         | nominal   | Identificador de localidades rurales      | 0)Urbana 1)Rural\n",
    "| tam_loc   | {1, 4}        | ordinal   | Tamaño de la localidad                    | 1)>= 100k ,  2)[15k,100k) ,  3)[2.5k,15k) ,  4)<2.5k\n",
    "| ubica_geo | {1001, 32057} |           | Ubicación geográfica\n",
    "| upm       | {1, 10232}    | nominal   | Unidad primaria de muestreo    "
   ]
  },
  {
   "cell_type": "markdown",
   "metadata": {},
   "source": [
    "### Información del encuestado"
   ]
  },
  {
   "cell_type": "markdown",
   "metadata": {},
   "source": [
    "#### Información personal"
   ]
  },
  {
   "cell_type": "markdown",
   "metadata": {},
   "source": [
    "\n",
    "| __ID__ | __Rango__ | __Tipo__ | __Descripción__ | __Categorías__\n",
    "| --- | --- | --- | --- | --- |\n",
    "| a_nacim   | {1913,2022}   | razón     | Año de nacimiento\n",
    "| discap    | {0,1}         | nominal   | Población con presencia de discapacidad física o mental | 0)Sin 1)Con\n",
    "| edad      | {0, 109}      | intervalo | Edad reportada al momento de la entrevista\n",
    "| jub       | {0,1}         | nominal   | Población pensionada o jubilada           | 0)No 1)Sí\n",
    "| hli       | {0,1}         | nominal   | Hablante de lengua indígena               | 0)No 1)Sí\n",
    "| ed_inas  | {0,1}         | nominal   | Inasistencia a la escuela                 | 0)Sí asiste 1)No asiste\n",
    "| ed_niv | {0,3} | ordinal | Nivel educativo | 0)<Primaria , 1)[Primaria,Secundaria) , 2)[Secundaria,Media superior) , 3)[Media superior,Mayor nivel educativo]\n",
    "| p_menor   | {0,1}         | nominal   | Hogares con población de 0 a 17 años      | 0)Sin menores 1)Con menores\n",
    "| pam       | {0,1}         | nominal   | Programa de adultos mayores               | 0)No recibe 1)Sí recibe\n",
    "| sexo      | {1,2}         | nominal   | Sexo                                      | 1)Masculino 2)Femenino\n",
    "| tamhogesc | {1, 16.60}    | razón     | Tamaño del hogar ajustado                 \n",
    "| parentesco| {101,623}     | TODO      | Parentesco con el jefe del hogar (INEGI)\n"
   ]
  },
  {
   "cell_type": "markdown",
   "metadata": {},
   "source": [
    "#### Información de salud y seguro"
   ]
  },
  {
   "cell_type": "markdown",
   "metadata": {},
   "source": [
    "\n",
    "| __ID__ | __Rango__ | __Tipo__ | __Descripción__ | __Categorías__\n",
    "| --- | --- | --- | --- | --- |\n",
    "| ali_ins     | {0,3} | ordinal | Grado de Inseguridad Alimentaria | 0)Seguridad alimentaria 1)Inseguridad leve 2)Inseguridad moderada 3)Inseguridad severa\n",
    "| ali_lim     | {0,1}         | nominal   | Limitación en el consumo de alimentos                      | 0)No limitado 1)Limitado\n",
    "| ali_dieta   | {1,3}         | ordinal   | Dieta consumida en los hogares                             | 1)Pobre 2)Limítrofe 3) Aceptable\n",
    "| salud_s     | {0,1}         | nominal   | Servicios médicos por otros núcleos familiares o por contratación propia | 0)No cuenta 1)Sí cuenta\n",
    "| salud_s_dir | {0,1}         | nominal   | Acceso directo a servicios de salud       | 0)Sin acceso 1)Con acceso\n",
    "| ss_dir      | {0,1}         | nominal   | Acceso directo a seguridad social         | 0)Sin acceso 1)Con acceso\n",
    "| ss_jef      | {0,1}         | nominal   | Acceso directo a seguridad social de jefatura del hogar| 0)No cuenta 1)Sí cuenta\n",
    "| ss_cony     | {0,1}         | nominal   | Acceso directo a seguridad social de cónyugue de jefatura del hogar| 0)No cuenta 1)Sí cuenta\n",
    "| ss_hijo     | {0,1}         | nominal   | Acceso directo a seguridad social de hijo de jefatura del hogar| 0)No cuenta 1)Sí cuenta\n",
    "| par         | {1,6}         | nominal   | Integrantes que tienen acceso por otros miembros  | TODO ... acceso a qué?\n"
   ]
  },
  {
   "cell_type": "markdown",
   "metadata": {},
   "source": [
    "#### Información económica"
   ]
  },
  {
   "cell_type": "markdown",
   "metadata": {},
   "source": [
    "\n",
    "| __ID__ | __Rango__ | __Tipo__ | __Descripción__ | __Categorías__\n",
    "| --- | --- | --- | --- | --- |\n",
    "| ing_t     | {0, 2444444.2} | intervalo | Ingreso corriente total del hogar \n",
    "| ing_t_pc  | {0, 1057393.8} | intervalo | Ingreso corriente total per cápita\n",
    "| ing_mon   | {0, 2444444.2} | intervalo | Ingreso corriente monetario del hogar\n",
    "| ing_lab   | {0, 2444444.2} | intervalo | Ingreso corriente monetario laboral\n",
    "| ing_ren   | {0, 252623.5}  | intervalo | Ingreso corriente monetario por rentas\n",
    "| ing_tra   | {0, 238695.17} | intervalo | Ingreso corriente monetario por transferencias\n",
    "| ing_nomon     | {0, 1012431.1} | intervalo | Ingreso corriente no monetario\n",
    "| ing_pago_esp  | {0, 1012431.1} | intervalo | Ingreso corriente no monetario pago especie\n",
    "| ing_reg_esp   | {0, 326264.29} | intervalo | Ingreso corriente no monetario regalos especie\n",
    "| ing_pam       | {0, 14525.06}  | intervalo | Ingreso promedio mensual por programas de adultos mayores \n",
    "| pea           | {0,2}          | nominal   | Población económicamente activa           | 0)PNEA 1)PEA:Ocupada 2)PEA:Desocupada  \n"
   ]
  },
  {
   "cell_type": "markdown",
   "metadata": {},
   "source": [
    "### Indicadores y Escalas"
   ]
  },
  {
   "cell_type": "markdown",
   "metadata": {},
   "source": [
    "#### Indicadores de carencias"
   ]
  },
  {
   "cell_type": "markdown",
   "metadata": {},
   "source": [
    "\n",
    "| __ID__ | __Rango__ | __Tipo__ | __Descripción__ | __Categorías__\n",
    "| --- | --- | --- | --- | --- |\n",
    "| ic_1        | {0, 1}        | nominal   | Población con al menos una carencia social                 | 0)Sin carencias 1)Con al menos una carencia\n",
    "| ic_3        | {0, 1}        | nominal   | Población con al menos tres carencias sociales             | 0)Sin carencias 1)Con al menos 3 carencias\n",
    "| ic_ali      | {0,1}         | nominal   | Por acceso a la alimentación         | 0)No presenta carencia 1)Presenta carencia\n",
    "| ic_ali_nc   | {0,1}         | nominal | Por acceso a alimentación nutritiva de calidad | 0)No presenta carencia 1)Presenta carencia\n",
    "| ic_salud_s  | {0,1}         | nominal   | Por acceso a servicios de salud      | 0)No presenta carencia 1)Presenta carencia\n",
    "| ic_rezedu | {0,1}         | nominal   | Indicador de rezago educativo                              | 0)No hay rezago        1)Presenta rezago\n",
    "| ic_segsoc | {0,1}         | nominal   | Por acceso a seguridad social        | 0)No presenta carencia 1)Presenta carencia\n",
    "| icv       | {0,1}         | nominal   | Por calidad y espacios de vivienda   | 0)No presenta carencia 1)Presenta carencia\n",
    "| icv_pisos | {0,1}         | nominal   | Por material de piso de vivienda     | 0)No presenta carencia 1)Presenta carencia\n",
    "| icv_muros | {0,1}         | nominal   | Por material de muros de vivienda    | 0)No presenta carencia 1)Presenta carencia\n",
    "| icv_techos| {0,1}         | nominal   | Por material de techos de vivienda   | 0)No presenta carencia 1)Presenta carencia\n",
    "| icv_hac   | {0,1}         | nominal   | Por hacinamiento de piso de vivienda | 0)No presenta carencia 1)Presenta carencia\n",
    "| icsb      | {0,1}         | nominal   | Por acceso a servivios básicos de vivienda | 0)No presenta carencia 1)Presenta carencia\n",
    "| icsb_agua | {0,1}         | nominal   | Por acceso al agua                   | 0)No presenta carencia 1)Presenta carencia\n",
    "| icsb_dren | {0,1}         | nominal   | Por servicio de drenaje              | 0)No presenta carencia 1)Presenta carencia\n",
    "| icsb_luz  | {0,1}         | nominal   | Por servicios de electricidad        | 0)No presenta carencia 1)Presenta carencia\n",
    "| icsb_comb | {0,1}         | nominal   | Por combustible para cocinar         | 0)No presenta carencia 1)Presenta carencia\n"
   ]
  },
  {
   "cell_type": "markdown",
   "metadata": {},
   "source": [
    "#### Otros indicadores y escalas"
   ]
  },
  {
   "cell_type": "markdown",
   "metadata": {},
   "source": [
    "\n",
    "| __ID__ | __Rango__ | __Tipo__ | __Descripción__ | __Categorías__\n",
    "| --- | --- | --- | --- | --- |\n",
    "| cuadrantes | {1,4}        | nominal | Cuadrantes de bienestar económico y derechos sociales | 1)Pobres 2)Vulnerabes por carencia 3)Vulnerables por ingresos 4)No pobres y no vulnerables\n",
    "| ia_adulto     | {0, 6}    |         | Escala de IA para hogares sin menores de 18 años\n",
    "| ia_menor      | {0, 12}   |         | Escala de IA para hogares con menores de 18 años\n",
    "| int_pob       | {0, 1}    |         | Intensidad de la privación social: en situación de pobreza\n",
    "| int_pob_e     | {0, 1}    |         | Intensidad de la privación social: en situación de pobreza extrema\n",
    "| int_vul_ic    | {0, 1}    |         | Intensidad de la privación social: población vulnerable por carencias\n",
    "| int_ic        | {0, 1}    |         | Intensidad de la privación social: población vulnerable por carencias sociales    \n",
    "| pobreza       | {0,1}     | nominal | Pobreza                                                                     | 0)No 1) Sí\n",
    "| pobreza_l_ing  | {0,1}     | nominal | Población con ingreso menor a la línea de pobreza extrema por ingresos      | 0)>=línea 1)<línea\n",
    "| pobreza_prof   | {0, 1}    |         | Índice FGT con alfa igual a 1 (línea de pobreza por ingresos)\n",
    "| pobreza_e       | {0,1}     | nominal   | Pobreza extrema                                                             | 0)No 1) Sí\n",
    "| pobreza_e_l_ing  | {0,1}     | nominal   | Población con ingreso menor a la línea de pobreza extrema por ingresos      | 0)>=línea 1)<línea\n",
    "| pobreza_e_prof | {0, 1}    |           | Índice FGT con alfa igual a 1 (línea de pobreza extrema por ingresos)\n",
    "| pobreza_m     | {0,1}     | nominal   | Pobreza moderada                         | 0)No 1) Sí\n",
    "| priv          | {0, 6}    |           | Índice de Privación Social\n",
    "| priv_prof     | {0, 1}    | nominal   | Profundidad de la privación social\n",
    "| vul_ing       | {0,1}     | nominal   | Población vulnerable por ingresos        | 0)No 1)Sí\n",
    "| vul_ic        | {0,1}     | nominal   | Población vulnerable por carencias       | 0)No 1)Sí\n",
    "| no_pob_vul    | {0,1}     | nominal   | Población no pobre y no vulnerable       | 0)Pobre y vulnerable 1)No pobre y no vulnerable\n"
   ]
  },
  {
   "cell_type": "markdown",
   "metadata": {},
   "source": [
    "### Preguntas de investigación\n",
    "\n",
    "1. ¿Cuáles son los principales determinantes de la pobreza extrema por ingresos en México, considerando variables como educación, acceso a servicios de salud y seguridad social, y calidad de vivienda, y cómo varían estos factores entre diferentes entidades federativas?​\n",
    "\n",
    "2. ¿Existe una correlación significativa entre el nivel de ingresos per cápita en los hogares y la prevalencia de inseguridad alimentaria severa, y qué medidas de intervención podrían reducir esta inseguridad en las poblaciones más vulnerables?​\n",
    "\n",
    "3. ¿Cuál es el impacto del acceso a programas de apoyo social, como el Programa de Adultos Mayores, en la reducción de la pobreza y la mejora de la calidad de vida de las personas mayores en hogares de bajos recursos?​\n",
    "\n",
    "4. ¿Cómo se relacionan los indicadores de privación social y las carencias sociales con la intensidad de la privación social, y qué estrategias podrían implementarse para abordar de manera efectiva estas carencias y mejorar la calidad de vida en hogares vulnerables?​\n",
    "\n",
    "5. ¿Cuál es el efecto de la lengua indígena y la discapacidad en el acceso a servicios de salud, educación y empleo, y cómo se pueden diseñar políticas inclusivas para mejorar la participación y el bienestar de estas poblaciones en riesgo en diferentes regiones de México?\n",
    "\n",
    "\n",
    "#### Unidad de análisis\n",
    "\n",
    "| __Pregunta de investigación__ | __Unidad de análisis__ |\n",
    "| --------------------------------------------------- | ------------------ | \n",
    "| ¿Cuáles son los principales determinantes de la pobreza extrema por ingresos en México y cómo varían estos factores entre diferentes entidades federativas?​ | entidad federativa |  \n",
    "| ---------------------------------------------------- | ------------------ | \n",
    "| ¿Existe una correlación significativa entre el nivel de ingresos per cápita en los hogares y la prevalencia de inseguridad alimentaria severa, y qué medidas de intervención podrían reducir esta inseguridad en las poblaciones más vulnerables?​ | encuestados con inseguridad alimentaria y vulnerabilidad |\n",
    "| ---------------------------------------------------- | ------------------ | \n",
    "| ¿Cuál es el impacto del acceso a programas de apoyo social, como el Programa de Adultos Mayores, en la reducción de la pobreza y la mejora de la calidad de vida de las personas mayores en hogares de bajos recursos?​       | adultos mayores y adultos mayores en el PAM |\n",
    "| ---------------------------------------------------- | ------------------ | \n",
    "| ¿Cómo se relacionan los indicadores de privación social y las carencias sociales con la intensidad de la privación social, y qué estrategias podrían implementarse para abordar de manera efectiva estas carencias y mejorar la calidad de vida en hogares vulnerables?​    | indicadores de privación y carencia social e intensidad de privación |\n",
    "| ---------------------------------------------------- | ------------------ | \n",
    "| ¿Cuál es el efecto de la lengua indígena y la discapacidad en el acceso a servicios de salud, educación y empleo, y cómo se pueden diseñar políticas inclusivas para mejorar la participación y el bienestar de estas poblaciones en riesgo en diferentes regiones de México? | hablantes de lenguas indígenas y con discapacidad |\n"
   ]
  },
  {
   "cell_type": "markdown",
   "metadata": {},
   "source": [
    "## Procesamiento del Dataset"
   ]
  },
  {
   "cell_type": "markdown",
   "metadata": {},
   "source": [
    "### Librerías"
   ]
  },
  {
   "cell_type": "markdown",
   "metadata": {},
   "source": [
    "#### Análisis"
   ]
  },
  {
   "cell_type": "code",
   "execution_count": 366,
   "metadata": {},
   "outputs": [],
   "source": [
    "import numpy as np\n",
    "import pandas as pd"
   ]
  },
  {
   "cell_type": "markdown",
   "metadata": {},
   "source": [
    "#### Salidas y visualización"
   ]
  },
  {
   "cell_type": "code",
   "execution_count": 367,
   "metadata": {},
   "outputs": [],
   "source": [
    "# Para obtener múltiples salidas de una celda\n",
    "from IPython.core.interactiveshell import InteractiveShell\n",
    "from IPython.display import display\n",
    "InteractiveShell.ast_node_interactivity = \"all\""
   ]
  },
  {
   "cell_type": "code",
   "execution_count": 368,
   "metadata": {},
   "outputs": [],
   "source": [
    "import matplotlib.pyplot as plt\n",
    "import seaborn as sns"
   ]
  },
  {
   "cell_type": "code",
   "execution_count": 369,
   "metadata": {},
   "outputs": [],
   "source": [
    "#from ipywidgets import interact\n",
    "#%matplotlib inline"
   ]
  },
  {
   "cell_type": "markdown",
   "metadata": {},
   "source": [
    "### Variables"
   ]
  },
  {
   "cell_type": "markdown",
   "metadata": {},
   "source": [
    "#### Lectura del Dataset  \n",
    "Primero se hace una lectura del dataset, junto con una copia de éste."
   ]
  },
  {
   "cell_type": "code",
   "execution_count": 370,
   "metadata": {},
   "outputs": [],
   "source": [
    "df = pd.read_csv('../pobreza22.csv',encoding='utf-8')"
   ]
  },
  {
   "cell_type": "code",
   "execution_count": 371,
   "metadata": {},
   "outputs": [
    {
     "data": {
      "text/html": [
       "<div>\n",
       "<style scoped>\n",
       "    .dataframe tbody tr th:only-of-type {\n",
       "        vertical-align: middle;\n",
       "    }\n",
       "\n",
       "    .dataframe tbody tr th {\n",
       "        vertical-align: top;\n",
       "    }\n",
       "\n",
       "    .dataframe thead th {\n",
       "        text-align: right;\n",
       "    }\n",
       "</style>\n",
       "<table border=\"1\" class=\"dataframe\">\n",
       "  <thead>\n",
       "    <tr style=\"text-align: right;\">\n",
       "      <th></th>\n",
       "      <th>folioviv</th>\n",
       "      <th>foliohog</th>\n",
       "      <th>numren</th>\n",
       "      <th>est_dis</th>\n",
       "      <th>upm</th>\n",
       "      <th>factor</th>\n",
       "      <th>tam_loc</th>\n",
       "      <th>rururb</th>\n",
       "      <th>ent</th>\n",
       "      <th>ubica_geo</th>\n",
       "      <th>...</th>\n",
       "      <th>ict</th>\n",
       "      <th>ing_mon</th>\n",
       "      <th>ing_lab</th>\n",
       "      <th>ing_ren</th>\n",
       "      <th>ing_tra</th>\n",
       "      <th>nomon</th>\n",
       "      <th>pago_esp</th>\n",
       "      <th>reg_esp</th>\n",
       "      <th>hli</th>\n",
       "      <th>discap</th>\n",
       "    </tr>\n",
       "  </thead>\n",
       "  <tbody>\n",
       "    <tr>\n",
       "      <th>0</th>\n",
       "      <td>100005002</td>\n",
       "      <td>1</td>\n",
       "      <td>1</td>\n",
       "      <td>3</td>\n",
       "      <td>1</td>\n",
       "      <td>206</td>\n",
       "      <td>1</td>\n",
       "      <td>0.0</td>\n",
       "      <td>1</td>\n",
       "      <td>1001</td>\n",
       "      <td>...</td>\n",
       "      <td>15282.204133</td>\n",
       "      <td>15282.204133</td>\n",
       "      <td>12254.222301</td>\n",
       "      <td>0.000000</td>\n",
       "      <td>3027.981832</td>\n",
       "      <td>0.000000</td>\n",
       "      <td>0.0</td>\n",
       "      <td>0.000000</td>\n",
       "      <td>0.0</td>\n",
       "      <td>0.0</td>\n",
       "    </tr>\n",
       "    <tr>\n",
       "      <th>1</th>\n",
       "      <td>100005002</td>\n",
       "      <td>1</td>\n",
       "      <td>2</td>\n",
       "      <td>3</td>\n",
       "      <td>1</td>\n",
       "      <td>206</td>\n",
       "      <td>1</td>\n",
       "      <td>0.0</td>\n",
       "      <td>1</td>\n",
       "      <td>1001</td>\n",
       "      <td>...</td>\n",
       "      <td>15282.204133</td>\n",
       "      <td>15282.204133</td>\n",
       "      <td>12254.222301</td>\n",
       "      <td>0.000000</td>\n",
       "      <td>3027.981832</td>\n",
       "      <td>0.000000</td>\n",
       "      <td>0.0</td>\n",
       "      <td>0.000000</td>\n",
       "      <td>0.0</td>\n",
       "      <td>0.0</td>\n",
       "    </tr>\n",
       "    <tr>\n",
       "      <th>2</th>\n",
       "      <td>100005002</td>\n",
       "      <td>1</td>\n",
       "      <td>3</td>\n",
       "      <td>3</td>\n",
       "      <td>1</td>\n",
       "      <td>206</td>\n",
       "      <td>1</td>\n",
       "      <td>0.0</td>\n",
       "      <td>1</td>\n",
       "      <td>1001</td>\n",
       "      <td>...</td>\n",
       "      <td>15282.204133</td>\n",
       "      <td>15282.204133</td>\n",
       "      <td>12254.222301</td>\n",
       "      <td>0.000000</td>\n",
       "      <td>3027.981832</td>\n",
       "      <td>0.000000</td>\n",
       "      <td>0.0</td>\n",
       "      <td>0.000000</td>\n",
       "      <td>0.0</td>\n",
       "      <td>0.0</td>\n",
       "    </tr>\n",
       "    <tr>\n",
       "      <th>3</th>\n",
       "      <td>100005003</td>\n",
       "      <td>1</td>\n",
       "      <td>1</td>\n",
       "      <td>3</td>\n",
       "      <td>1</td>\n",
       "      <td>206</td>\n",
       "      <td>1</td>\n",
       "      <td>0.0</td>\n",
       "      <td>1</td>\n",
       "      <td>1001</td>\n",
       "      <td>...</td>\n",
       "      <td>36889.050990</td>\n",
       "      <td>33950.029778</td>\n",
       "      <td>22901.587447</td>\n",
       "      <td>11048.442332</td>\n",
       "      <td>0.000000</td>\n",
       "      <td>2939.021211</td>\n",
       "      <td>0.0</td>\n",
       "      <td>2939.021211</td>\n",
       "      <td>0.0</td>\n",
       "      <td>0.0</td>\n",
       "    </tr>\n",
       "    <tr>\n",
       "      <th>4</th>\n",
       "      <td>100005003</td>\n",
       "      <td>1</td>\n",
       "      <td>2</td>\n",
       "      <td>3</td>\n",
       "      <td>1</td>\n",
       "      <td>206</td>\n",
       "      <td>1</td>\n",
       "      <td>0.0</td>\n",
       "      <td>1</td>\n",
       "      <td>1001</td>\n",
       "      <td>...</td>\n",
       "      <td>36889.050990</td>\n",
       "      <td>33950.029778</td>\n",
       "      <td>22901.587447</td>\n",
       "      <td>11048.442332</td>\n",
       "      <td>0.000000</td>\n",
       "      <td>2939.021211</td>\n",
       "      <td>0.0</td>\n",
       "      <td>2939.021211</td>\n",
       "      <td>0.0</td>\n",
       "      <td>0.0</td>\n",
       "    </tr>\n",
       "    <tr>\n",
       "      <th>...</th>\n",
       "      <td>...</td>\n",
       "      <td>...</td>\n",
       "      <td>...</td>\n",
       "      <td>...</td>\n",
       "      <td>...</td>\n",
       "      <td>...</td>\n",
       "      <td>...</td>\n",
       "      <td>...</td>\n",
       "      <td>...</td>\n",
       "      <td>...</td>\n",
       "      <td>...</td>\n",
       "      <td>...</td>\n",
       "      <td>...</td>\n",
       "      <td>...</td>\n",
       "      <td>...</td>\n",
       "      <td>...</td>\n",
       "      <td>...</td>\n",
       "      <td>...</td>\n",
       "      <td>...</td>\n",
       "      <td>...</td>\n",
       "      <td>...</td>\n",
       "    </tr>\n",
       "    <tr>\n",
       "      <th>309529</th>\n",
       "      <td>3260797910</td>\n",
       "      <td>1</td>\n",
       "      <td>1</td>\n",
       "      <td>560</td>\n",
       "      <td>10232</td>\n",
       "      <td>123</td>\n",
       "      <td>4</td>\n",
       "      <td>1.0</td>\n",
       "      <td>32</td>\n",
       "      <td>32046</td>\n",
       "      <td>...</td>\n",
       "      <td>51414.758596</td>\n",
       "      <td>46788.301738</td>\n",
       "      <td>46788.301738</td>\n",
       "      <td>0.000000</td>\n",
       "      <td>0.000000</td>\n",
       "      <td>4626.456858</td>\n",
       "      <td>0.0</td>\n",
       "      <td>4626.456858</td>\n",
       "      <td>0.0</td>\n",
       "      <td>0.0</td>\n",
       "    </tr>\n",
       "    <tr>\n",
       "      <th>309530</th>\n",
       "      <td>3260797910</td>\n",
       "      <td>1</td>\n",
       "      <td>2</td>\n",
       "      <td>560</td>\n",
       "      <td>10232</td>\n",
       "      <td>123</td>\n",
       "      <td>4</td>\n",
       "      <td>1.0</td>\n",
       "      <td>32</td>\n",
       "      <td>32046</td>\n",
       "      <td>...</td>\n",
       "      <td>51414.758596</td>\n",
       "      <td>46788.301738</td>\n",
       "      <td>46788.301738</td>\n",
       "      <td>0.000000</td>\n",
       "      <td>0.000000</td>\n",
       "      <td>4626.456858</td>\n",
       "      <td>0.0</td>\n",
       "      <td>4626.456858</td>\n",
       "      <td>0.0</td>\n",
       "      <td>0.0</td>\n",
       "    </tr>\n",
       "    <tr>\n",
       "      <th>309531</th>\n",
       "      <td>3260797912</td>\n",
       "      <td>1</td>\n",
       "      <td>1</td>\n",
       "      <td>560</td>\n",
       "      <td>10232</td>\n",
       "      <td>123</td>\n",
       "      <td>4</td>\n",
       "      <td>1.0</td>\n",
       "      <td>32</td>\n",
       "      <td>32046</td>\n",
       "      <td>...</td>\n",
       "      <td>14101.618920</td>\n",
       "      <td>13259.491956</td>\n",
       "      <td>13259.491956</td>\n",
       "      <td>0.000000</td>\n",
       "      <td>0.000000</td>\n",
       "      <td>842.126965</td>\n",
       "      <td>0.0</td>\n",
       "      <td>842.126965</td>\n",
       "      <td>0.0</td>\n",
       "      <td>0.0</td>\n",
       "    </tr>\n",
       "    <tr>\n",
       "      <th>309532</th>\n",
       "      <td>3260797912</td>\n",
       "      <td>1</td>\n",
       "      <td>2</td>\n",
       "      <td>560</td>\n",
       "      <td>10232</td>\n",
       "      <td>123</td>\n",
       "      <td>4</td>\n",
       "      <td>1.0</td>\n",
       "      <td>32</td>\n",
       "      <td>32046</td>\n",
       "      <td>...</td>\n",
       "      <td>14101.618920</td>\n",
       "      <td>13259.491956</td>\n",
       "      <td>13259.491956</td>\n",
       "      <td>0.000000</td>\n",
       "      <td>0.000000</td>\n",
       "      <td>842.126965</td>\n",
       "      <td>0.0</td>\n",
       "      <td>842.126965</td>\n",
       "      <td>0.0</td>\n",
       "      <td>0.0</td>\n",
       "    </tr>\n",
       "    <tr>\n",
       "      <th>309533</th>\n",
       "      <td>3260797912</td>\n",
       "      <td>1</td>\n",
       "      <td>3</td>\n",
       "      <td>560</td>\n",
       "      <td>10232</td>\n",
       "      <td>123</td>\n",
       "      <td>4</td>\n",
       "      <td>1.0</td>\n",
       "      <td>32</td>\n",
       "      <td>32046</td>\n",
       "      <td>...</td>\n",
       "      <td>14101.618920</td>\n",
       "      <td>13259.491956</td>\n",
       "      <td>13259.491956</td>\n",
       "      <td>0.000000</td>\n",
       "      <td>0.000000</td>\n",
       "      <td>842.126965</td>\n",
       "      <td>0.0</td>\n",
       "      <td>842.126965</td>\n",
       "      <td>NaN</td>\n",
       "      <td>0.0</td>\n",
       "    </tr>\n",
       "  </tbody>\n",
       "</table>\n",
       "<p>309534 rows × 79 columns</p>\n",
       "</div>"
      ],
      "text/plain": [
       "          folioviv  foliohog  numren  est_dis    upm  factor  tam_loc  rururb  \\\n",
       "0        100005002         1       1        3      1     206        1     0.0   \n",
       "1        100005002         1       2        3      1     206        1     0.0   \n",
       "2        100005002         1       3        3      1     206        1     0.0   \n",
       "3        100005003         1       1        3      1     206        1     0.0   \n",
       "4        100005003         1       2        3      1     206        1     0.0   \n",
       "...            ...       ...     ...      ...    ...     ...      ...     ...   \n",
       "309529  3260797910         1       1      560  10232     123        4     1.0   \n",
       "309530  3260797910         1       2      560  10232     123        4     1.0   \n",
       "309531  3260797912         1       1      560  10232     123        4     1.0   \n",
       "309532  3260797912         1       2      560  10232     123        4     1.0   \n",
       "309533  3260797912         1       3      560  10232     123        4     1.0   \n",
       "\n",
       "        ent  ubica_geo  ...           ict       ing_mon       ing_lab  \\\n",
       "0         1       1001  ...  15282.204133  15282.204133  12254.222301   \n",
       "1         1       1001  ...  15282.204133  15282.204133  12254.222301   \n",
       "2         1       1001  ...  15282.204133  15282.204133  12254.222301   \n",
       "3         1       1001  ...  36889.050990  33950.029778  22901.587447   \n",
       "4         1       1001  ...  36889.050990  33950.029778  22901.587447   \n",
       "...     ...        ...  ...           ...           ...           ...   \n",
       "309529   32      32046  ...  51414.758596  46788.301738  46788.301738   \n",
       "309530   32      32046  ...  51414.758596  46788.301738  46788.301738   \n",
       "309531   32      32046  ...  14101.618920  13259.491956  13259.491956   \n",
       "309532   32      32046  ...  14101.618920  13259.491956  13259.491956   \n",
       "309533   32      32046  ...  14101.618920  13259.491956  13259.491956   \n",
       "\n",
       "             ing_ren      ing_tra        nomon  pago_esp      reg_esp  hli  \\\n",
       "0           0.000000  3027.981832     0.000000       0.0     0.000000  0.0   \n",
       "1           0.000000  3027.981832     0.000000       0.0     0.000000  0.0   \n",
       "2           0.000000  3027.981832     0.000000       0.0     0.000000  0.0   \n",
       "3       11048.442332     0.000000  2939.021211       0.0  2939.021211  0.0   \n",
       "4       11048.442332     0.000000  2939.021211       0.0  2939.021211  0.0   \n",
       "...              ...          ...          ...       ...          ...  ...   \n",
       "309529      0.000000     0.000000  4626.456858       0.0  4626.456858  0.0   \n",
       "309530      0.000000     0.000000  4626.456858       0.0  4626.456858  0.0   \n",
       "309531      0.000000     0.000000   842.126965       0.0   842.126965  0.0   \n",
       "309532      0.000000     0.000000   842.126965       0.0   842.126965  0.0   \n",
       "309533      0.000000     0.000000   842.126965       0.0   842.126965  NaN   \n",
       "\n",
       "        discap  \n",
       "0          0.0  \n",
       "1          0.0  \n",
       "2          0.0  \n",
       "3          0.0  \n",
       "4          0.0  \n",
       "...        ...  \n",
       "309529     0.0  \n",
       "309530     0.0  \n",
       "309531     0.0  \n",
       "309532     0.0  \n",
       "309533     0.0  \n",
       "\n",
       "[309534 rows x 79 columns]"
      ]
     },
     "execution_count": 371,
     "metadata": {},
     "output_type": "execute_result"
    }
   ],
   "source": [
    "df_backup = df.copy()\n",
    "df"
   ]
  },
  {
   "cell_type": "markdown",
   "metadata": {},
   "source": [
    "#### Renombramientos de Columnas\n"
   ]
  },
  {
   "cell_type": "code",
   "execution_count": 372,
   "metadata": {},
   "outputs": [
    {
     "data": {
      "text/plain": [
       "Index(['folioviv', 'foliohog', 'numren', 'est_dis', 'upm', 'factor', 'tam_loc',\n",
       "       'rururb', 'ent', 'ubica_geo', 'edad', 'sexo', 'parentesco', 'ic_rezedu',\n",
       "       'anac_e', 'inas_esc', 'niv_ed', 'ic_asalud', 'ic_segsoc', 'sa_dir',\n",
       "       'ss_dir', 's_salud', 'par', 'jef_ss', 'cony_ss', 'hijo_ss', 'pea',\n",
       "       'jub', 'pam', 'ing_pam', 'ic_cv', 'icv_pisos', 'icv_muros',\n",
       "       'icv_techos', 'icv_hac', 'ic_sbv', 'isb_agua', 'isb_dren', 'isb_luz',\n",
       "       'isb_combus', 'ic_ali_nc', 'id_men', 'tot_iaad', 'tot_iamen', 'ins_ali',\n",
       "       'ic_ali', 'lca', 'dch', 'plp_e', 'plp', 'pobreza', 'pobreza_e',\n",
       "       'pobreza_m', 'vul_car', 'vul_ing', 'no_pobv', 'i_privacion',\n",
       "       'carencias', 'carencias3', 'cuadrantes', 'prof1', 'prof_e1', 'profun',\n",
       "       'int_pob', 'int_pobe', 'int_vulcar', 'int_caren', 'tamhogesc', 'ictpc',\n",
       "       'ict', 'ing_mon', 'ing_lab', 'ing_ren', 'ing_tra', 'nomon', 'pago_esp',\n",
       "       'reg_esp', 'hli', 'discap'],\n",
       "      dtype='object')"
      ]
     },
     "execution_count": 372,
     "metadata": {},
     "output_type": "execute_result"
    }
   ],
   "source": [
    "# Lista de nombres de columnas\n",
    "col = df.columns\n",
    "col"
   ]
  },
  {
   "cell_type": "code",
   "execution_count": 373,
   "metadata": {},
   "outputs": [],
   "source": [
    "# Llaves\n",
    "    # Permanecen iguales ['folioviv','foliohog','numren']\n",
    "# Estadística\n",
    "    # Permanecen iguales ['ent','est_dis','factor','rururb','tam_loc','ubica_geo','upm']\n",
    "# Información personal\n",
    "    # Permanecen iguales:  ['discap','edad','jub','hli','pam','sexo','tamhogesc','parentesco']\n",
    "df = df.rename(\n",
    "    columns= {'anac_e':'a_nacim', \n",
    "              'inas_esc':'ed_inas',\n",
    "              'niv_ed':'ed_niv',\n",
    "              'id_men':'p_menor',\n",
    "              }\n",
    ")\n",
    "# Información de salud y seguro\n",
    "        # Permanecen iguales:  ['ss_dir','par']\n",
    "df = df.rename(\n",
    "    columns= {'ins_ali':'ali_ins',\n",
    "              'lca':'ali_lim',\n",
    "              'dch':'ali_dieta',\n",
    "              's_salud':'salud_s',\n",
    "              'sa_dir':'salud_s_dir',\n",
    "              'jef_ss':'ss_jef',\n",
    "              'cony_ss':'ss_cony',\n",
    "              'hijo_ss':'ss_hijo',\n",
    "              }\n",
    ")\n",
    "# Información económica\n",
    "        # Permanecen iguales:  ['ing_mon','ing_lab','ing_ren','ing_tra','ing_pam','pea',]\n",
    "df = df.rename(\n",
    "    columns= {'ict':'ing_t',\n",
    "              'ictpc':'ing_t_pc',\n",
    "              'nomon':'ing_nomon',\n",
    "              'pago_esp':'ing_pago_esp',\n",
    "              'reg_esp':'ing_reg_esp',\n",
    "              }\n",
    ")\n",
    "# Indicadores de carencias\n",
    "        # Permanecen iguales:  ['ic_ali','ic_ali_nc','ic_rezedu','ic_segsoc','icv_pisos','icv_muros','icv_techos','icv_hac',]\n",
    "df = df.rename(\n",
    "    columns= {'carencias':'ic_1',\n",
    "              'carencias3':'ic_3', \n",
    "              'ic_asalud':'ic_salud_s',\n",
    "              'ic_cv':'icv',\n",
    "              'ic_sbv':'icsb',\n",
    "              'isb_agua':'icsb_agua',\n",
    "              'isb_dren':'icsb_dren',\n",
    "              'isb_luz':'icsb_luz',\n",
    "              'isb_combus':'icsb_comb',\n",
    "              }\n",
    ")\n",
    "# Otros indicadores y escalas\n",
    "        # Permanecen iguales:  ['cuadrantes','int_pob','pobreza', 'pobreza_e','pobreza_m','vul_ing',]\n",
    "df = df.rename(\n",
    "    columns= {'tot_iaad':'ia_adulto',\n",
    "              'tot_iamen':'ia_menor',\n",
    "              'int_pobe':'int_pob_e',\n",
    "              'int_vulcar':'int_vul_ic',\n",
    "              'int_caren':'int_ic', \n",
    "              'plp':'pobreza_l_ing',\n",
    "              'prof1': 'pobreza_prof',\n",
    "              'plp_e':'pobreza_e_l_ing',\n",
    "              'prof_e1': 'pobreza_e_prof',\n",
    "              'i_privacion':'priv',\n",
    "              'profun':'priv_prof',\n",
    "              'vul_car':'vul_ic',\n",
    "              'no_pobv':'no_pob_vul',\n",
    "\n",
    "              }\n",
    ")"
   ]
  },
  {
   "cell_type": "code",
   "execution_count": 374,
   "metadata": {},
   "outputs": [
    {
     "data": {
      "text/plain": [
       "Index(['folioviv', 'foliohog', 'numren', 'est_dis', 'upm', 'factor', 'tam_loc',\n",
       "       'rururb', 'ent', 'ubica_geo', 'edad', 'sexo', 'parentesco', 'ic_rezedu',\n",
       "       'a_nacim', 'ed_inas', 'ed_niv', 'ic_salud_s', 'ic_segsoc',\n",
       "       'salud_s_dir', 'ss_dir', 'salud_s', 'par', 'ss_jef', 'ss_cony',\n",
       "       'ss_hijo', 'pea', 'jub', 'pam', 'ing_pam', 'icv', 'icv_pisos',\n",
       "       'icv_muros', 'icv_techos', 'icv_hac', 'icsb', 'icsb_agua', 'icsb_dren',\n",
       "       'icsb_luz', 'icsb_comb', 'ic_ali_nc', 'p_menor', 'ia_adulto',\n",
       "       'ia_menor', 'ali_ins', 'ic_ali', 'ali_lim', 'ali_dieta',\n",
       "       'pobreza_e_l_ing', 'pobreza_l_ing', 'pobreza', 'pobreza_e', 'pobreza_m',\n",
       "       'vul_ic', 'vul_ing', 'no_pob_vul', 'priv', 'ic_1', 'ic_3', 'cuadrantes',\n",
       "       'pobreza_prof', 'pobreza_e_prof', 'priv_prof', 'int_pob', 'int_pob_e',\n",
       "       'int_vul_ic', 'int_ic', 'tamhogesc', 'ing_t_pc', 'ing_t', 'ing_mon',\n",
       "       'ing_lab', 'ing_ren', 'ing_tra', 'ing_nomon', 'ing_pago_esp',\n",
       "       'ing_reg_esp', 'hli', 'discap'],\n",
       "      dtype='object')"
      ]
     },
     "execution_count": 374,
     "metadata": {},
     "output_type": "execute_result"
    }
   ],
   "source": [
    "col = df.columns\n",
    "col"
   ]
  },
  {
   "cell_type": "markdown",
   "metadata": {},
   "source": [
    "## Limpieza de Datos"
   ]
  },
  {
   "cell_type": "code",
   "execution_count": 375,
   "metadata": {
    "slideshow": {
     "slide_type": "subslide"
    }
   },
   "outputs": [
    {
     "data": {
      "text/plain": [
       "pam           279571\n",
       "ing_pam       274766\n",
       "ia_adulto     217154\n",
       "ia_menor       92380\n",
       "pea            81462\n",
       "ed_inas        11470\n",
       "hli            11470\n",
       "ed_niv         11470\n",
       "discap           400\n",
       "ic_1              14\n",
       "ic_3              14\n",
       "int_ic            14\n",
       "int_vul_ic        14\n",
       "int_pob_e         14\n",
       "int_pob           14\n",
       "priv_prof         14\n",
       "cuadrantes        14\n",
       "vul_ic            14\n",
       "priv              14\n",
       "no_pob_vul        14\n",
       "vul_ing           14\n",
       "pobreza_m         14\n",
       "pobreza_e         14\n",
       "pobreza           14\n",
       "icsb               7\n",
       "icv_pisos          7\n",
       "icv                7\n",
       "icsb_comb          7\n",
       "dtype: int64"
      ]
     },
     "execution_count": 375,
     "metadata": {},
     "output_type": "execute_result"
    }
   ],
   "source": [
    "# No todas las columnas tienen valores completos\n",
    "null_data = df.isnull().sum()\n",
    "null_data = null_data[null_data > 0].sort_values(ascending=False)\n",
    "null_data"
   ]
  },
  {
   "cell_type": "markdown",
   "metadata": {},
   "source": [
    "### Limpieza de columnas pam + ing_pam"
   ]
  },
  {
   "cell_type": "markdown",
   "metadata": {},
   "source": [
    "La variable con mayor número de datos faltantes es PAM (Programa de Adultos Mayores). Según la CONEVAL, en el 2022, el programa sólo se le aplica a adultos mayores de 65 o más años de edad. De la misma manera, ing_pam sólo puede tener un valor, si el adulto mayor está dentro de programa.\n",
    "* Una de las primeras acciones que podemos tomar, es poner en 0 tanto ing_pam como pam, cuando la edad del encuestado es de menor de 65 años.  \n",
    "\n",
    "Con este cambio, a continuación se observa que ya no hay datos nulos dentro de la columna de pam, pero todavía quedan algunos datos de ing_pam con nulos."
   ]
  },
  {
   "cell_type": "code",
   "execution_count": 376,
   "metadata": {},
   "outputs": [
    {
     "data": {
      "text/plain": [
       "0"
      ]
     },
     "execution_count": 376,
     "metadata": {},
     "output_type": "execute_result"
    },
    {
     "data": {
      "text/html": [
       "<div>\n",
       "<style scoped>\n",
       "    .dataframe tbody tr th:only-of-type {\n",
       "        vertical-align: middle;\n",
       "    }\n",
       "\n",
       "    .dataframe tbody tr th {\n",
       "        vertical-align: top;\n",
       "    }\n",
       "\n",
       "    .dataframe thead th {\n",
       "        text-align: right;\n",
       "    }\n",
       "</style>\n",
       "<table border=\"1\" class=\"dataframe\">\n",
       "  <thead>\n",
       "    <tr style=\"text-align: right;\">\n",
       "      <th></th>\n",
       "      <th>edad</th>\n",
       "      <th>jub</th>\n",
       "      <th>pam</th>\n",
       "      <th>ing_pam</th>\n",
       "    </tr>\n",
       "  </thead>\n",
       "  <tbody>\n",
       "  </tbody>\n",
       "</table>\n",
       "</div>"
      ],
      "text/plain": [
       "Empty DataFrame\n",
       "Columns: [edad, jub, pam, ing_pam]\n",
       "Index: []"
      ]
     },
     "execution_count": 376,
     "metadata": {},
     "output_type": "execute_result"
    }
   ],
   "source": [
    "# Si la edad es menor de 65, pam e ing_pam serán igual a 0\n",
    "df.loc[df['edad'] < 65, ['pam', 'ing_pam']] = 0,0\n",
    "# PAM\n",
    "df.isnull().sum()['pam']\n",
    "df[df['pam'].isna()][[\"edad\",\"jub\",\"pam\",\"ing_pam\"]]"
   ]
  },
  {
   "cell_type": "code",
   "execution_count": 377,
   "metadata": {},
   "outputs": [
    {
     "data": {
      "text/plain": [
       "4222"
      ]
     },
     "execution_count": 377,
     "metadata": {},
     "output_type": "execute_result"
    },
    {
     "data": {
      "text/html": [
       "<div>\n",
       "<style scoped>\n",
       "    .dataframe tbody tr th:only-of-type {\n",
       "        vertical-align: middle;\n",
       "    }\n",
       "\n",
       "    .dataframe tbody tr th {\n",
       "        vertical-align: top;\n",
       "    }\n",
       "\n",
       "    .dataframe thead th {\n",
       "        text-align: right;\n",
       "    }\n",
       "</style>\n",
       "<table border=\"1\" class=\"dataframe\">\n",
       "  <thead>\n",
       "    <tr style=\"text-align: right;\">\n",
       "      <th></th>\n",
       "      <th>edad</th>\n",
       "      <th>jub</th>\n",
       "      <th>pam</th>\n",
       "      <th>ing_pam</th>\n",
       "    </tr>\n",
       "  </thead>\n",
       "  <tbody>\n",
       "    <tr>\n",
       "      <th>3</th>\n",
       "      <td>68</td>\n",
       "      <td>0.0</td>\n",
       "      <td>0.0</td>\n",
       "      <td>NaN</td>\n",
       "    </tr>\n",
       "    <tr>\n",
       "      <th>25</th>\n",
       "      <td>69</td>\n",
       "      <td>0.0</td>\n",
       "      <td>0.0</td>\n",
       "      <td>NaN</td>\n",
       "    </tr>\n",
       "    <tr>\n",
       "      <th>49</th>\n",
       "      <td>66</td>\n",
       "      <td>0.0</td>\n",
       "      <td>0.0</td>\n",
       "      <td>NaN</td>\n",
       "    </tr>\n",
       "    <tr>\n",
       "      <th>100</th>\n",
       "      <td>67</td>\n",
       "      <td>0.0</td>\n",
       "      <td>0.0</td>\n",
       "      <td>NaN</td>\n",
       "    </tr>\n",
       "    <tr>\n",
       "      <th>108</th>\n",
       "      <td>66</td>\n",
       "      <td>0.0</td>\n",
       "      <td>0.0</td>\n",
       "      <td>NaN</td>\n",
       "    </tr>\n",
       "    <tr>\n",
       "      <th>...</th>\n",
       "      <td>...</td>\n",
       "      <td>...</td>\n",
       "      <td>...</td>\n",
       "      <td>...</td>\n",
       "    </tr>\n",
       "    <tr>\n",
       "      <th>309368</th>\n",
       "      <td>72</td>\n",
       "      <td>0.0</td>\n",
       "      <td>0.0</td>\n",
       "      <td>NaN</td>\n",
       "    </tr>\n",
       "    <tr>\n",
       "      <th>309369</th>\n",
       "      <td>87</td>\n",
       "      <td>0.0</td>\n",
       "      <td>0.0</td>\n",
       "      <td>NaN</td>\n",
       "    </tr>\n",
       "    <tr>\n",
       "      <th>309370</th>\n",
       "      <td>96</td>\n",
       "      <td>0.0</td>\n",
       "      <td>0.0</td>\n",
       "      <td>NaN</td>\n",
       "    </tr>\n",
       "    <tr>\n",
       "      <th>309371</th>\n",
       "      <td>69</td>\n",
       "      <td>0.0</td>\n",
       "      <td>0.0</td>\n",
       "      <td>NaN</td>\n",
       "    </tr>\n",
       "    <tr>\n",
       "      <th>309419</th>\n",
       "      <td>81</td>\n",
       "      <td>0.0</td>\n",
       "      <td>0.0</td>\n",
       "      <td>NaN</td>\n",
       "    </tr>\n",
       "  </tbody>\n",
       "</table>\n",
       "<p>4222 rows × 4 columns</p>\n",
       "</div>"
      ],
      "text/plain": [
       "        edad  jub  pam  ing_pam\n",
       "3         68  0.0  0.0      NaN\n",
       "25        69  0.0  0.0      NaN\n",
       "49        66  0.0  0.0      NaN\n",
       "100       67  0.0  0.0      NaN\n",
       "108       66  0.0  0.0      NaN\n",
       "...      ...  ...  ...      ...\n",
       "309368    72  0.0  0.0      NaN\n",
       "309369    87  0.0  0.0      NaN\n",
       "309370    96  0.0  0.0      NaN\n",
       "309371    69  0.0  0.0      NaN\n",
       "309419    81  0.0  0.0      NaN\n",
       "\n",
       "[4222 rows x 4 columns]"
      ]
     },
     "execution_count": 377,
     "metadata": {},
     "output_type": "execute_result"
    }
   ],
   "source": [
    "# ING PAM\n",
    "df.isnull().sum()['ing_pam']\n",
    "df[df['ing_pam'].isna()][[\"edad\",\"jub\",\"pam\",\"ing_pam\"]]"
   ]
  },
  {
   "cell_type": "markdown",
   "metadata": {},
   "source": [
    "* Para resolverlo, ahora simplemente tenemos que determinar el valor de ingresos del programa dependiendo de si el encuestado está en el programa, dado que pam ya no tiene nulos.  \n",
    "\n",
    "Este cambio logró eliminar los nulos para ing_pam."
   ]
  },
  {
   "cell_type": "code",
   "execution_count": 378,
   "metadata": {},
   "outputs": [
    {
     "data": {
      "text/plain": [
       "0"
      ]
     },
     "execution_count": 378,
     "metadata": {},
     "output_type": "execute_result"
    },
    {
     "data": {
      "text/html": [
       "<div>\n",
       "<style scoped>\n",
       "    .dataframe tbody tr th:only-of-type {\n",
       "        vertical-align: middle;\n",
       "    }\n",
       "\n",
       "    .dataframe tbody tr th {\n",
       "        vertical-align: top;\n",
       "    }\n",
       "\n",
       "    .dataframe thead th {\n",
       "        text-align: right;\n",
       "    }\n",
       "</style>\n",
       "<table border=\"1\" class=\"dataframe\">\n",
       "  <thead>\n",
       "    <tr style=\"text-align: right;\">\n",
       "      <th></th>\n",
       "      <th>edad</th>\n",
       "      <th>jub</th>\n",
       "      <th>pam</th>\n",
       "      <th>ing_pam</th>\n",
       "    </tr>\n",
       "  </thead>\n",
       "  <tbody>\n",
       "  </tbody>\n",
       "</table>\n",
       "</div>"
      ],
      "text/plain": [
       "Empty DataFrame\n",
       "Columns: [edad, jub, pam, ing_pam]\n",
       "Index: []"
      ]
     },
     "execution_count": 378,
     "metadata": {},
     "output_type": "execute_result"
    }
   ],
   "source": [
    "df.loc[df['pam'] == 0, ['ing_pam']] = 0\n",
    "# PAM\n",
    "df.isnull().sum()['ing_pam']\n",
    "df[df['ing_pam'].isna()][[\"edad\",\"jub\",\"pam\",\"ing_pam\"]]"
   ]
  },
  {
   "cell_type": "markdown",
   "metadata": {},
   "source": [
    "### Limpieza de columnas ia_adulto + ia_menor"
   ]
  },
  {
   "cell_type": "markdown",
   "metadata": {},
   "source": [
    "Estos valores son escalas de inseguridad alimentaria, y a partir del archivo de python en kaggle y por su definición, sabemos que todo ia_adulto corresponde a p_menor (población menor) en 0 y ia_menor a p_menor en 1. Esto es, casa sin menores y casa con menores respectivamente.  \n",
    "+ Corroboramos con el dataset, viendo si la cantidad de casas con menores y casas sin menores son los causantes.\n",
    "\n",
    "> Fuente: \n",
    "Maldonado, D. (2022). 2022 Mexico's poverty survey. Kaggle. Recuperado de: https://www.kaggle.com/datasets/davidmaldonadoc/2022-mexicos-poverty-survey?resource=download&select=Pobreza+2022+CONEVAL.py"
   ]
  },
  {
   "cell_type": "code",
   "execution_count": 379,
   "metadata": {},
   "outputs": [
    {
     "name": "stdout",
     "output_type": "stream",
     "text": [
      "--Dataset--\n"
     ]
    },
    {
     "data": {
      "text/plain": [
       "1.0    217154\n",
       "0.0     92380\n",
       "Name: p_menor, dtype: int64"
      ]
     },
     "execution_count": 379,
     "metadata": {},
     "output_type": "execute_result"
    },
    {
     "name": "stdout",
     "output_type": "stream",
     "text": [
      "--IA sin menores (217154 valores) --\n"
     ]
    },
    {
     "data": {
      "text/plain": [
       "1.0    1.0\n",
       "Name: p_menor, dtype: float64"
      ]
     },
     "execution_count": 379,
     "metadata": {},
     "output_type": "execute_result"
    },
    {
     "name": "stdout",
     "output_type": "stream",
     "text": [
      "--IA con menores--(92380 valores) --\n"
     ]
    },
    {
     "data": {
      "text/plain": [
       "0.0    1.0\n",
       "Name: p_menor, dtype: float64"
      ]
     },
     "execution_count": 379,
     "metadata": {},
     "output_type": "execute_result"
    }
   ],
   "source": [
    "print(\"--Dataset--\")\n",
    "df['p_menor'].value_counts(dropna=False)\n",
    "\n",
    "df_limpieza_ia_a = df[df['ia_adulto'].isna()][[\"edad\",\"ia_adulto\",\"ia_menor\",\"p_menor\",\"ali_ins\"]]\n",
    "print(\"--IA sin menores (\" + str(len(df_limpieza_ia_a)) +\" valores) --\")\n",
    "df_limpieza_ia_a['p_menor'].value_counts(dropna=False,normalize=True)\n",
    "\n",
    "\n",
    "df_limpieza_ia_m = df[df['ia_menor'].isna()][[\"edad\",\"ia_adulto\",\"ia_menor\",\"p_menor\",\"ali_ins\"]]\n",
    "print(\"--IA con menores--(\" + str(len(df_limpieza_ia_m)) +\" valores) --\")\n",
    "df_limpieza_ia_m['p_menor'].value_counts(dropna=False,normalize=True)"
   ]
  },
  {
   "cell_type": "markdown",
   "metadata": {},
   "source": [
    "Podemos observar que ia_adulto y ia_menor son mutuamente excluyentes. Si p_menor es 1, se toma el valor de ia_menor. Si p_menor es 0, se toma el valor de ia_mayor.  \n",
    "Por lo pronto, <ins>se pondrán en 0 los nulos, considerando que cualquier análisis de estas dos columnas, debe hacerse tomando en cuenta el valor de p_menor</ins>."
   ]
  },
  {
   "cell_type": "code",
   "execution_count": 380,
   "metadata": {},
   "outputs": [],
   "source": [
    "df.loc[df['ia_adulto'].isnull(), ['ia_adulto']] = 0\n",
    "df.loc[df['ia_menor'].isnull(), ['ia_menor']] = 0"
   ]
  },
  {
   "cell_type": "markdown",
   "metadata": {},
   "source": [
    "### Limpieza de columnas pea"
   ]
  },
  {
   "cell_type": "markdown",
   "metadata": {},
   "source": [
    "Tenemos 81462 datos nulos en pea. A partir del archivo de python dado por DAVID MALDONADO CASTILLEJOS en Kaggle, Pobreza 2022 CONEVAL.py, podemos ver la manera en la que PEA se calcula.  Uno de los primeros puntos que llama nuestra atención, es que dice ser calculado para personas de 16 años o más.  \n",
    "* Bajo ese umbral, primero observamos cuántos de los valores nulos corresponden a encuestados menores de 16 años. \n",
    "\n",
    "> Fuente: \n",
    "Maldonado, D. (2022). 2022 Mexico's poverty survey. Kaggle. Recuperado de: https://www.kaggle.com/datasets/davidmaldonadoc/2022-mexicos-poverty-survey?resource=download&select=Pobreza+2022+CONEVAL.py"
   ]
  },
  {
   "cell_type": "code",
   "execution_count": 381,
   "metadata": {},
   "outputs": [
    {
     "name": "stdout",
     "output_type": "stream",
     "text": [
      "Número de encuestados con edad < 16 años: 81462\n",
      "Número de nulos en pea: 81462\n",
      "Número de encuestados de < 16 años dentro de los nulos: 81462\n"
     ]
    }
   ],
   "source": [
    "df_limpieza_pea = df[df['pea'].isna()][['pea','edad']]\n",
    "\n",
    "print('Número de encuestados con edad < 16 años: '+ str(len(df.loc[df['edad']<16])))\n",
    "print('Número de nulos en pea: '+ str(df.isnull().sum()['pea']))\n",
    "print('Número de encuestados de < 16 años dentro de los nulos: ' + str(len(df_limpieza_pea.loc[df_limpieza_pea['edad']<16])))"
   ]
  },
  {
   "cell_type": "markdown",
   "metadata": {},
   "source": [
    "Esto quiere decir, que todos los que no tienen valores en pea, son menores de 16 años. <ins>Se decidió poner en 0 el pea de los menores a 16 años</ins>. "
   ]
  },
  {
   "cell_type": "code",
   "execution_count": 382,
   "metadata": {},
   "outputs": [],
   "source": [
    "df.loc[df['edad'] < 16, ['pea']] = 0"
   ]
  },
  {
   "cell_type": "markdown",
   "metadata": {},
   "source": [
    "### Limpieza de ed_inas + ed_niv + hli"
   ]
  },
  {
   "cell_type": "markdown",
   "metadata": {},
   "source": [
    "Notamos que hay un mismo número de nulos (11,470) para las columnas ed_inas, hli y ed_niv. Checamos entonces si corresponden las filas con valores faltantes para estas 3 columnas.  \n",
    "A continuación, podamos corroborar que esta suposición es correcta al contar las filas que tienen valores nulos para las 3 columnas."
   ]
  },
  {
   "cell_type": "code",
   "execution_count": 383,
   "metadata": {},
   "outputs": [
    {
     "data": {
      "text/html": [
       "<div>\n",
       "<style scoped>\n",
       "    .dataframe tbody tr th:only-of-type {\n",
       "        vertical-align: middle;\n",
       "    }\n",
       "\n",
       "    .dataframe tbody tr th {\n",
       "        vertical-align: top;\n",
       "    }\n",
       "\n",
       "    .dataframe thead th {\n",
       "        text-align: right;\n",
       "    }\n",
       "</style>\n",
       "<table border=\"1\" class=\"dataframe\">\n",
       "  <thead>\n",
       "    <tr style=\"text-align: right;\">\n",
       "      <th></th>\n",
       "      <th>edad</th>\n",
       "      <th>folioviv</th>\n",
       "      <th>foliohog</th>\n",
       "      <th>numren</th>\n",
       "      <th>ed_inas</th>\n",
       "      <th>hli</th>\n",
       "      <th>ed_niv</th>\n",
       "    </tr>\n",
       "  </thead>\n",
       "  <tbody>\n",
       "    <tr>\n",
       "      <th>46</th>\n",
       "      <td>2</td>\n",
       "      <td>100023305</td>\n",
       "      <td>1</td>\n",
       "      <td>6</td>\n",
       "      <td>NaN</td>\n",
       "      <td>NaN</td>\n",
       "      <td>NaN</td>\n",
       "    </tr>\n",
       "    <tr>\n",
       "      <th>69</th>\n",
       "      <td>2</td>\n",
       "      <td>100050501</td>\n",
       "      <td>1</td>\n",
       "      <td>11</td>\n",
       "      <td>NaN</td>\n",
       "      <td>NaN</td>\n",
       "      <td>NaN</td>\n",
       "    </tr>\n",
       "    <tr>\n",
       "      <th>129</th>\n",
       "      <td>1</td>\n",
       "      <td>100071706</td>\n",
       "      <td>1</td>\n",
       "      <td>5</td>\n",
       "      <td>NaN</td>\n",
       "      <td>NaN</td>\n",
       "      <td>NaN</td>\n",
       "    </tr>\n",
       "    <tr>\n",
       "      <th>213</th>\n",
       "      <td>0</td>\n",
       "      <td>100134206</td>\n",
       "      <td>1</td>\n",
       "      <td>5</td>\n",
       "      <td>NaN</td>\n",
       "      <td>NaN</td>\n",
       "      <td>NaN</td>\n",
       "    </tr>\n",
       "    <tr>\n",
       "      <th>288</th>\n",
       "      <td>0</td>\n",
       "      <td>100158503</td>\n",
       "      <td>1</td>\n",
       "      <td>3</td>\n",
       "      <td>NaN</td>\n",
       "      <td>NaN</td>\n",
       "      <td>NaN</td>\n",
       "    </tr>\n",
       "    <tr>\n",
       "      <th>...</th>\n",
       "      <td>...</td>\n",
       "      <td>...</td>\n",
       "      <td>...</td>\n",
       "      <td>...</td>\n",
       "      <td>...</td>\n",
       "      <td>...</td>\n",
       "      <td>...</td>\n",
       "    </tr>\n",
       "    <tr>\n",
       "      <th>309412</th>\n",
       "      <td>2</td>\n",
       "      <td>3260788318</td>\n",
       "      <td>1</td>\n",
       "      <td>3</td>\n",
       "      <td>NaN</td>\n",
       "      <td>NaN</td>\n",
       "      <td>NaN</td>\n",
       "    </tr>\n",
       "    <tr>\n",
       "      <th>309461</th>\n",
       "      <td>2</td>\n",
       "      <td>3260797213</td>\n",
       "      <td>1</td>\n",
       "      <td>3</td>\n",
       "      <td>NaN</td>\n",
       "      <td>NaN</td>\n",
       "      <td>NaN</td>\n",
       "    </tr>\n",
       "    <tr>\n",
       "      <th>309483</th>\n",
       "      <td>1</td>\n",
       "      <td>3260797419</td>\n",
       "      <td>1</td>\n",
       "      <td>4</td>\n",
       "      <td>NaN</td>\n",
       "      <td>NaN</td>\n",
       "      <td>NaN</td>\n",
       "    </tr>\n",
       "    <tr>\n",
       "      <th>309498</th>\n",
       "      <td>1</td>\n",
       "      <td>3260797423</td>\n",
       "      <td>1</td>\n",
       "      <td>5</td>\n",
       "      <td>NaN</td>\n",
       "      <td>NaN</td>\n",
       "      <td>NaN</td>\n",
       "    </tr>\n",
       "    <tr>\n",
       "      <th>309533</th>\n",
       "      <td>0</td>\n",
       "      <td>3260797912</td>\n",
       "      <td>1</td>\n",
       "      <td>3</td>\n",
       "      <td>NaN</td>\n",
       "      <td>NaN</td>\n",
       "      <td>NaN</td>\n",
       "    </tr>\n",
       "  </tbody>\n",
       "</table>\n",
       "<p>11470 rows × 7 columns</p>\n",
       "</div>"
      ],
      "text/plain": [
       "        edad    folioviv  foliohog  numren  ed_inas  hli  ed_niv\n",
       "46         2   100023305         1       6      NaN  NaN     NaN\n",
       "69         2   100050501         1      11      NaN  NaN     NaN\n",
       "129        1   100071706         1       5      NaN  NaN     NaN\n",
       "213        0   100134206         1       5      NaN  NaN     NaN\n",
       "288        0   100158503         1       3      NaN  NaN     NaN\n",
       "...      ...         ...       ...     ...      ...  ...     ...\n",
       "309412     2  3260788318         1       3      NaN  NaN     NaN\n",
       "309461     2  3260797213         1       3      NaN  NaN     NaN\n",
       "309483     1  3260797419         1       4      NaN  NaN     NaN\n",
       "309498     1  3260797423         1       5      NaN  NaN     NaN\n",
       "309533     0  3260797912         1       3      NaN  NaN     NaN\n",
       "\n",
       "[11470 rows x 7 columns]"
      ]
     },
     "execution_count": 383,
     "metadata": {},
     "output_type": "execute_result"
    },
    {
     "data": {
      "text/plain": [
       "edad            0\n",
       "folioviv        0\n",
       "foliohog        0\n",
       "numren          0\n",
       "ed_inas     11470\n",
       "hli         11470\n",
       "ed_niv      11470\n",
       "dtype: int64"
      ]
     },
     "execution_count": 383,
     "metadata": {},
     "output_type": "execute_result"
    },
    {
     "data": {
      "text/plain": [
       "edad            0\n",
       "folioviv        0\n",
       "foliohog        0\n",
       "numren          0\n",
       "ed_inas     11470\n",
       "hli         11470\n",
       "ed_niv      11470\n",
       "dtype: int64"
      ]
     },
     "execution_count": 383,
     "metadata": {},
     "output_type": "execute_result"
    }
   ],
   "source": [
    "df_limpieza_ed = df[df['ed_inas'].isna()][[\"edad\",\"folioviv\",\"foliohog\",\"numren\",\"ed_inas\",\"hli\",\"ed_niv\"]]    \n",
    "df_limpieza_ed \n",
    "df_limpieza_ed.isnull().sum()\n",
    "df_limpieza_ed.isna().sum()"
   ]
  },
  {
   "cell_type": "markdown",
   "metadata": {},
   "source": [
    "Al obtener los datos en la última búsqueda, notamos que las edades eran bajas. Por lo que obtuvimos el máximo que dio un resultado de 2 años. Comparamos cómo se manejaron los valores de edades de máximo 2 años, para ed_inas, ed_niv y hli. Al hacer esta búsqueda, notamos que la misma cantidad de observaciones correspondían para todo el dataset. \n",
    "Esto significa, que <ins>todos los nulos de estas 3 columnas, son a causa de que el encuestado es un menor de máximo 3 años.</ins>  "
   ]
  },
  {
   "cell_type": "code",
   "execution_count": 384,
   "metadata": {},
   "outputs": [
    {
     "data": {
      "text/plain": [
       "2"
      ]
     },
     "execution_count": 384,
     "metadata": {},
     "output_type": "execute_result"
    },
    {
     "data": {
      "text/html": [
       "<div>\n",
       "<style scoped>\n",
       "    .dataframe tbody tr th:only-of-type {\n",
       "        vertical-align: middle;\n",
       "    }\n",
       "\n",
       "    .dataframe tbody tr th {\n",
       "        vertical-align: top;\n",
       "    }\n",
       "\n",
       "    .dataframe thead th {\n",
       "        text-align: right;\n",
       "    }\n",
       "</style>\n",
       "<table border=\"1\" class=\"dataframe\">\n",
       "  <thead>\n",
       "    <tr style=\"text-align: right;\">\n",
       "      <th></th>\n",
       "      <th>edad</th>\n",
       "      <th>ed_niv</th>\n",
       "      <th>ed_inas</th>\n",
       "      <th>hli</th>\n",
       "    </tr>\n",
       "  </thead>\n",
       "  <tbody>\n",
       "    <tr>\n",
       "      <th>46</th>\n",
       "      <td>2</td>\n",
       "      <td>NaN</td>\n",
       "      <td>NaN</td>\n",
       "      <td>NaN</td>\n",
       "    </tr>\n",
       "    <tr>\n",
       "      <th>69</th>\n",
       "      <td>2</td>\n",
       "      <td>NaN</td>\n",
       "      <td>NaN</td>\n",
       "      <td>NaN</td>\n",
       "    </tr>\n",
       "    <tr>\n",
       "      <th>129</th>\n",
       "      <td>1</td>\n",
       "      <td>NaN</td>\n",
       "      <td>NaN</td>\n",
       "      <td>NaN</td>\n",
       "    </tr>\n",
       "    <tr>\n",
       "      <th>213</th>\n",
       "      <td>0</td>\n",
       "      <td>NaN</td>\n",
       "      <td>NaN</td>\n",
       "      <td>NaN</td>\n",
       "    </tr>\n",
       "    <tr>\n",
       "      <th>288</th>\n",
       "      <td>0</td>\n",
       "      <td>NaN</td>\n",
       "      <td>NaN</td>\n",
       "      <td>NaN</td>\n",
       "    </tr>\n",
       "    <tr>\n",
       "      <th>...</th>\n",
       "      <td>...</td>\n",
       "      <td>...</td>\n",
       "      <td>...</td>\n",
       "      <td>...</td>\n",
       "    </tr>\n",
       "    <tr>\n",
       "      <th>309412</th>\n",
       "      <td>2</td>\n",
       "      <td>NaN</td>\n",
       "      <td>NaN</td>\n",
       "      <td>NaN</td>\n",
       "    </tr>\n",
       "    <tr>\n",
       "      <th>309461</th>\n",
       "      <td>2</td>\n",
       "      <td>NaN</td>\n",
       "      <td>NaN</td>\n",
       "      <td>NaN</td>\n",
       "    </tr>\n",
       "    <tr>\n",
       "      <th>309483</th>\n",
       "      <td>1</td>\n",
       "      <td>NaN</td>\n",
       "      <td>NaN</td>\n",
       "      <td>NaN</td>\n",
       "    </tr>\n",
       "    <tr>\n",
       "      <th>309498</th>\n",
       "      <td>1</td>\n",
       "      <td>NaN</td>\n",
       "      <td>NaN</td>\n",
       "      <td>NaN</td>\n",
       "    </tr>\n",
       "    <tr>\n",
       "      <th>309533</th>\n",
       "      <td>0</td>\n",
       "      <td>NaN</td>\n",
       "      <td>NaN</td>\n",
       "      <td>NaN</td>\n",
       "    </tr>\n",
       "  </tbody>\n",
       "</table>\n",
       "<p>11470 rows × 4 columns</p>\n",
       "</div>"
      ],
      "text/plain": [
       "        edad  ed_niv  ed_inas  hli\n",
       "46         2     NaN      NaN  NaN\n",
       "69         2     NaN      NaN  NaN\n",
       "129        1     NaN      NaN  NaN\n",
       "213        0     NaN      NaN  NaN\n",
       "288        0     NaN      NaN  NaN\n",
       "...      ...     ...      ...  ...\n",
       "309412     2     NaN      NaN  NaN\n",
       "309461     2     NaN      NaN  NaN\n",
       "309483     1     NaN      NaN  NaN\n",
       "309498     1     NaN      NaN  NaN\n",
       "309533     0     NaN      NaN  NaN\n",
       "\n",
       "[11470 rows x 4 columns]"
      ]
     },
     "execution_count": 384,
     "metadata": {},
     "output_type": "execute_result"
    }
   ],
   "source": [
    "df_limpieza_ed['edad'].max()\n",
    "df.loc[df['edad'] < 3, ['edad','ed_niv', 'ed_inas','hli']]"
   ]
  },
  {
   "cell_type": "markdown",
   "metadata": {},
   "source": [
    "* Nuestra propuesta para solucionar esta falta de datos, es comparar cómo se manejan a los menores que tienen 3 años. "
   ]
  },
  {
   "cell_type": "code",
   "execution_count": 385,
   "metadata": {},
   "outputs": [],
   "source": [
    "df_limpieza_ed = df.loc[df['edad'] == 3, ['edad','ed_niv', 'ed_inas','hli']]"
   ]
  },
  {
   "cell_type": "markdown",
   "metadata": {},
   "source": [
    "#### Nivel educativo"
   ]
  },
  {
   "cell_type": "code",
   "execution_count": 386,
   "metadata": {},
   "outputs": [
    {
     "data": {
      "text/plain": [
       "0.0    0.999566\n",
       "1.0    0.000434\n",
       "Name: ed_niv, dtype: float64"
      ]
     },
     "execution_count": 386,
     "metadata": {},
     "output_type": "execute_result"
    },
    {
     "data": {
      "text/html": [
       "<div>\n",
       "<style scoped>\n",
       "    .dataframe tbody tr th:only-of-type {\n",
       "        vertical-align: middle;\n",
       "    }\n",
       "\n",
       "    .dataframe tbody tr th {\n",
       "        vertical-align: top;\n",
       "    }\n",
       "\n",
       "    .dataframe thead th {\n",
       "        text-align: right;\n",
       "    }\n",
       "</style>\n",
       "<table border=\"1\" class=\"dataframe\">\n",
       "  <thead>\n",
       "    <tr style=\"text-align: right;\">\n",
       "      <th></th>\n",
       "      <th>edad</th>\n",
       "      <th>ed_niv</th>\n",
       "      <th>ed_inas</th>\n",
       "      <th>hli</th>\n",
       "    </tr>\n",
       "  </thead>\n",
       "  <tbody>\n",
       "    <tr>\n",
       "      <th>8544</th>\n",
       "      <td>3</td>\n",
       "      <td>1.0</td>\n",
       "      <td>1.0</td>\n",
       "      <td>0.0</td>\n",
       "    </tr>\n",
       "    <tr>\n",
       "      <th>211073</th>\n",
       "      <td>3</td>\n",
       "      <td>1.0</td>\n",
       "      <td>1.0</td>\n",
       "      <td>0.0</td>\n",
       "    </tr>\n",
       "  </tbody>\n",
       "</table>\n",
       "</div>"
      ],
      "text/plain": [
       "        edad  ed_niv  ed_inas  hli\n",
       "8544       3     1.0      1.0  0.0\n",
       "211073     3     1.0      1.0  0.0"
      ]
     },
     "execution_count": 386,
     "metadata": {},
     "output_type": "execute_result"
    }
   ],
   "source": [
    "df_limpieza_ed['ed_niv'].value_counts(dropna=False,normalize=True)\n",
    "df_limpieza_ed.loc[df_limpieza_ed['ed_niv']==1, ['edad','ed_niv', 'ed_inas','hli']]"
   ]
  },
  {
   "cell_type": "markdown",
   "metadata": {},
   "source": [
    "Un 99.95% de los niños de 3 años, tienen un nivel de escolaridad menor a la primaria, en donde 0.04% (2 encuestados) tienen un nivel de educativo mayor o igual a la primaria pero menor al de secundaria. Ambos niños tienen inasistencia a la escuela, por lo que se supone que estos son casos extremos.    \n",
    "Ya que hay una alta improbabilidad de que niños de 3 años tengan un nivel de primaria, y bajo la suposición de que un niño de 2 años tendrá menos probabilidad de estar en este nivel educativo, <ins>decidimos reemplazar los nulos de nivel educativo con un 0 (nivel educativo menor a la primaria)</ins>."
   ]
  },
  {
   "cell_type": "markdown",
   "metadata": {},
   "source": [
    "#### Inasistencia a la escuela"
   ]
  },
  {
   "cell_type": "code",
   "execution_count": 387,
   "metadata": {},
   "outputs": [
    {
     "data": {
      "text/plain": [
       "1.0    0.558089\n",
       "0.0    0.441911\n",
       "Name: ed_inas, dtype: float64"
      ]
     },
     "execution_count": 387,
     "metadata": {},
     "output_type": "execute_result"
    },
    {
     "data": {
      "text/html": [
       "<div>\n",
       "<style scoped>\n",
       "    .dataframe tbody tr th:only-of-type {\n",
       "        vertical-align: middle;\n",
       "    }\n",
       "\n",
       "    .dataframe tbody tr th {\n",
       "        vertical-align: top;\n",
       "    }\n",
       "\n",
       "    .dataframe thead th {\n",
       "        text-align: right;\n",
       "    }\n",
       "</style>\n",
       "<table border=\"1\" class=\"dataframe\">\n",
       "  <thead>\n",
       "    <tr style=\"text-align: right;\">\n",
       "      <th></th>\n",
       "      <th>edad</th>\n",
       "      <th>ed_niv</th>\n",
       "      <th>ed_inas</th>\n",
       "      <th>hli</th>\n",
       "    </tr>\n",
       "  </thead>\n",
       "  <tbody>\n",
       "    <tr>\n",
       "      <th>55</th>\n",
       "      <td>3</td>\n",
       "      <td>0.0</td>\n",
       "      <td>1.0</td>\n",
       "      <td>0.0</td>\n",
       "    </tr>\n",
       "    <tr>\n",
       "      <th>485</th>\n",
       "      <td>3</td>\n",
       "      <td>0.0</td>\n",
       "      <td>1.0</td>\n",
       "      <td>0.0</td>\n",
       "    </tr>\n",
       "    <tr>\n",
       "      <th>520</th>\n",
       "      <td>3</td>\n",
       "      <td>0.0</td>\n",
       "      <td>1.0</td>\n",
       "      <td>0.0</td>\n",
       "    </tr>\n",
       "    <tr>\n",
       "      <th>626</th>\n",
       "      <td>3</td>\n",
       "      <td>0.0</td>\n",
       "      <td>1.0</td>\n",
       "      <td>0.0</td>\n",
       "    </tr>\n",
       "    <tr>\n",
       "      <th>641</th>\n",
       "      <td>3</td>\n",
       "      <td>0.0</td>\n",
       "      <td>1.0</td>\n",
       "      <td>0.0</td>\n",
       "    </tr>\n",
       "    <tr>\n",
       "      <th>...</th>\n",
       "      <td>...</td>\n",
       "      <td>...</td>\n",
       "      <td>...</td>\n",
       "      <td>...</td>\n",
       "    </tr>\n",
       "    <tr>\n",
       "      <th>308777</th>\n",
       "      <td>3</td>\n",
       "      <td>0.0</td>\n",
       "      <td>1.0</td>\n",
       "      <td>0.0</td>\n",
       "    </tr>\n",
       "    <tr>\n",
       "      <th>309264</th>\n",
       "      <td>3</td>\n",
       "      <td>0.0</td>\n",
       "      <td>1.0</td>\n",
       "      <td>0.0</td>\n",
       "    </tr>\n",
       "    <tr>\n",
       "      <th>309438</th>\n",
       "      <td>3</td>\n",
       "      <td>0.0</td>\n",
       "      <td>1.0</td>\n",
       "      <td>0.0</td>\n",
       "    </tr>\n",
       "    <tr>\n",
       "      <th>309449</th>\n",
       "      <td>3</td>\n",
       "      <td>0.0</td>\n",
       "      <td>1.0</td>\n",
       "      <td>0.0</td>\n",
       "    </tr>\n",
       "    <tr>\n",
       "      <th>309509</th>\n",
       "      <td>3</td>\n",
       "      <td>0.0</td>\n",
       "      <td>1.0</td>\n",
       "      <td>0.0</td>\n",
       "    </tr>\n",
       "  </tbody>\n",
       "</table>\n",
       "<p>2570 rows × 4 columns</p>\n",
       "</div>"
      ],
      "text/plain": [
       "        edad  ed_niv  ed_inas  hli\n",
       "55         3     0.0      1.0  0.0\n",
       "485        3     0.0      1.0  0.0\n",
       "520        3     0.0      1.0  0.0\n",
       "626        3     0.0      1.0  0.0\n",
       "641        3     0.0      1.0  0.0\n",
       "...      ...     ...      ...  ...\n",
       "308777     3     0.0      1.0  0.0\n",
       "309264     3     0.0      1.0  0.0\n",
       "309438     3     0.0      1.0  0.0\n",
       "309449     3     0.0      1.0  0.0\n",
       "309509     3     0.0      1.0  0.0\n",
       "\n",
       "[2570 rows x 4 columns]"
      ]
     },
     "execution_count": 387,
     "metadata": {},
     "output_type": "execute_result"
    }
   ],
   "source": [
    "df_limpieza_ed['ed_inas'].value_counts(dropna=False,normalize=True)\n",
    "df_limpieza_ed.loc[df_limpieza_ed['ed_inas']==1, ['edad','ed_niv', 'ed_inas','hli']]"
   ]
  },
  {
   "cell_type": "markdown",
   "metadata": {},
   "source": [
    "A partir de los valores de inasistencia a la escuela para niños de 3 años, observamos que un 55.81% no asiste, mientras que un 44.19% asiste. Considerando que sólo 2 de ellos tienen un grado de escolaridad de primaria, sabemos que aquellos que asisten a la escuela están en su mayoría, todavía debajo del nivel de primaria. Considerando que en 2022, la SEP considera ingreso de niños de 4 años a 2do de preescolar y siendo 1ro de preescolar no obligatorio (Jalisco, 2022), para esta investigación asumirermos que en su mayoría, ningún niño con edad menos a 3 años asiste a la escuela. <ins>Decidimos reemplazar los nulos de asistencia a la escuela (considerando preescolar como la escolaridad más baja)</ins>.\n",
    "\n",
    "> Fuente: \n",
    "Jalisco. (2022). EN FEBRERO SON LAS PREINSCRIPCIONES A EDUCACIÓN BÁSICA PARA EL CICLO ESCOLAR 2022-2023. Recuperado de: https://www.jalisco.gob.mx/es/gobierno/comunicados/en-febrero-son-las-preinscripciones-educacion-basica-para-el-ciclo-escolar-2022"
   ]
  },
  {
   "cell_type": "markdown",
   "metadata": {},
   "source": [
    "#### Hablantes de lengua indígena"
   ]
  },
  {
   "cell_type": "code",
   "execution_count": 388,
   "metadata": {},
   "outputs": [
    {
     "data": {
      "text/plain": [
       "0.0    0.959175\n",
       "1.0    0.040825\n",
       "Name: hli, dtype: float64"
      ]
     },
     "execution_count": 388,
     "metadata": {},
     "output_type": "execute_result"
    },
    {
     "data": {
      "text/html": [
       "<div>\n",
       "<style scoped>\n",
       "    .dataframe tbody tr th:only-of-type {\n",
       "        vertical-align: middle;\n",
       "    }\n",
       "\n",
       "    .dataframe tbody tr th {\n",
       "        vertical-align: top;\n",
       "    }\n",
       "\n",
       "    .dataframe thead th {\n",
       "        text-align: right;\n",
       "    }\n",
       "</style>\n",
       "<table border=\"1\" class=\"dataframe\">\n",
       "  <thead>\n",
       "    <tr style=\"text-align: right;\">\n",
       "      <th></th>\n",
       "      <th>edad</th>\n",
       "      <th>ed_niv</th>\n",
       "      <th>ed_inas</th>\n",
       "      <th>hli</th>\n",
       "    </tr>\n",
       "  </thead>\n",
       "  <tbody>\n",
       "    <tr>\n",
       "      <th>12343</th>\n",
       "      <td>3</td>\n",
       "      <td>0.0</td>\n",
       "      <td>0.0</td>\n",
       "      <td>1.0</td>\n",
       "    </tr>\n",
       "    <tr>\n",
       "      <th>19059</th>\n",
       "      <td>3</td>\n",
       "      <td>0.0</td>\n",
       "      <td>1.0</td>\n",
       "      <td>1.0</td>\n",
       "    </tr>\n",
       "    <tr>\n",
       "      <th>19064</th>\n",
       "      <td>3</td>\n",
       "      <td>0.0</td>\n",
       "      <td>1.0</td>\n",
       "      <td>1.0</td>\n",
       "    </tr>\n",
       "    <tr>\n",
       "      <th>38740</th>\n",
       "      <td>3</td>\n",
       "      <td>0.0</td>\n",
       "      <td>0.0</td>\n",
       "      <td>1.0</td>\n",
       "    </tr>\n",
       "    <tr>\n",
       "      <th>63262</th>\n",
       "      <td>3</td>\n",
       "      <td>0.0</td>\n",
       "      <td>0.0</td>\n",
       "      <td>1.0</td>\n",
       "    </tr>\n",
       "    <tr>\n",
       "      <th>...</th>\n",
       "      <td>...</td>\n",
       "      <td>...</td>\n",
       "      <td>...</td>\n",
       "      <td>...</td>\n",
       "    </tr>\n",
       "    <tr>\n",
       "      <th>297886</th>\n",
       "      <td>3</td>\n",
       "      <td>0.0</td>\n",
       "      <td>0.0</td>\n",
       "      <td>1.0</td>\n",
       "    </tr>\n",
       "    <tr>\n",
       "      <th>299406</th>\n",
       "      <td>3</td>\n",
       "      <td>0.0</td>\n",
       "      <td>0.0</td>\n",
       "      <td>1.0</td>\n",
       "    </tr>\n",
       "    <tr>\n",
       "      <th>299427</th>\n",
       "      <td>3</td>\n",
       "      <td>0.0</td>\n",
       "      <td>1.0</td>\n",
       "      <td>1.0</td>\n",
       "    </tr>\n",
       "    <tr>\n",
       "      <th>299548</th>\n",
       "      <td>3</td>\n",
       "      <td>0.0</td>\n",
       "      <td>0.0</td>\n",
       "      <td>1.0</td>\n",
       "    </tr>\n",
       "    <tr>\n",
       "      <th>300283</th>\n",
       "      <td>3</td>\n",
       "      <td>0.0</td>\n",
       "      <td>0.0</td>\n",
       "      <td>1.0</td>\n",
       "    </tr>\n",
       "  </tbody>\n",
       "</table>\n",
       "<p>188 rows × 4 columns</p>\n",
       "</div>"
      ],
      "text/plain": [
       "        edad  ed_niv  ed_inas  hli\n",
       "12343      3     0.0      0.0  1.0\n",
       "19059      3     0.0      1.0  1.0\n",
       "19064      3     0.0      1.0  1.0\n",
       "38740      3     0.0      0.0  1.0\n",
       "63262      3     0.0      0.0  1.0\n",
       "...      ...     ...      ...  ...\n",
       "297886     3     0.0      0.0  1.0\n",
       "299406     3     0.0      0.0  1.0\n",
       "299427     3     0.0      1.0  1.0\n",
       "299548     3     0.0      0.0  1.0\n",
       "300283     3     0.0      0.0  1.0\n",
       "\n",
       "[188 rows x 4 columns]"
      ]
     },
     "execution_count": 388,
     "metadata": {},
     "output_type": "execute_result"
    }
   ],
   "source": [
    "df_limpieza_ed['hli'].value_counts(dropna=False,normalize=True)\n",
    "df_limpieza_ed.loc[df_limpieza_ed['hli']==1, ['edad','ed_niv', 'ed_inas','hli']]"
   ]
  },
  {
   "cell_type": "markdown",
   "metadata": {},
   "source": [
    "A partir de los valores de habla de lengua indígena para niños de 3 años, observamos que un 95.92% no lo habla, mientras que un 4.08% sí habla una lengua indígena. Similarmente al nivel educativo, vemos que el caso de habla indígena es más improbable que probable. Además, se debería considerar que los niños menores de 3 años tendrían que saber hablar y vivir/estar en contacto directo con un cuidador que también hable alguna lengua o vivir en una población indígena. Debido a las probabilidades observadas y considerando la edad de los encuestados, <ins>cecidimos reemplazar los nulos de habla indígena con un 0</ins>.  \n",
    "\n",
    "Otra de las posibles maneras de abordar estos datos, podría ser la creación de un modelo predictivo en base a probabilidad de habla indígena según edad, además de considerar el área en donde el menor encuestado vive."
   ]
  },
  {
   "cell_type": "markdown",
   "metadata": {},
   "source": [
    "#### Reemplazo de Nulos"
   ]
  },
  {
   "cell_type": "code",
   "execution_count": 389,
   "metadata": {},
   "outputs": [],
   "source": [
    "df.loc[df['edad'] < 3, ['ed_niv', 'ed_inas','hli']] = 0,0,0"
   ]
  },
  {
   "cell_type": "markdown",
   "metadata": {},
   "source": [
    "### Limpieza de columna discap !!!! TODO !!!!"
   ]
  },
  {
   "cell_type": "markdown",
   "metadata": {},
   "source": [
    "A partir del análisis del habla indígena, la inasistencia y el nivel educativo, creemos que la edad puede estar fuertemente relacionada a "
   ]
  },
  {
   "cell_type": "code",
   "execution_count": 390,
   "metadata": {},
   "outputs": [
    {
     "data": {
      "text/html": [
       "<div>\n",
       "<style scoped>\n",
       "    .dataframe tbody tr th:only-of-type {\n",
       "        vertical-align: middle;\n",
       "    }\n",
       "\n",
       "    .dataframe tbody tr th {\n",
       "        vertical-align: top;\n",
       "    }\n",
       "\n",
       "    .dataframe thead th {\n",
       "        text-align: right;\n",
       "    }\n",
       "</style>\n",
       "<table border=\"1\" class=\"dataframe\">\n",
       "  <thead>\n",
       "    <tr style=\"text-align: right;\">\n",
       "      <th></th>\n",
       "      <th>edad</th>\n",
       "      <th>discap</th>\n",
       "      <th>pea</th>\n",
       "    </tr>\n",
       "  </thead>\n",
       "  <tbody>\n",
       "    <tr>\n",
       "      <th>848</th>\n",
       "      <td>49</td>\n",
       "      <td>NaN</td>\n",
       "      <td>0.0</td>\n",
       "    </tr>\n",
       "    <tr>\n",
       "      <th>868</th>\n",
       "      <td>60</td>\n",
       "      <td>NaN</td>\n",
       "      <td>0.0</td>\n",
       "    </tr>\n",
       "    <tr>\n",
       "      <th>1023</th>\n",
       "      <td>50</td>\n",
       "      <td>NaN</td>\n",
       "      <td>0.0</td>\n",
       "    </tr>\n",
       "    <tr>\n",
       "      <th>1383</th>\n",
       "      <td>36</td>\n",
       "      <td>NaN</td>\n",
       "      <td>0.0</td>\n",
       "    </tr>\n",
       "    <tr>\n",
       "      <th>1417</th>\n",
       "      <td>36</td>\n",
       "      <td>NaN</td>\n",
       "      <td>0.0</td>\n",
       "    </tr>\n",
       "    <tr>\n",
       "      <th>...</th>\n",
       "      <td>...</td>\n",
       "      <td>...</td>\n",
       "      <td>...</td>\n",
       "    </tr>\n",
       "    <tr>\n",
       "      <th>307616</th>\n",
       "      <td>74</td>\n",
       "      <td>NaN</td>\n",
       "      <td>0.0</td>\n",
       "    </tr>\n",
       "    <tr>\n",
       "      <th>307986</th>\n",
       "      <td>84</td>\n",
       "      <td>NaN</td>\n",
       "      <td>0.0</td>\n",
       "    </tr>\n",
       "    <tr>\n",
       "      <th>308822</th>\n",
       "      <td>86</td>\n",
       "      <td>NaN</td>\n",
       "      <td>0.0</td>\n",
       "    </tr>\n",
       "    <tr>\n",
       "      <th>309221</th>\n",
       "      <td>83</td>\n",
       "      <td>NaN</td>\n",
       "      <td>0.0</td>\n",
       "    </tr>\n",
       "    <tr>\n",
       "      <th>309434</th>\n",
       "      <td>78</td>\n",
       "      <td>NaN</td>\n",
       "      <td>0.0</td>\n",
       "    </tr>\n",
       "  </tbody>\n",
       "</table>\n",
       "<p>400 rows × 3 columns</p>\n",
       "</div>"
      ],
      "text/plain": [
       "        edad  discap  pea\n",
       "848       49     NaN  0.0\n",
       "868       60     NaN  0.0\n",
       "1023      50     NaN  0.0\n",
       "1383      36     NaN  0.0\n",
       "1417      36     NaN  0.0\n",
       "...      ...     ...  ...\n",
       "307616    74     NaN  0.0\n",
       "307986    84     NaN  0.0\n",
       "308822    86     NaN  0.0\n",
       "309221    83     NaN  0.0\n",
       "309434    78     NaN  0.0\n",
       "\n",
       "[400 rows x 3 columns]"
      ]
     },
     "execution_count": 390,
     "metadata": {},
     "output_type": "execute_result"
    }
   ],
   "source": [
    "df_limpieza_discap = df[df['discap'].isna()][[\"edad\",\"discap\",\"pea\"]]    \n",
    "df_limpieza_discap"
   ]
  },
  {
   "cell_type": "code",
   "execution_count": 391,
   "metadata": {},
   "outputs": [
    {
     "data": {
      "text/plain": [
       "0.0    0.9925\n",
       "2.0    0.0075\n",
       "Name: pea, dtype: float64"
      ]
     },
     "execution_count": 391,
     "metadata": {},
     "output_type": "execute_result"
    }
   ],
   "source": [
    "df_limpieza_discap['pea'].value_counts(dropna=False,normalize=True)"
   ]
  },
  {
   "cell_type": "code",
   "execution_count": 392,
   "metadata": {},
   "outputs": [
    {
     "data": {
      "text/html": [
       "<div>\n",
       "<style scoped>\n",
       "    .dataframe tbody tr th:only-of-type {\n",
       "        vertical-align: middle;\n",
       "    }\n",
       "\n",
       "    .dataframe tbody tr th {\n",
       "        vertical-align: top;\n",
       "    }\n",
       "\n",
       "    .dataframe thead th {\n",
       "        text-align: right;\n",
       "    }\n",
       "</style>\n",
       "<table border=\"1\" class=\"dataframe\">\n",
       "  <thead>\n",
       "    <tr style=\"text-align: right;\">\n",
       "      <th></th>\n",
       "      <th>edad</th>\n",
       "      <th>discap</th>\n",
       "      <th>pea</th>\n",
       "    </tr>\n",
       "  </thead>\n",
       "  <tbody>\n",
       "    <tr>\n",
       "      <th>8</th>\n",
       "      <td>87</td>\n",
       "      <td>1.0</td>\n",
       "      <td>0.0</td>\n",
       "    </tr>\n",
       "    <tr>\n",
       "      <th>13</th>\n",
       "      <td>57</td>\n",
       "      <td>1.0</td>\n",
       "      <td>1.0</td>\n",
       "    </tr>\n",
       "    <tr>\n",
       "      <th>25</th>\n",
       "      <td>69</td>\n",
       "      <td>1.0</td>\n",
       "      <td>1.0</td>\n",
       "    </tr>\n",
       "    <tr>\n",
       "      <th>26</th>\n",
       "      <td>70</td>\n",
       "      <td>1.0</td>\n",
       "      <td>0.0</td>\n",
       "    </tr>\n",
       "    <tr>\n",
       "      <th>52</th>\n",
       "      <td>68</td>\n",
       "      <td>1.0</td>\n",
       "      <td>0.0</td>\n",
       "    </tr>\n",
       "    <tr>\n",
       "      <th>...</th>\n",
       "      <td>...</td>\n",
       "      <td>...</td>\n",
       "      <td>...</td>\n",
       "    </tr>\n",
       "    <tr>\n",
       "      <th>309433</th>\n",
       "      <td>87</td>\n",
       "      <td>1.0</td>\n",
       "      <td>0.0</td>\n",
       "    </tr>\n",
       "    <tr>\n",
       "      <th>309463</th>\n",
       "      <td>76</td>\n",
       "      <td>1.0</td>\n",
       "      <td>1.0</td>\n",
       "    </tr>\n",
       "    <tr>\n",
       "      <th>309466</th>\n",
       "      <td>33</td>\n",
       "      <td>1.0</td>\n",
       "      <td>2.0</td>\n",
       "    </tr>\n",
       "    <tr>\n",
       "      <th>309488</th>\n",
       "      <td>68</td>\n",
       "      <td>1.0</td>\n",
       "      <td>0.0</td>\n",
       "    </tr>\n",
       "    <tr>\n",
       "      <th>309500</th>\n",
       "      <td>84</td>\n",
       "      <td>1.0</td>\n",
       "      <td>0.0</td>\n",
       "    </tr>\n",
       "  </tbody>\n",
       "</table>\n",
       "<p>21846 rows × 3 columns</p>\n",
       "</div>"
      ],
      "text/plain": [
       "        edad  discap  pea\n",
       "8         87     1.0  0.0\n",
       "13        57     1.0  1.0\n",
       "25        69     1.0  1.0\n",
       "26        70     1.0  0.0\n",
       "52        68     1.0  0.0\n",
       "...      ...     ...  ...\n",
       "309433    87     1.0  0.0\n",
       "309463    76     1.0  1.0\n",
       "309466    33     1.0  2.0\n",
       "309488    68     1.0  0.0\n",
       "309500    84     1.0  0.0\n",
       "\n",
       "[21846 rows x 3 columns]"
      ]
     },
     "execution_count": 392,
     "metadata": {},
     "output_type": "execute_result"
    }
   ],
   "source": [
    "df[df['discap']==1][[\"edad\",\"discap\",\"pea\"]]    "
   ]
  },
  {
   "cell_type": "markdown",
   "metadata": {},
   "source": [
    "### Limpieza de otros indicadores"
   ]
  },
  {
   "cell_type": "markdown",
   "metadata": {},
   "source": [
    "Las columnas con valores restantes, son indicadores. Para idear maneras de limpieza a estos datos, primero hay que tener en cuenta de que hay dependencias entre ellos, ya que algunos son calculados sobre otros. Entre paréntesis se indican la cantidad de nulos por columna.\n",
    "\n",
    "**Dependen de ic**\n",
    "+ ic_1(14) y ic_3(14): son calculadas a partir del conteo de indicadores de carencias que tiene la persona.\n",
    "+ vul_ic(14) y int_vul_ic(14): vulnerabilidad calculada a partir de carencias.\n",
    "    + **Dependen de vulnerabilidad**: no_pob_vul(14), vul_ing(14), cuadrantes(14)\n",
    "+ int_ic(14): intensidad calculada a partir de carencias.\n",
    "+ pobreza(14), pobreza_m(14) y pobreza_e(14):\n",
    "    + **De pobreza dependen**: int_pob_e(14), int_pob(14), priv_prof(14), priv(14)\n",
    "\n",
    "IC incluye las carencias de servicios básicos (icsb) y de carencias de vivienda (icv). Ambos tienen 7 nulos faltantes, y entre algunas variables de las que dependen, se encuentran icsb_comb y icv_pisos respectivamente, que también tienen 7 variables faltantes. Primero analizamos estas 4 variables, para verificar que los nulos son dados gracias a los datos faltantes de icsb_comb y icsv_pisos."
   ]
  },
  {
   "cell_type": "code",
   "execution_count": 393,
   "metadata": {},
   "outputs": [
    {
     "data": {
      "text/html": [
       "<div>\n",
       "<style scoped>\n",
       "    .dataframe tbody tr th:only-of-type {\n",
       "        vertical-align: middle;\n",
       "    }\n",
       "\n",
       "    .dataframe tbody tr th {\n",
       "        vertical-align: top;\n",
       "    }\n",
       "\n",
       "    .dataframe thead th {\n",
       "        text-align: right;\n",
       "    }\n",
       "</style>\n",
       "<table border=\"1\" class=\"dataframe\">\n",
       "  <thead>\n",
       "    <tr style=\"text-align: right;\">\n",
       "      <th></th>\n",
       "      <th>folioviv</th>\n",
       "      <th>foliohog</th>\n",
       "      <th>numren</th>\n",
       "      <th>icsb</th>\n",
       "      <th>icsb_comb</th>\n",
       "      <th>icv</th>\n",
       "      <th>icv_pisos</th>\n",
       "      <th>ic_1</th>\n",
       "      <th>ic_3</th>\n",
       "      <th>vul_ic</th>\n",
       "      <th>...</th>\n",
       "      <th>no_pob_vul</th>\n",
       "      <th>cuadrantes</th>\n",
       "      <th>int_ic</th>\n",
       "      <th>pobreza_m</th>\n",
       "      <th>pobreza_e</th>\n",
       "      <th>int_pob_e</th>\n",
       "      <th>pobreza</th>\n",
       "      <th>int_pob</th>\n",
       "      <th>priv</th>\n",
       "      <th>priv_prof</th>\n",
       "    </tr>\n",
       "  </thead>\n",
       "  <tbody>\n",
       "    <tr>\n",
       "      <th>21356</th>\n",
       "      <td>260304608</td>\n",
       "      <td>1</td>\n",
       "      <td>1</td>\n",
       "      <td>NaN</td>\n",
       "      <td>NaN</td>\n",
       "      <td>1.0</td>\n",
       "      <td>0.0</td>\n",
       "      <td>NaN</td>\n",
       "      <td>NaN</td>\n",
       "      <td>NaN</td>\n",
       "      <td>...</td>\n",
       "      <td>NaN</td>\n",
       "      <td>NaN</td>\n",
       "      <td>NaN</td>\n",
       "      <td>NaN</td>\n",
       "      <td>NaN</td>\n",
       "      <td>NaN</td>\n",
       "      <td>NaN</td>\n",
       "      <td>NaN</td>\n",
       "      <td>NaN</td>\n",
       "      <td>NaN</td>\n",
       "    </tr>\n",
       "    <tr>\n",
       "      <th>54384</th>\n",
       "      <td>600372506</td>\n",
       "      <td>1</td>\n",
       "      <td>1</td>\n",
       "      <td>NaN</td>\n",
       "      <td>NaN</td>\n",
       "      <td>0.0</td>\n",
       "      <td>0.0</td>\n",
       "      <td>NaN</td>\n",
       "      <td>NaN</td>\n",
       "      <td>NaN</td>\n",
       "      <td>...</td>\n",
       "      <td>NaN</td>\n",
       "      <td>NaN</td>\n",
       "      <td>NaN</td>\n",
       "      <td>NaN</td>\n",
       "      <td>NaN</td>\n",
       "      <td>NaN</td>\n",
       "      <td>NaN</td>\n",
       "      <td>NaN</td>\n",
       "      <td>NaN</td>\n",
       "      <td>NaN</td>\n",
       "    </tr>\n",
       "    <tr>\n",
       "      <th>167693</th>\n",
       "      <td>1760142722</td>\n",
       "      <td>1</td>\n",
       "      <td>1</td>\n",
       "      <td>NaN</td>\n",
       "      <td>NaN</td>\n",
       "      <td>1.0</td>\n",
       "      <td>0.0</td>\n",
       "      <td>NaN</td>\n",
       "      <td>NaN</td>\n",
       "      <td>NaN</td>\n",
       "      <td>...</td>\n",
       "      <td>NaN</td>\n",
       "      <td>NaN</td>\n",
       "      <td>NaN</td>\n",
       "      <td>NaN</td>\n",
       "      <td>NaN</td>\n",
       "      <td>NaN</td>\n",
       "      <td>NaN</td>\n",
       "      <td>NaN</td>\n",
       "      <td>NaN</td>\n",
       "      <td>NaN</td>\n",
       "    </tr>\n",
       "    <tr>\n",
       "      <th>167694</th>\n",
       "      <td>1760142722</td>\n",
       "      <td>1</td>\n",
       "      <td>2</td>\n",
       "      <td>NaN</td>\n",
       "      <td>NaN</td>\n",
       "      <td>1.0</td>\n",
       "      <td>0.0</td>\n",
       "      <td>NaN</td>\n",
       "      <td>NaN</td>\n",
       "      <td>NaN</td>\n",
       "      <td>...</td>\n",
       "      <td>NaN</td>\n",
       "      <td>NaN</td>\n",
       "      <td>NaN</td>\n",
       "      <td>NaN</td>\n",
       "      <td>NaN</td>\n",
       "      <td>NaN</td>\n",
       "      <td>NaN</td>\n",
       "      <td>NaN</td>\n",
       "      <td>NaN</td>\n",
       "      <td>NaN</td>\n",
       "    </tr>\n",
       "    <tr>\n",
       "      <th>167695</th>\n",
       "      <td>1760142722</td>\n",
       "      <td>1</td>\n",
       "      <td>3</td>\n",
       "      <td>NaN</td>\n",
       "      <td>NaN</td>\n",
       "      <td>1.0</td>\n",
       "      <td>0.0</td>\n",
       "      <td>NaN</td>\n",
       "      <td>NaN</td>\n",
       "      <td>NaN</td>\n",
       "      <td>...</td>\n",
       "      <td>NaN</td>\n",
       "      <td>NaN</td>\n",
       "      <td>NaN</td>\n",
       "      <td>NaN</td>\n",
       "      <td>NaN</td>\n",
       "      <td>NaN</td>\n",
       "      <td>NaN</td>\n",
       "      <td>NaN</td>\n",
       "      <td>NaN</td>\n",
       "      <td>NaN</td>\n",
       "    </tr>\n",
       "    <tr>\n",
       "      <th>167696</th>\n",
       "      <td>1760142722</td>\n",
       "      <td>1</td>\n",
       "      <td>4</td>\n",
       "      <td>NaN</td>\n",
       "      <td>NaN</td>\n",
       "      <td>1.0</td>\n",
       "      <td>0.0</td>\n",
       "      <td>NaN</td>\n",
       "      <td>NaN</td>\n",
       "      <td>NaN</td>\n",
       "      <td>...</td>\n",
       "      <td>NaN</td>\n",
       "      <td>NaN</td>\n",
       "      <td>NaN</td>\n",
       "      <td>NaN</td>\n",
       "      <td>NaN</td>\n",
       "      <td>NaN</td>\n",
       "      <td>NaN</td>\n",
       "      <td>NaN</td>\n",
       "      <td>NaN</td>\n",
       "      <td>NaN</td>\n",
       "    </tr>\n",
       "    <tr>\n",
       "      <th>222439</th>\n",
       "      <td>2301910005</td>\n",
       "      <td>1</td>\n",
       "      <td>1</td>\n",
       "      <td>NaN</td>\n",
       "      <td>NaN</td>\n",
       "      <td>0.0</td>\n",
       "      <td>0.0</td>\n",
       "      <td>NaN</td>\n",
       "      <td>NaN</td>\n",
       "      <td>NaN</td>\n",
       "      <td>...</td>\n",
       "      <td>NaN</td>\n",
       "      <td>NaN</td>\n",
       "      <td>NaN</td>\n",
       "      <td>NaN</td>\n",
       "      <td>NaN</td>\n",
       "      <td>NaN</td>\n",
       "      <td>NaN</td>\n",
       "      <td>NaN</td>\n",
       "      <td>NaN</td>\n",
       "      <td>NaN</td>\n",
       "    </tr>\n",
       "    <tr>\n",
       "      <th>101656</th>\n",
       "      <td>1060357601</td>\n",
       "      <td>1</td>\n",
       "      <td>1</td>\n",
       "      <td>0.0</td>\n",
       "      <td>0.0</td>\n",
       "      <td>NaN</td>\n",
       "      <td>NaN</td>\n",
       "      <td>NaN</td>\n",
       "      <td>NaN</td>\n",
       "      <td>NaN</td>\n",
       "      <td>...</td>\n",
       "      <td>NaN</td>\n",
       "      <td>NaN</td>\n",
       "      <td>NaN</td>\n",
       "      <td>NaN</td>\n",
       "      <td>NaN</td>\n",
       "      <td>NaN</td>\n",
       "      <td>NaN</td>\n",
       "      <td>NaN</td>\n",
       "      <td>NaN</td>\n",
       "      <td>NaN</td>\n",
       "    </tr>\n",
       "    <tr>\n",
       "      <th>101657</th>\n",
       "      <td>1060357601</td>\n",
       "      <td>1</td>\n",
       "      <td>2</td>\n",
       "      <td>0.0</td>\n",
       "      <td>0.0</td>\n",
       "      <td>NaN</td>\n",
       "      <td>NaN</td>\n",
       "      <td>NaN</td>\n",
       "      <td>NaN</td>\n",
       "      <td>NaN</td>\n",
       "      <td>...</td>\n",
       "      <td>NaN</td>\n",
       "      <td>NaN</td>\n",
       "      <td>NaN</td>\n",
       "      <td>NaN</td>\n",
       "      <td>NaN</td>\n",
       "      <td>NaN</td>\n",
       "      <td>NaN</td>\n",
       "      <td>NaN</td>\n",
       "      <td>NaN</td>\n",
       "      <td>NaN</td>\n",
       "    </tr>\n",
       "    <tr>\n",
       "      <th>101658</th>\n",
       "      <td>1060357601</td>\n",
       "      <td>1</td>\n",
       "      <td>3</td>\n",
       "      <td>0.0</td>\n",
       "      <td>0.0</td>\n",
       "      <td>NaN</td>\n",
       "      <td>NaN</td>\n",
       "      <td>NaN</td>\n",
       "      <td>NaN</td>\n",
       "      <td>NaN</td>\n",
       "      <td>...</td>\n",
       "      <td>NaN</td>\n",
       "      <td>NaN</td>\n",
       "      <td>NaN</td>\n",
       "      <td>NaN</td>\n",
       "      <td>NaN</td>\n",
       "      <td>NaN</td>\n",
       "      <td>NaN</td>\n",
       "      <td>NaN</td>\n",
       "      <td>NaN</td>\n",
       "      <td>NaN</td>\n",
       "    </tr>\n",
       "    <tr>\n",
       "      <th>101659</th>\n",
       "      <td>1060357601</td>\n",
       "      <td>1</td>\n",
       "      <td>4</td>\n",
       "      <td>0.0</td>\n",
       "      <td>0.0</td>\n",
       "      <td>NaN</td>\n",
       "      <td>NaN</td>\n",
       "      <td>NaN</td>\n",
       "      <td>NaN</td>\n",
       "      <td>NaN</td>\n",
       "      <td>...</td>\n",
       "      <td>NaN</td>\n",
       "      <td>NaN</td>\n",
       "      <td>NaN</td>\n",
       "      <td>NaN</td>\n",
       "      <td>NaN</td>\n",
       "      <td>NaN</td>\n",
       "      <td>NaN</td>\n",
       "      <td>NaN</td>\n",
       "      <td>NaN</td>\n",
       "      <td>NaN</td>\n",
       "    </tr>\n",
       "    <tr>\n",
       "      <th>101660</th>\n",
       "      <td>1060357601</td>\n",
       "      <td>1</td>\n",
       "      <td>5</td>\n",
       "      <td>0.0</td>\n",
       "      <td>0.0</td>\n",
       "      <td>NaN</td>\n",
       "      <td>NaN</td>\n",
       "      <td>NaN</td>\n",
       "      <td>NaN</td>\n",
       "      <td>NaN</td>\n",
       "      <td>...</td>\n",
       "      <td>NaN</td>\n",
       "      <td>NaN</td>\n",
       "      <td>NaN</td>\n",
       "      <td>NaN</td>\n",
       "      <td>NaN</td>\n",
       "      <td>NaN</td>\n",
       "      <td>NaN</td>\n",
       "      <td>NaN</td>\n",
       "      <td>NaN</td>\n",
       "      <td>NaN</td>\n",
       "    </tr>\n",
       "    <tr>\n",
       "      <th>101661</th>\n",
       "      <td>1060357601</td>\n",
       "      <td>1</td>\n",
       "      <td>6</td>\n",
       "      <td>0.0</td>\n",
       "      <td>0.0</td>\n",
       "      <td>NaN</td>\n",
       "      <td>NaN</td>\n",
       "      <td>NaN</td>\n",
       "      <td>NaN</td>\n",
       "      <td>NaN</td>\n",
       "      <td>...</td>\n",
       "      <td>NaN</td>\n",
       "      <td>NaN</td>\n",
       "      <td>NaN</td>\n",
       "      <td>NaN</td>\n",
       "      <td>NaN</td>\n",
       "      <td>NaN</td>\n",
       "      <td>NaN</td>\n",
       "      <td>NaN</td>\n",
       "      <td>NaN</td>\n",
       "      <td>NaN</td>\n",
       "    </tr>\n",
       "    <tr>\n",
       "      <th>101662</th>\n",
       "      <td>1060357601</td>\n",
       "      <td>1</td>\n",
       "      <td>7</td>\n",
       "      <td>0.0</td>\n",
       "      <td>0.0</td>\n",
       "      <td>NaN</td>\n",
       "      <td>NaN</td>\n",
       "      <td>NaN</td>\n",
       "      <td>NaN</td>\n",
       "      <td>NaN</td>\n",
       "      <td>...</td>\n",
       "      <td>NaN</td>\n",
       "      <td>NaN</td>\n",
       "      <td>NaN</td>\n",
       "      <td>NaN</td>\n",
       "      <td>NaN</td>\n",
       "      <td>NaN</td>\n",
       "      <td>NaN</td>\n",
       "      <td>NaN</td>\n",
       "      <td>NaN</td>\n",
       "      <td>NaN</td>\n",
       "    </tr>\n",
       "  </tbody>\n",
       "</table>\n",
       "<p>14 rows × 22 columns</p>\n",
       "</div>"
      ],
      "text/plain": [
       "          folioviv  foliohog  numren  icsb  icsb_comb  icv  icv_pisos  ic_1  \\\n",
       "21356    260304608         1       1   NaN        NaN  1.0        0.0   NaN   \n",
       "54384    600372506         1       1   NaN        NaN  0.0        0.0   NaN   \n",
       "167693  1760142722         1       1   NaN        NaN  1.0        0.0   NaN   \n",
       "167694  1760142722         1       2   NaN        NaN  1.0        0.0   NaN   \n",
       "167695  1760142722         1       3   NaN        NaN  1.0        0.0   NaN   \n",
       "167696  1760142722         1       4   NaN        NaN  1.0        0.0   NaN   \n",
       "222439  2301910005         1       1   NaN        NaN  0.0        0.0   NaN   \n",
       "101656  1060357601         1       1   0.0        0.0  NaN        NaN   NaN   \n",
       "101657  1060357601         1       2   0.0        0.0  NaN        NaN   NaN   \n",
       "101658  1060357601         1       3   0.0        0.0  NaN        NaN   NaN   \n",
       "101659  1060357601         1       4   0.0        0.0  NaN        NaN   NaN   \n",
       "101660  1060357601         1       5   0.0        0.0  NaN        NaN   NaN   \n",
       "101661  1060357601         1       6   0.0        0.0  NaN        NaN   NaN   \n",
       "101662  1060357601         1       7   0.0        0.0  NaN        NaN   NaN   \n",
       "\n",
       "        ic_3  vul_ic  ...  no_pob_vul  cuadrantes  int_ic  pobreza_m  \\\n",
       "21356    NaN     NaN  ...         NaN         NaN     NaN        NaN   \n",
       "54384    NaN     NaN  ...         NaN         NaN     NaN        NaN   \n",
       "167693   NaN     NaN  ...         NaN         NaN     NaN        NaN   \n",
       "167694   NaN     NaN  ...         NaN         NaN     NaN        NaN   \n",
       "167695   NaN     NaN  ...         NaN         NaN     NaN        NaN   \n",
       "167696   NaN     NaN  ...         NaN         NaN     NaN        NaN   \n",
       "222439   NaN     NaN  ...         NaN         NaN     NaN        NaN   \n",
       "101656   NaN     NaN  ...         NaN         NaN     NaN        NaN   \n",
       "101657   NaN     NaN  ...         NaN         NaN     NaN        NaN   \n",
       "101658   NaN     NaN  ...         NaN         NaN     NaN        NaN   \n",
       "101659   NaN     NaN  ...         NaN         NaN     NaN        NaN   \n",
       "101660   NaN     NaN  ...         NaN         NaN     NaN        NaN   \n",
       "101661   NaN     NaN  ...         NaN         NaN     NaN        NaN   \n",
       "101662   NaN     NaN  ...         NaN         NaN     NaN        NaN   \n",
       "\n",
       "        pobreza_e  int_pob_e  pobreza  int_pob  priv  priv_prof  \n",
       "21356         NaN        NaN      NaN      NaN   NaN        NaN  \n",
       "54384         NaN        NaN      NaN      NaN   NaN        NaN  \n",
       "167693        NaN        NaN      NaN      NaN   NaN        NaN  \n",
       "167694        NaN        NaN      NaN      NaN   NaN        NaN  \n",
       "167695        NaN        NaN      NaN      NaN   NaN        NaN  \n",
       "167696        NaN        NaN      NaN      NaN   NaN        NaN  \n",
       "222439        NaN        NaN      NaN      NaN   NaN        NaN  \n",
       "101656        NaN        NaN      NaN      NaN   NaN        NaN  \n",
       "101657        NaN        NaN      NaN      NaN   NaN        NaN  \n",
       "101658        NaN        NaN      NaN      NaN   NaN        NaN  \n",
       "101659        NaN        NaN      NaN      NaN   NaN        NaN  \n",
       "101660        NaN        NaN      NaN      NaN   NaN        NaN  \n",
       "101661        NaN        NaN      NaN      NaN   NaN        NaN  \n",
       "101662        NaN        NaN      NaN      NaN   NaN        NaN  \n",
       "\n",
       "[14 rows x 22 columns]"
      ]
     },
     "execution_count": 393,
     "metadata": {},
     "output_type": "execute_result"
    },
    {
     "data": {
      "text/plain": [
       "folioviv       0\n",
       "foliohog       0\n",
       "numren         0\n",
       "icsb           7\n",
       "icsb_comb      7\n",
       "icv            7\n",
       "icv_pisos      7\n",
       "ic_1          14\n",
       "ic_3          14\n",
       "vul_ic        14\n",
       "int_vul_ic    14\n",
       "vul_ing       14\n",
       "no_pob_vul    14\n",
       "cuadrantes    14\n",
       "int_ic        14\n",
       "pobreza_m     14\n",
       "pobreza_e     14\n",
       "int_pob_e     14\n",
       "pobreza       14\n",
       "int_pob       14\n",
       "priv          14\n",
       "priv_prof     14\n",
       "dtype: int64"
      ]
     },
     "execution_count": 393,
     "metadata": {},
     "output_type": "execute_result"
    }
   ],
   "source": [
    "df_limpieza_ind = df[df['icsb'].isna()]\n",
    "df_limpieza_ind = df_limpieza_ind.append(df[df['icv'].isna()])\n",
    "df_limpieza_ind = df_limpieza_ind[[\"folioviv\",\"foliohog\",\"numren\",\"icsb\",\"icsb_comb\",\"icv\",\"icv_pisos\",\"ic_1\",\"ic_3\",\"vul_ic\",\"int_vul_ic\",\"vul_ing\",\"no_pob_vul\",\"cuadrantes\",\"int_ic\",\"pobreza_m\",\"pobreza_e\",\"int_pob_e\",\"pobreza\",\"int_pob\",\"priv\",\"priv_prof\",]]\n",
    "df_limpieza_ind\n",
    "df_limpieza_ind.isnull().sum()"
   ]
  },
  {
   "cell_type": "markdown",
   "metadata": {},
   "source": [
    "A partir de esta búsqueda, encontramos que <ins>los causantes de las 14 observaciones nulas en las columnas, son los 7 datos faltantes en icsb_comb y los otros 7 datos faltantes en icv_pisos</ins>.  \n",
    "Además, podemos ver que la información faltante afecta a la misma casa (llave compuesta de folioviv + foliohog). Estos datos faltantes no se pueden asumir, por lo que una idea es corroborar si hay información faltante en todos los miembros encuestados de esa casa. \n",
    "* En caso de encontrar otro miembro de la casa, se podrían llenar los mismos datos de acceso a combustible y total de pisos en la vivienda."
   ]
  },
  {
   "cell_type": "code",
   "execution_count": 394,
   "metadata": {},
   "outputs": [
    {
     "data": {
      "text/html": [
       "<div>\n",
       "<style scoped>\n",
       "    .dataframe tbody tr th:only-of-type {\n",
       "        vertical-align: middle;\n",
       "    }\n",
       "\n",
       "    .dataframe tbody tr th {\n",
       "        vertical-align: top;\n",
       "    }\n",
       "\n",
       "    .dataframe thead th {\n",
       "        text-align: right;\n",
       "    }\n",
       "</style>\n",
       "<table border=\"1\" class=\"dataframe\">\n",
       "  <thead>\n",
       "    <tr style=\"text-align: right;\">\n",
       "      <th></th>\n",
       "      <th></th>\n",
       "      <th>numren</th>\n",
       "    </tr>\n",
       "    <tr>\n",
       "      <th>folioviv</th>\n",
       "      <th>foliohog</th>\n",
       "      <th></th>\n",
       "    </tr>\n",
       "  </thead>\n",
       "  <tbody>\n",
       "    <tr>\n",
       "      <th>260304608</th>\n",
       "      <th>1</th>\n",
       "      <td>1</td>\n",
       "    </tr>\n",
       "    <tr>\n",
       "      <th>600372506</th>\n",
       "      <th>1</th>\n",
       "      <td>1</td>\n",
       "    </tr>\n",
       "    <tr>\n",
       "      <th>1060357601</th>\n",
       "      <th>1</th>\n",
       "      <td>7</td>\n",
       "    </tr>\n",
       "    <tr>\n",
       "      <th>1760142722</th>\n",
       "      <th>1</th>\n",
       "      <td>4</td>\n",
       "    </tr>\n",
       "    <tr>\n",
       "      <th>2301910005</th>\n",
       "      <th>1</th>\n",
       "      <td>1</td>\n",
       "    </tr>\n",
       "  </tbody>\n",
       "</table>\n",
       "</div>"
      ],
      "text/plain": [
       "                     numren\n",
       "folioviv   foliohog        \n",
       "260304608  1              1\n",
       "600372506  1              1\n",
       "1060357601 1              7\n",
       "1760142722 1              4\n",
       "2301910005 1              1"
      ]
     },
     "execution_count": 394,
     "metadata": {},
     "output_type": "execute_result"
    },
    {
     "data": {
      "text/html": [
       "<div>\n",
       "<style scoped>\n",
       "    .dataframe tbody tr th:only-of-type {\n",
       "        vertical-align: middle;\n",
       "    }\n",
       "\n",
       "    .dataframe tbody tr th {\n",
       "        vertical-align: top;\n",
       "    }\n",
       "\n",
       "    .dataframe thead th {\n",
       "        text-align: right;\n",
       "    }\n",
       "</style>\n",
       "<table border=\"1\" class=\"dataframe\">\n",
       "  <thead>\n",
       "    <tr style=\"text-align: right;\">\n",
       "      <th></th>\n",
       "      <th></th>\n",
       "      <th>numren</th>\n",
       "    </tr>\n",
       "    <tr>\n",
       "      <th>folioviv</th>\n",
       "      <th>foliohog</th>\n",
       "      <th></th>\n",
       "    </tr>\n",
       "  </thead>\n",
       "  <tbody>\n",
       "    <tr>\n",
       "      <th>260304608</th>\n",
       "      <th>1</th>\n",
       "      <td>1</td>\n",
       "    </tr>\n",
       "    <tr>\n",
       "      <th>600372506</th>\n",
       "      <th>1</th>\n",
       "      <td>1</td>\n",
       "    </tr>\n",
       "    <tr>\n",
       "      <th>1060357601</th>\n",
       "      <th>1</th>\n",
       "      <td>7</td>\n",
       "    </tr>\n",
       "    <tr>\n",
       "      <th>1760142722</th>\n",
       "      <th>1</th>\n",
       "      <td>4</td>\n",
       "    </tr>\n",
       "    <tr>\n",
       "      <th>2301910005</th>\n",
       "      <th>1</th>\n",
       "      <td>1</td>\n",
       "    </tr>\n",
       "  </tbody>\n",
       "</table>\n",
       "</div>"
      ],
      "text/plain": [
       "                     numren\n",
       "folioviv   foliohog        \n",
       "260304608  1              1\n",
       "600372506  1              1\n",
       "1060357601 1              7\n",
       "1760142722 1              4\n",
       "2301910005 1              1"
      ]
     },
     "execution_count": 394,
     "metadata": {},
     "output_type": "execute_result"
    }
   ],
   "source": [
    "# Encontramos la cantidad de residentes en cada vivienda, a partir de los datos de los 14 nulos\n",
    "df_limpieza_ind[['folioviv','foliohog','numren']].groupby(['folioviv','foliohog']).count()\n",
    "\n",
    "# Lista de IDs encontrados\n",
    "ids_limpieza_ind = df_limpieza_ind['folioviv'].tolist()\n",
    "\n",
    "# Encontramos la cantidad de residentes en cada vivienda, a partir del dataset original\n",
    "df_limpieza_ind_2 = df.loc[df['folioviv'].isin(ids_limpieza_ind)][['folioviv','foliohog','numren']]\n",
    "df_limpieza_ind_2.groupby(['folioviv','foliohog']).count()"
   ]
  },
  {
   "cell_type": "markdown",
   "metadata": {},
   "source": [
    "Como se pudo ver, no hay ningún residente extra en la casa de quienes tuvieron un valor nulo. Por lo tanto, no se puede obtener información verídica sobre el acceso a combustible y los pisos de la vivienda. Por ello y dado que son sólo 14 observaciones de más de 350k, <ins>se decidió eliminar estas observaciones del dataset</ins>."
   ]
  },
  {
   "cell_type": "code",
   "execution_count": 395,
   "metadata": {},
   "outputs": [],
   "source": [
    "df = df[~df['folioviv'].isin(ids_limpieza_ind)]"
   ]
  },
  {
   "cell_type": "markdown",
   "metadata": {},
   "source": [
    "### Verificaciones Finales"
   ]
  },
  {
   "cell_type": "code",
   "execution_count": 396,
   "metadata": {},
   "outputs": [
    {
     "data": {
      "text/plain": [
       "discap    400\n",
       "dtype: int64"
      ]
     },
     "execution_count": 396,
     "metadata": {},
     "output_type": "execute_result"
    }
   ],
   "source": [
    "# Verificamos que ya no hay datos faltantes\n",
    "null_data = df.isnull().sum()\n",
    "null_data = null_data[null_data > 0].sort_values(ascending=False)\n",
    "null_data"
   ]
  },
  {
   "cell_type": "code",
   "execution_count": 397,
   "metadata": {},
   "outputs": [
    {
     "data": {
      "text/plain": [
       "0"
      ]
     },
     "execution_count": 397,
     "metadata": {},
     "output_type": "execute_result"
    }
   ],
   "source": [
    "# Podemos observar que no hay duplicaciones de datos\n",
    "df.duplicated().sum()"
   ]
  },
  {
   "cell_type": "markdown",
   "metadata": {},
   "source": [
    "## Exportación  \n",
    "Es un df.to_csv()"
   ]
  },
  {
   "cell_type": "markdown",
   "metadata": {},
   "source": [
    "## Análisis Univariado #1\n",
    "Michelle Figueroa Jacques is727328"
   ]
  },
  {
   "cell_type": "code",
   "execution_count": 21,
   "metadata": {},
   "outputs": [],
   "source": [
    "nominales_1 = []\n",
    "ordinales_1 = [] \n",
    "intervalo_1 = []\n",
    "razon_1 = []"
   ]
  },
  {
   "cell_type": "code",
   "execution_count": 22,
   "metadata": {},
   "outputs": [],
   "source": [
    "# Conversión de nominales a categóricos\n",
    "for i in nominales_1:\n",
    "    df[i] = df[i].astype('category')\n",
    "    "
   ]
  },
  {
   "cell_type": "markdown",
   "metadata": {},
   "source": [
    "### Cardinalidad y Exploración de Muestras\n",
    "Estos se realizan para Categóricas Nominales y Ordinales"
   ]
  },
  {
   "cell_type": "markdown",
   "metadata": {},
   "source": [
    "#### Cardinalidad"
   ]
  },
  {
   "cell_type": "code",
   "execution_count": 23,
   "metadata": {},
   "outputs": [],
   "source": [
    "for i in nominales_1 + ordinales_1:\n",
    "    print(i)\n",
    "    df[i].unique()\n",
    "    print()    "
   ]
  },
  {
   "cell_type": "markdown",
   "metadata": {},
   "source": [
    "##### Hallazgo"
   ]
  },
  {
   "cell_type": "markdown",
   "metadata": {},
   "source": [
    "#### Conteo"
   ]
  },
  {
   "cell_type": "code",
   "execution_count": 24,
   "metadata": {},
   "outputs": [],
   "source": [
    "for i in nominales_1 + ordinales_1:\n",
    "    print(i)\n",
    "    df[i].value_counts()\n",
    "    print()"
   ]
  },
  {
   "cell_type": "markdown",
   "metadata": {},
   "source": [
    "##### Hallazgo"
   ]
  },
  {
   "cell_type": "markdown",
   "metadata": {},
   "source": [
    "#### Transformaciones Adicionales"
   ]
  },
  {
   "cell_type": "markdown",
   "metadata": {},
   "source": [
    "### Estadística Descriptiva\n"
   ]
  },
  {
   "cell_type": "code",
   "execution_count": 26,
   "metadata": {},
   "outputs": [],
   "source": [
    "for i in nominales_1 + ordinales_1:\n",
    "    print(i)\n",
    "    df[i].describe()\n",
    "    print()"
   ]
  },
  {
   "cell_type": "markdown",
   "metadata": {},
   "source": [
    "### Gráficos\n"
   ]
  },
  {
   "cell_type": "markdown",
   "metadata": {},
   "source": []
  },
  {
   "cell_type": "markdown",
   "metadata": {},
   "source": [
    "## Análisis Univariado #2\n",
    "Sofía Vargas Aceves is727375"
   ]
  },
  {
   "cell_type": "code",
   "execution_count": null,
   "metadata": {},
   "outputs": [],
   "source": [
    "nominales_2 = []\n",
    "ordinales_2 = [] \n",
    "intervalo_2 = []\n",
    "razon_2 = []"
   ]
  },
  {
   "cell_type": "code",
   "execution_count": null,
   "metadata": {},
   "outputs": [],
   "source": [
    "# Conversión de nominales a categóricos\n",
    "for i in nominales_2:\n",
    "    df[i] = df[i].astype('category')\n",
    "    "
   ]
  },
  {
   "cell_type": "markdown",
   "metadata": {},
   "source": [
    "### Cardinalidad y Exploración de Muestras\n",
    "Estos se realizan para Categóricas Nominales y Ordinales"
   ]
  },
  {
   "cell_type": "markdown",
   "metadata": {},
   "source": [
    "#### Cardinalidad"
   ]
  },
  {
   "cell_type": "code",
   "execution_count": null,
   "metadata": {},
   "outputs": [],
   "source": [
    "for i in nominales_2 + ordinales_2:\n",
    "    print(i)\n",
    "    df[i].unique()\n",
    "    print()    "
   ]
  },
  {
   "cell_type": "markdown",
   "metadata": {},
   "source": [
    "##### Hallazgo"
   ]
  },
  {
   "cell_type": "markdown",
   "metadata": {},
   "source": [
    "#### Conteo"
   ]
  },
  {
   "cell_type": "code",
   "execution_count": null,
   "metadata": {},
   "outputs": [],
   "source": [
    "for i in nominales_2 + ordinales_2:\n",
    "    print(i)\n",
    "    df[i].value_counts()\n",
    "    print()"
   ]
  },
  {
   "cell_type": "markdown",
   "metadata": {},
   "source": [
    "##### Hallazgo"
   ]
  },
  {
   "cell_type": "markdown",
   "metadata": {},
   "source": [
    "#### Transformaciones Adicionales"
   ]
  },
  {
   "cell_type": "markdown",
   "metadata": {},
   "source": [
    "### Estadística Descriptiva\n"
   ]
  },
  {
   "cell_type": "code",
   "execution_count": null,
   "metadata": {},
   "outputs": [],
   "source": [
    "for i in nominales_2 + ordinales_2:\n",
    "    print(i)\n",
    "    df[i].describe()\n",
    "    print()"
   ]
  },
  {
   "cell_type": "markdown",
   "metadata": {},
   "source": [
    "### Gráficos\n"
   ]
  },
  {
   "cell_type": "markdown",
   "metadata": {},
   "source": []
  },
  {
   "cell_type": "markdown",
   "metadata": {},
   "source": [
    "## Análisis Univariado #3\n",
    "Gabriel"
   ]
  },
  {
   "cell_type": "code",
   "execution_count": null,
   "metadata": {},
   "outputs": [],
   "source": [
    "nominales_3 = []\n",
    "ordinales_3 = [] \n",
    "intervalo_3 = []\n",
    "razon_3 = []"
   ]
  },
  {
   "cell_type": "code",
   "execution_count": null,
   "metadata": {},
   "outputs": [],
   "source": [
    "# Conversión de nominales a categóricos\n",
    "for i in nominales_3:\n",
    "    df[i] = df[i].astype('category')\n",
    "    "
   ]
  },
  {
   "cell_type": "markdown",
   "metadata": {},
   "source": [
    "### Cardinalidad y Exploración de Muestras\n",
    "Estos se realizan para Categóricas Nominales y Ordinales"
   ]
  },
  {
   "cell_type": "markdown",
   "metadata": {},
   "source": [
    "#### Cardinalidad"
   ]
  },
  {
   "cell_type": "code",
   "execution_count": null,
   "metadata": {},
   "outputs": [],
   "source": [
    "for i in nominales_3 + ordinales_3:\n",
    "    print(i)\n",
    "    df[i].unique()\n",
    "    print()    "
   ]
  },
  {
   "cell_type": "markdown",
   "metadata": {},
   "source": [
    "##### Hallazgo"
   ]
  },
  {
   "cell_type": "markdown",
   "metadata": {},
   "source": [
    "#### Conteo"
   ]
  },
  {
   "cell_type": "code",
   "execution_count": null,
   "metadata": {},
   "outputs": [],
   "source": [
    "for i in nominales_3 + ordinales_3:\n",
    "    print(i)\n",
    "    df[i].value_counts()\n",
    "    print()"
   ]
  },
  {
   "cell_type": "markdown",
   "metadata": {},
   "source": [
    "##### Hallazgo"
   ]
  },
  {
   "cell_type": "markdown",
   "metadata": {},
   "source": [
    "#### Transformaciones Adicionales"
   ]
  },
  {
   "cell_type": "markdown",
   "metadata": {},
   "source": [
    "### Estadística Descriptiva\n"
   ]
  },
  {
   "cell_type": "code",
   "execution_count": null,
   "metadata": {},
   "outputs": [],
   "source": [
    "for i in nominales_3 + ordinales_3:\n",
    "    print(i)\n",
    "    df[i].describe()\n",
    "    print()"
   ]
  },
  {
   "cell_type": "markdown",
   "metadata": {},
   "source": [
    "### Gráficos\n"
   ]
  },
  {
   "cell_type": "markdown",
   "metadata": {},
   "source": []
  },
  {
   "cell_type": "markdown",
   "metadata": {},
   "source": [
    "## Análisis Univariado #4\n",
    "Miguel Mario Méndez"
   ]
  },
  {
   "cell_type": "code",
   "execution_count": null,
   "metadata": {},
   "outputs": [],
   "source": [
    "nominales_4 = []\n",
    "ordinales_4 = [] \n",
    "intervalo_4 = []\n",
    "razon_4 = []"
   ]
  },
  {
   "cell_type": "code",
   "execution_count": null,
   "metadata": {},
   "outputs": [],
   "source": [
    "# Conversión de nominales a categóricos\n",
    "for i in nominales_4:\n",
    "    df[i] = df[i].astype('category')\n",
    "    "
   ]
  },
  {
   "cell_type": "markdown",
   "metadata": {},
   "source": [
    "### Cardinalidad y Exploración de Muestras\n",
    "Estos se realizan para Categóricas Nominales y Ordinales"
   ]
  },
  {
   "cell_type": "markdown",
   "metadata": {},
   "source": [
    "#### Cardinalidad"
   ]
  },
  {
   "cell_type": "code",
   "execution_count": null,
   "metadata": {},
   "outputs": [],
   "source": [
    "for i in nominales_4 + ordinales_4:\n",
    "    print(i)\n",
    "    df[i].unique()\n",
    "    print()    "
   ]
  },
  {
   "cell_type": "markdown",
   "metadata": {},
   "source": [
    "##### Hallazgo"
   ]
  },
  {
   "cell_type": "markdown",
   "metadata": {},
   "source": [
    "#### Conteo"
   ]
  },
  {
   "cell_type": "code",
   "execution_count": null,
   "metadata": {},
   "outputs": [],
   "source": [
    "for i in nominales_4 + ordinales_4:\n",
    "    print(i)\n",
    "    df[i].value_counts()\n",
    "    print()"
   ]
  },
  {
   "cell_type": "markdown",
   "metadata": {},
   "source": [
    "##### Hallazgo"
   ]
  },
  {
   "cell_type": "markdown",
   "metadata": {},
   "source": [
    "#### Transformaciones Adicionales"
   ]
  },
  {
   "cell_type": "markdown",
   "metadata": {},
   "source": [
    "### Estadística Descriptiva\n"
   ]
  },
  {
   "cell_type": "code",
   "execution_count": null,
   "metadata": {},
   "outputs": [],
   "source": [
    "for i in nominales_4 + ordinales_4:\n",
    "    print(i)\n",
    "    df[i].describe()\n",
    "    print()"
   ]
  },
  {
   "cell_type": "markdown",
   "metadata": {},
   "source": [
    "### Gráficos\n"
   ]
  }
 ],
 "metadata": {
  "kernelspec": {
   "display_name": "DeepEnv",
   "language": "python",
   "name": "python3"
  },
  "language_info": {
   "codemirror_mode": {
    "name": "ipython",
    "version": 3
   },
   "file_extension": ".py",
   "mimetype": "text/x-python",
   "name": "python",
   "nbconvert_exporter": "python",
   "pygments_lexer": "ipython3",
   "version": "3.8.12"
  },
  "orig_nbformat": 4
 },
 "nbformat": 4,
 "nbformat_minor": 2
}
