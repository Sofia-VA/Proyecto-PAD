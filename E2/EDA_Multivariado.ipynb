{
 "cells": [
  {
   "cell_type": "markdown",
   "metadata": {},
   "source": [
    "> # Proyecto Entrega 2\n",
    "> ##### &nbsp;&nbsp;&nbsp;&nbsp; Análisis Exploratorio Multivariado\n",
    "> - **Fecha**: 25/10/2023  |  ITESO  \n",
    "> - **Materia**: Programación para el Análisis de Datos\n",
    "> - **Alumnos**: \n",
    ">    - Gabriel Alejandro Olvera González is734604\n",
    ">    - Michelle Figueroa Jacques is727328\n",
    ">    - Miguel Mario Méndez Alcaráz is727312\n",
    ">    - Sofía Vargas Aceves is727375  \n",
    ">  <br>"
   ]
  },
  {
   "cell_type": "markdown",
   "metadata": {},
   "source": [
    "### Preguntas de investigación\n",
    "\n",
    "1. ¿Cuáles son los principales determinantes de la pobreza extrema por ingresos en México, considerando variables como educación, acceso a servicios de salud y seguridad social, y calidad de vivienda, y cómo varían estos factores entre diferentes entidades federativas?​\n",
    "\n",
    "2. ¿Existe una correlación significativa entre el nivel de ingresos per cápita en los hogares y la prevalencia de inseguridad alimentaria severa, y qué medidas de intervención podrían reducir esta inseguridad en las poblaciones más vulnerables?​\n",
    "\n",
    "3. ¿Cuál es el impacto del acceso a programas de apoyo social, como el Programa de Adultos Mayores, en la reducción de la pobreza y la mejora de la calidad de vida de las personas mayores en hogares de bajos recursos?​\n",
    "\n",
    "4. ¿Cómo se relacionan los indicadores de privación social y las carencias sociales con la intensidad de la privación social, y qué estrategias podrían implementarse para abordar de manera efectiva estas carencias y mejorar la calidad de vida en hogares vulnerables?​\n",
    "\n",
    "5. ¿Cuál es el efecto de la lengua indígena y la discapacidad en el acceso a servicios de salud, educación y empleo, y cómo se pueden diseñar políticas inclusivas para mejorar la participación y el bienestar de estas poblaciones en riesgo en diferentes regiones de México?\n",
    "\n",
    "\n",
    "#### Unidad de análisis\n",
    "\n",
    "| __Pregunta de investigación__ | __Unidad de análisis__ |\n",
    "| --------------------------------------------------- | ------------------ | \n",
    "| ¿Cuáles son los principales determinantes de la pobreza extrema por ingresos en México y cómo varían estos factores entre diferentes entidades federativas?​ | entidad federativa |  \n",
    "| ---------------------------------------------------- | ------------------ | \n",
    "| ¿Existe una correlación significativa entre el nivel de ingresos per cápita en los hogares y la prevalencia de inseguridad alimentaria severa, y qué medidas de intervención podrían reducir esta inseguridad en las poblaciones más vulnerables?​ | encuestados con inseguridad alimentaria y vulnerabilidad |\n",
    "| ---------------------------------------------------- | ------------------ | \n",
    "| ¿Cuál es el impacto del acceso a programas de apoyo social, como el Programa de Adultos Mayores, en la reducción de la pobreza y la mejora de la calidad de vida de las personas mayores en hogares de bajos recursos?​       | adultos mayores y adultos mayores en el PAM |\n",
    "| ---------------------------------------------------- | ------------------ | \n",
    "| ¿Cómo se relacionan los indicadores de privación social y las carencias sociales con la intensidad de la privación social, y qué estrategias podrían implementarse para abordar de manera efectiva estas carencias y mejorar la calidad de vida en hogares vulnerables?​    | indicadores de privación y carencia social e intensidad de privación |\n",
    "| ---------------------------------------------------- | ------------------ | \n",
    "| ¿Cuál es el efecto de la lengua indígena y la discapacidad en el acceso a servicios de salud, educación y empleo, y cómo se pueden diseñar políticas inclusivas para mejorar la participación y el bienestar de estas poblaciones en riesgo en diferentes regiones de México? | hablantes de lenguas indígenas y con discapacidad |\n"
   ]
  },
  {
   "cell_type": "markdown",
   "metadata": {},
   "source": [
    "## Variables"
   ]
  },
  {
   "cell_type": "markdown",
   "metadata": {},
   "source": [
    "Ya hecho el análisis univariado, las siguientes variables son las que son relevantes para nuestras preguntas de investigación. Aquellas que tengan la fila 'Incluida' marcada con X, estarán dentro de nuestras variables. Las variables marcadas con ~ son aquellas que conforman una variable principal, es decir, son útiles para un análisis más profundo de una variable principal."
   ]
  },
  {
   "cell_type": "markdown",
   "metadata": {},
   "source": [
    "### Llaves"
   ]
  },
  {
   "cell_type": "markdown",
   "metadata": {},
   "source": [
    "|__Incluida__| __ID__ | __Rango__ | __Tipo__ | __Descripción__ |\n",
    "| :---: | --- | --- | --- | --- | \n",
    "|| folioviv  | {100005002,3260797912} | nominal   | Identificador de la vivienda\n",
    "|| foliohog  | {1, 5}                 | nominal   | Identificador del hogar\n",
    "|| numren    | {1, 19}                | ordinal   | Identificador de la persona"
   ]
  },
  {
   "cell_type": "markdown",
   "metadata": {},
   "source": [
    "### De estadística y localización"
   ]
  },
  {
   "cell_type": "markdown",
   "metadata": {},
   "source": [
    "| __Incluida__ | __ID__ | __Rango__ | __Tipo__ | __Descripción__ | __Categorías__\n",
    "| :---: | --- | --- | --- | --- | --- |\n",
    "| X | ent       | {1, 32}       | nominal   | Identificador de la entidad federativa\n",
    "| | est_dis   | {1, 560}      | nominal   |  Estrato de diseño \n",
    "| | factor    | {6, 6470}     |           | Factor de expansión\n",
    "| X | rururb    | {0,1}         | nominal   | Identificador de localidades rurales      | 0)Urbana 1)Rural\n",
    "| X | tam_loc   | {1, 4}        | ordinal   | Tamaño de la localidad                    | 1)>= 100k ,  2)[15k,100k) ,  3)[2.5k,15k) ,  4)<2.5k\n",
    "| | ubica_geo | {1001, 32057} |           | Ubicación geográfica\n",
    "| | upm       | {1, 10232}    | nominal   | Unidad primaria de muestreo    "
   ]
  },
  {
   "cell_type": "markdown",
   "metadata": {},
   "source": [
    "### Información del encuestado"
   ]
  },
  {
   "cell_type": "markdown",
   "metadata": {},
   "source": [
    "#### Información personal"
   ]
  },
  {
   "cell_type": "markdown",
   "metadata": {},
   "source": [
    "\n",
    "| __Incluida__ | __ID__ | __Rango__ | __Tipo__ | __Descripción__ | __Categorías__\n",
    "| :---: | --- | --- | --- | --- | --- |\n",
    "|| a_nacim   | {1913,2022}   | razón     | Año de nacimiento\n",
    "| X | discap    | {0,1}         | nominal   | Población con presencia de discapacidad física o mental | 0)Sin 1)Con\n",
    "| X | edad      | {0, 109}      | intervalo | Edad reportada al momento de la entrevista\n",
    "| X | jub       | {0,1}         | nominal   | Población pensionada o jubilada           | 0)No 1)Sí\n",
    "| X | hli       | {0,1}         | nominal   | Hablante de lengua indígena               | 0)No 1)Sí\n",
    "| X | ed_inas  | {0,1}         | nominal   | Inasistencia a la escuela                 | 0)Sí asiste 1)No asiste\n",
    "| X | ed_niv | {0,3} | ordinal | Nivel educativo | 0)<Primaria , 1)[Primaria,Secundaria) , 2)[Secundaria,Media superior) , 3)[Media superior,Mayor nivel educativo]\n",
    "| X | p_menor   | {0,1}         | nominal   | Hogares con población de 0 a 17 años      | 0)Sin menores 1)Con menores\n",
    "| X | pam       | {0,1}         | nominal   | Programa de adultos mayores               | 0)No recibe 1)Sí recibe\n",
    "| X | sexo      | {1,2}         | nominal   | Sexo                                      | 1)Masculino 2)Femenino\n",
    "| X | tamhogesc | {1, 16.60}    | razón     | Tamaño del hogar ajustado                 \n",
    "|| parentesco| {101,623}     | nominal      | Parentesco con el jefe del hogar (INEGI)\n"
   ]
  },
  {
   "cell_type": "markdown",
   "metadata": {},
   "source": [
    "#### Información de salud y seguro"
   ]
  },
  {
   "cell_type": "markdown",
   "metadata": {},
   "source": [
    "\n",
    "| __Incluida__ | __ID__ | __Rango__ | __Tipo__ | __Descripción__ | __Categorías__\n",
    "| :---: | --- | --- | --- | --- | --- |\n",
    "| X | ali_ins     | {0,3} | ordinal | Grado de Inseguridad Alimentaria | 0)Seguridad alimentaria 1)Inseguridad leve 2)Inseguridad moderada 3)Inseguridad severa\n",
    "|| ali_lim     | {0,1}         | nominal   | Limitación en el consumo de alimentos                      | 0)No limitado 1)Limitado\n",
    "| X | ali_dieta   | {1,3}         | ordinal   | Dieta consumida en los hogares                             | 1)Pobre 2)Limítrofe 3) Aceptable\n",
    "| X | salud_s     | {0,1}         | nominal   | Servicios médicos por otros núcleos familiares o por contratación propia | 0)No cuenta 1)Sí cuenta\n",
    "|~| salud_s_dir | {0,1}         | nominal   | Acceso directo a servicios de salud       | 0)Sin acceso 1)Con acceso\n",
    "|~| ss_dir      | {0,1}         | nominal   | Acceso directo a seguridad social         | 0)Sin acceso 1)Con acceso\n",
    "|~| ss_jef      | {0,1}         | nominal   | Acceso directo a seguridad social de jefatura del hogar| 0)No cuenta 1)Sí cuenta\n",
    "|~| ss_cony     | {0,1}         | nominal   | Acceso directo a seguridad social de cónyugue de jefatura del hogar| 0)No cuenta 1)Sí cuenta\n",
    "|~| ss_hijo     | {0,1}         | nominal   | Acceso directo a seguridad social de hijo de jefatura del hogar| 0)No cuenta 1)Sí cuenta\n",
    "| X | par         | {1,6}         | nominal   | Integrantes que tienen acceso por otros miembros  | Tipo de parentesco con el jefe de vivienda\n"
   ]
  },
  {
   "cell_type": "markdown",
   "metadata": {},
   "source": [
    "#### Información económica"
   ]
  },
  {
   "cell_type": "markdown",
   "metadata": {},
   "source": [
    "\n",
    "|__Incluida__| __ID__ | __Rango__ | __Tipo__ | __Descripción__ | __Categorías__\n",
    "| :---: | --- | --- | --- | --- | --- |\n",
    "| X | ing_t     | {0, 2444444.2} | intervalo | Ingreso corriente total del hogar \n",
    "| X | ing_t_pc  | {0, 1057393.8} | intervalo | Ingreso corriente total per cápita\n",
    "| X | ing_mon   | {0, 2444444.2} | intervalo | Ingreso corriente monetario del hogar\n",
    "|~| ing_lab   | {0, 2444444.2} | intervalo | Ingreso corriente monetario laboral\n",
    "|~| ing_ren   | {0, 252623.5}  | intervalo | Ingreso corriente monetario por rentas\n",
    "|~| ing_tra   | {0, 238695.17} | intervalo | Ingreso corriente monetario por transferencias\n",
    "| X | ing_nomon     | {0, 1012431.1} | intervalo | Ingreso corriente no monetario\n",
    "|~| ing_pago_esp  | {0, 1012431.1} | intervalo | Ingreso corriente no monetario pago especie\n",
    "|~| ing_reg_esp   | {0, 326264.29} | intervalo | Ingreso corriente no monetario regalos especie\n",
    "| X | ing_pam       | {0, 14525.06}  | intervalo | Ingreso promedio mensual por programas de adultos mayores \n",
    "| X | pea           | {0,2}          | nominal   | Población económicamente activa           | 0)PNEA 1)PEA:Ocupada 2)PEA:Desocupada  \n"
   ]
  },
  {
   "cell_type": "markdown",
   "metadata": {},
   "source": [
    "### Indicadores y Escalas"
   ]
  },
  {
   "cell_type": "markdown",
   "metadata": {},
   "source": [
    "#### Indicadores de carencias"
   ]
  },
  {
   "cell_type": "markdown",
   "metadata": {},
   "source": [
    "\n",
    "|__Incluida__| __ID__ | __Rango__ | __Tipo__ | __Descripción__ | __Categorías__\n",
    "|:---:| --- | --- | --- | --- | --- |\n",
    "|| ic_1        | {0, 1}        | nominal   | Población con al menos una carencia social                 | 0)Sin carencias 1)Con al menos una carencia\n",
    "|| ic_3        | {0, 1}        | nominal   | Población con al menos tres carencias sociales             | 0)Sin carencias 1)Con al menos 3 carencias\n",
    "|X| ic_ali      | {0,1}         | nominal   | Por acceso a la alimentación         | 0)No presenta carencia 1)Presenta carencia\n",
    "|X| ic_ali_nc   | {0,1}         | nominal | Por acceso a alimentación nutritiva de calidad | 0)No presenta carencia 1)Presenta carencia\n",
    "|X| ic_salud_s  | {0,1}         | nominal   | Por acceso a servicios de salud      | 0)No presenta carencia 1)Presenta carencia\n",
    "|X| ic_rezedu | {0,1}         | nominal   | Indicador de rezago educativo                              | 0)No hay rezago        1)Presenta rezago\n",
    "|X| ic_segsoc | {0,1}         | nominal   | Por acceso a seguridad social        | 0)No presenta carencia 1)Presenta carencia\n",
    "|X| icv       | {0,1}         | nominal   | Por calidad y espacios de vivienda   | 0)No presenta carencia 1)Presenta carencia\n",
    "|~| icv_pisos | {0,1}         | nominal   | Por material de piso de vivienda     | 0)No presenta carencia 1)Presenta carencia\n",
    "|~| icv_muros | {0,1}         | nominal   | Por material de muros de vivienda    | 0)No presenta carencia 1)Presenta carencia\n",
    "|~| icv_techos| {0,1}         | nominal   | Por material de techos de vivienda   | 0)No presenta carencia 1)Presenta carencia\n",
    "|~| icv_hac   | {0,1}         | nominal   | Por hacinamiento de piso de vivienda | 0)No presenta carencia 1)Presenta carencia\n",
    "|X| icsb      | {0,1}         | nominal   | Por acceso a servivios básicos de vivienda | 0)No presenta carencia 1)Presenta carencia\n",
    "|~| icsb_agua | {0,1}         | nominal   | Por acceso al agua                   | 0)No presenta carencia 1)Presenta carencia\n",
    "|~| icsb_dren | {0,1}         | nominal   | Por servicio de drenaje              | 0)No presenta carencia 1)Presenta carencia\n",
    "|~| icsb_luz  | {0,1}         | nominal   | Por servicios de electricidad        | 0)No presenta carencia 1)Presenta carencia\n",
    "|~| icsb_comb | {0,1}         | nominal   | Por combustible para cocinar         | 0)No presenta carencia 1)Presenta carencia\n"
   ]
  },
  {
   "cell_type": "markdown",
   "metadata": {},
   "source": [
    "#### Otros indicadores y escalas"
   ]
  },
  {
   "cell_type": "markdown",
   "metadata": {},
   "source": [
    "\n",
    "|__Incluida__| __ID__ | __Rango__ | __Tipo__ | __Descripción__ | __Categorías__\n",
    "| :---: | --- | --- | --- | --- | --- |\n",
    "| X | cuadrantes | {1,4}        | nominal | Cuadrantes de bienestar económico y derechos sociales | 1)Pobres 2)Vulnerabes por carencia 3)Vulnerables por ingresos 4)No pobres y no vulnerables\n",
    "| ~ | ia_adulto     | {0, 6}    | nominal | Escala de IA para hogares sin menores de 18 años\n",
    "| ~ | ia_menor      | {0, 12}   | nominal | Escala de IA para hogares con menores de 18 años\n",
    "| ~ | int_pob       | {0, 1}    | razón | Intensidad de la privación social: en situación de pobreza\n",
    "| ~ | int_pob_e     | {0, 1}    | razón | Intensidad de la privación social: en situación de pobreza extrema\n",
    "| ~ | int_vul_ic    | {0, 1}    | razón | Intensidad de la privación social: población vulnerable por carencias\n",
    "| ~ | int_ic        | {0, 1}    | razón | Intensidad de la privación social: población vulnerable por carencias sociales    \n",
    "| X | pobreza       | {0,1}     | nominal | Pobreza                                                                     | 0)No 1) Sí\n",
    "| X | pobreza_l_ing  | {0,1}     | nominal | Población con ingreso menor a la línea de pobreza extrema por ingresos      | 0)>=línea 1)<línea\n",
    "| ~ | pobreza_prof   | {0, 1}    | razón | Índice FGT con alfa igual a 1 (línea de pobreza por ingresos)\n",
    "| X | pobreza_e       | {0,1}     | nominal   | Pobreza extrema                                                             | 0)No 1) Sí\n",
    "| X | pobreza_e_l_ing  | {0,1}     | nominal   | Población con ingreso menor a la línea de pobreza extrema por ingresos      | 0)>=línea 1)<línea\n",
    "| ~ | pobreza_e_prof | {0, 1}    | razón | Índice FGT con alfa igual a 1 (línea de pobreza extrema por ingresos)\n",
    "| X | pobreza_m     | {0,1}     | nominal   | Pobreza moderada                         | 0)No 1) Sí\n",
    "| X | priv          | {0, 6}    | ordinal   | Índice de Privación Social\n",
    "| ~ | priv_prof     | {0, 1}    | ordinal   | Profundidad de la privación social\n",
    "| X | vul_ing       | {0,1}     | nominal   | Población vulnerable por ingresos        | 0)No 1)Sí\n",
    "| X | vul_ic        | {0,1}     | nominal   | Población vulnerable por carencias       | 0)No 1)Sí\n",
    "| X | no_pob_vul    | {0,1}     | nominal   | Población no pobre y no vulnerable       | 0)Pobre y vulnerable 1)No pobre y no vulnerable\n"
   ]
  },
  {
   "cell_type": "markdown",
   "metadata": {},
   "source": []
  }
 ],
 "metadata": {
  "kernelspec": {
   "display_name": "Python 3 (ipykernel)",
   "language": "python",
   "name": "python3"
  },
  "language_info": {
   "codemirror_mode": {
    "name": "ipython",
    "version": 3
   },
   "file_extension": ".py",
   "mimetype": "text/x-python",
   "name": "python",
   "nbconvert_exporter": "python",
   "pygments_lexer": "ipython3",
   "version": "3.11.4"
  }
 },
 "nbformat": 4,
 "nbformat_minor": 2
}
